{
  "nbformat": 4,
  "nbformat_minor": 0,
  "metadata": {
    "colab": {
      "name": "tf2-regression",
      "provenance": [],
      "collapsed_sections": [],
      "authorship_tag": "ABX9TyOKvocgwrPiBEg90A7PKRku",
      "include_colab_link": true
    },
    "kernelspec": {
      "name": "python3",
      "display_name": "Python 3"
    }
  },
  "cells": [
    {
      "cell_type": "markdown",
      "metadata": {
        "id": "view-in-github",
        "colab_type": "text"
      },
      "source": [
        "<a href=\"https://colab.research.google.com/github/attrigirish/python-ml/blob/master/tensorflow/tf2_regression.ipynb\" target=\"_parent\"><img src=\"https://colab.research.google.com/assets/colab-badge.svg\" alt=\"Open In Colab\"/></a>"
      ]
    },
    {
      "cell_type": "code",
      "metadata": {
        "id": "OU05gfAmWQzr",
        "colab_type": "code",
        "colab": {}
      },
      "source": [
        "from numpy import sqrt\n",
        "from pandas import read_csv\n",
        "from sklearn.model_selection import train_test_split\n",
        "from tensorflow.keras import Sequential\n",
        "from tensorflow.keras.layers import Dense"
      ],
      "execution_count": 0,
      "outputs": []
    },
    {
      "cell_type": "code",
      "metadata": {
        "id": "j9619O7sXFUz",
        "colab_type": "code",
        "outputId": "2fcbb6ae-abf0-4152-d250-6bdebad7c4af",
        "colab": {
          "base_uri": "https://localhost:8080/",
          "height": 128
        }
      },
      "source": [
        "# load the dataset\n",
        "path = 'https://raw.githubusercontent.com/attrigirish/python-ml/master/resources/virat.csv'\n",
        "df = read_csv(path)\n",
        "print(df.head())"
      ],
      "execution_count": 0,
      "outputs": [
        {
          "output_type": "stream",
          "text": [
            "   Match  Opponent  Season  Runs\n",
            "0      1         2       1    27\n",
            "1      2         4       2   120\n",
            "2      3         5       2   134\n",
            "3      4         5       1    90\n",
            "4      5         2       2    68\n"
          ],
          "name": "stdout"
        }
      ]
    },
    {
      "cell_type": "code",
      "metadata": {
        "id": "nHGN0BWRXIJT",
        "colab_type": "code",
        "outputId": "95ab2cee-bb7b-4d85-ab1c-de18e0231343",
        "colab": {
          "base_uri": "https://localhost:8080/",
          "height": 239
        }
      },
      "source": [
        "# split into input and output columns\n",
        "X = df[['Match','Opponent','Season']]\n",
        "y = df['Runs']\n",
        "\n",
        "print(X.head())\n",
        "print(y.head())"
      ],
      "execution_count": 0,
      "outputs": [
        {
          "output_type": "stream",
          "text": [
            "   Match  Opponent  Season\n",
            "0      1         2       1\n",
            "1      2         4       2\n",
            "2      3         5       2\n",
            "3      4         5       1\n",
            "4      5         2       2\n",
            "0     27\n",
            "1    120\n",
            "2    134\n",
            "3     90\n",
            "4     68\n",
            "Name: Runs, dtype: int64\n"
          ],
          "name": "stdout"
        }
      ]
    },
    {
      "cell_type": "code",
      "metadata": {
        "id": "BpMqudFzXuZd",
        "colab_type": "code",
        "outputId": "1fd0d6f5-fffc-45c2-f1e4-873fcb6cd77b",
        "colab": {
          "base_uri": "https://localhost:8080/",
          "height": 74
        }
      },
      "source": [
        "# split into train and test datasets\n",
        "X_train, X_test, y_train, y_test = train_test_split(X, y, test_size=0.33)\n",
        "print(X_train.shape, X_test.shape, y_train.shape, y_test.shape)"
      ],
      "execution_count": 0,
      "outputs": [
        {
          "output_type": "stream",
          "text": [
            "(67, 3) (33, 3) (67,) (33,)\n",
            "<class 'pandas.core.frame.DataFrame'> <class 'pandas.core.frame.DataFrame'> <class 'pandas.core.series.Series'> <class 'pandas.core.series.Series'>\n"
          ],
          "name": "stdout"
        }
      ]
    },
    {
      "cell_type": "code",
      "metadata": {
        "id": "rnMlT7R4X1Li",
        "colab_type": "code",
        "outputId": "2d238660-d197-4051-9c12-c469faeea58d",
        "colab": {
          "base_uri": "https://localhost:8080/",
          "height": 36
        }
      },
      "source": [
        "# determine the number of input features\n",
        "n_features = X_train.shape[1]\n",
        "print(n_features)"
      ],
      "execution_count": 0,
      "outputs": [
        {
          "output_type": "stream",
          "text": [
            "3\n"
          ],
          "name": "stdout"
        }
      ]
    },
    {
      "cell_type": "code",
      "metadata": {
        "id": "JgLl0pQaYCQa",
        "colab_type": "code",
        "colab": {}
      },
      "source": [
        "# define model\n",
        "model = Sequential()\n",
        "model.add(Dense(10, activation='relu', kernel_initializer='he_normal', input_shape=(n_features,)))\n",
        "model.add(Dense(8, activation='relu', kernel_initializer='he_normal'))\n",
        "model.add(Dense(1))"
      ],
      "execution_count": 0,
      "outputs": []
    },
    {
      "cell_type": "code",
      "metadata": {
        "id": "fe__I3ekYoHl",
        "colab_type": "code",
        "outputId": "d807d579-e422-4b13-f41a-bbe566133a8f",
        "colab": {
          "base_uri": "https://localhost:8080/",
          "height": 36
        }
      },
      "source": [
        "# compile the model\n",
        "model.compile(optimizer='adam', loss='mse')\n",
        "# fit the model\n",
        "model.fit(X_train, y_train, epochs=150, batch_size=32, verbose=0)\n",
        "# evaluate the model\n",
        "error = model.evaluate(X_test, y_test, verbose=0)\n",
        "print('MSE: %.3f, RMSE: %.3f' % (error, sqrt(error)))"
      ],
      "execution_count": 0,
      "outputs": [
        {
          "output_type": "stream",
          "text": [
            "MSE: 5576.698, RMSE: 74.677\n"
          ],
          "name": "stdout"
        }
      ]
    },
    {
      "cell_type": "code",
      "metadata": {
        "id": "2KMPvLxtZ31f",
        "colab_type": "code",
        "outputId": "a8a1750c-8097-402e-a970-7cdb69d91ece",
        "colab": {
          "base_uri": "https://localhost:8080/",
          "height": 36
        }
      },
      "source": [
        "# make a prediction\n",
        "row = [150,5,2]\n",
        "yhat = model.predict([row])\n",
        "print('Predicted: %.3f' % yhat)"
      ],
      "execution_count": 0,
      "outputs": [
        {
          "output_type": "stream",
          "text": [
            "Predicted: 207.231\n"
          ],
          "name": "stdout"
        }
      ]
    }
  ]
}