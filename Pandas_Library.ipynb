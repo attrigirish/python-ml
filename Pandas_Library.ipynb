{
  "nbformat": 4,
  "nbformat_minor": 0,
  "metadata": {
    "colab": {
      "name": "Pandas Library",
      "version": "0.3.2",
      "provenance": [],
      "collapsed_sections": [],
      "include_colab_link": true
    },
    "kernelspec": {
      "name": "python3",
      "display_name": "Python 3"
    }
  },
  "cells": [
    {
      "cell_type": "markdown",
      "metadata": {
        "id": "view-in-github",
        "colab_type": "text"
      },
      "source": [
        "[View in Colaboratory](https://colab.research.google.com/github/attrigirish/python-ml/blob/master/Pandas_Library.ipynb)"
      ]
    },
    {
      "metadata": {
        "id": "t61brrUnkwAD",
        "colab_type": "text"
      },
      "cell_type": "markdown",
      "source": [
        "# Pandas\n",
        "\n",
        "Pandas is used for data manipulation, analysis and cleaning. Python pandas is well suited for different kinds of data, such as:\n",
        "\n",
        "\n",
        "\n",
        "*   Tabular data with heterogeneously-typed columns\n",
        "*   Ordered and unordered time series data\n",
        "*   Arbitrary matrix data with row & column labels\n",
        "*   Unlabelled data\n",
        "*   Any other form of observational or statistical data sets\n",
        "\n",
        "\n",
        "\n",
        "\n"
      ]
    },
    {
      "metadata": {
        "id": "q_sNui1kmHV9",
        "colab_type": "text"
      },
      "cell_type": "markdown",
      "source": [
        "**Python data structures**\n",
        "\n",
        "1.   Series\n",
        "2.   Data Frame\n"
      ]
    },
    {
      "metadata": {
        "id": "9o5Oz5KUmcrZ",
        "colab_type": "text"
      },
      "cell_type": "markdown",
      "source": [
        "# Series\n",
        "\n",
        "pandas.Series(data=None, index=None, dtype=None)\n",
        "\n",
        "A Series is a one-dimensional labelled array-like object. It is capable of holding any data type, e.g. integers, floats, strings, Python objects, and so on. It can be seen as a data structure with two arrays: one functioning as the index, i.e. the labels, and the other one contains the actual data."
      ]
    },
    {
      "metadata": {
        "id": "k0Vw4cl4mSdz",
        "colab_type": "code",
        "colab": {
          "base_uri": "https://localhost:8080/",
          "height": 206
        },
        "outputId": "504dff91-ca3c-470f-dd89-927164878ba5"
      },
      "cell_type": "code",
      "source": [
        "import pandas as pd\n",
        "data = pd.Series([11, 28, 37, 43, 25, 86])\n",
        "print(data)\n",
        "\n",
        "print()\n",
        "\n",
        "#index and values\n",
        "print(data.index)\n",
        "print(data.values)"
      ],
      "execution_count": 6,
      "outputs": [
        {
          "output_type": "stream",
          "text": [
            "0    11\n",
            "1    28\n",
            "2    37\n",
            "3    43\n",
            "4    25\n",
            "5    86\n",
            "dtype: int64\n",
            "\n",
            "RangeIndex(start=0, stop=6, step=1)\n",
            "[11 28 37 43 25 86]\n"
          ],
          "name": "stdout"
        }
      ]
    },
    {
      "metadata": {
        "id": "jGf5NgmMqECm",
        "colab_type": "text"
      },
      "cell_type": "markdown",
      "source": [
        "**Custom Indexes**"
      ]
    },
    {
      "metadata": {
        "id": "MX3dXX8sqK5f",
        "colab_type": "code",
        "colab": {
          "base_uri": "https://localhost:8080/",
          "height": 231
        },
        "outputId": "35729d7a-c765-4157-f199-10f35bd7d7fa"
      },
      "cell_type": "code",
      "source": [
        "import pandas as pd\n",
        "import requests\n",
        "\n",
        "site='http://gadgetworld.000webhostapp.com/getproducts.php?cid=8'\n",
        "response=requests.get(site)\n",
        "data=response.json()\n",
        "df=pd.DataFrame(data,columns=['name','price'],index=data['productid'])\n",
        "#df=df.set_index('productid')\n",
        "print(df)\n",
        "\n"
      ],
      "execution_count": 44,
      "outputs": [
        {
          "output_type": "error",
          "ename": "TypeError",
          "evalue": "ignored",
          "traceback": [
            "\u001b[0;31m---------------------------------------------------------------------------\u001b[0m",
            "\u001b[0;31mTypeError\u001b[0m                                 Traceback (most recent call last)",
            "\u001b[0;32m<ipython-input-44-dc34f505454b>\u001b[0m in \u001b[0;36m<module>\u001b[0;34m()\u001b[0m\n\u001b[1;32m      5\u001b[0m \u001b[0mresponse\u001b[0m\u001b[0;34m=\u001b[0m\u001b[0mrequests\u001b[0m\u001b[0;34m.\u001b[0m\u001b[0mget\u001b[0m\u001b[0;34m(\u001b[0m\u001b[0msite\u001b[0m\u001b[0;34m)\u001b[0m\u001b[0;34m\u001b[0m\u001b[0m\n\u001b[1;32m      6\u001b[0m \u001b[0mdata\u001b[0m\u001b[0;34m=\u001b[0m\u001b[0mresponse\u001b[0m\u001b[0;34m.\u001b[0m\u001b[0mjson\u001b[0m\u001b[0;34m(\u001b[0m\u001b[0;34m)\u001b[0m\u001b[0;34m\u001b[0m\u001b[0m\n\u001b[0;32m----> 7\u001b[0;31m \u001b[0mdf\u001b[0m\u001b[0;34m=\u001b[0m\u001b[0mpd\u001b[0m\u001b[0;34m.\u001b[0m\u001b[0mDataFrame\u001b[0m\u001b[0;34m(\u001b[0m\u001b[0mdata\u001b[0m\u001b[0;34m,\u001b[0m\u001b[0mcolumns\u001b[0m\u001b[0;34m=\u001b[0m\u001b[0;34m[\u001b[0m\u001b[0;34m'name'\u001b[0m\u001b[0;34m,\u001b[0m\u001b[0;34m'price'\u001b[0m\u001b[0;34m]\u001b[0m\u001b[0;34m,\u001b[0m\u001b[0mindex\u001b[0m\u001b[0;34m=\u001b[0m\u001b[0mdata\u001b[0m\u001b[0;34m[\u001b[0m\u001b[0;34m'productid'\u001b[0m\u001b[0;34m]\u001b[0m\u001b[0;34m)\u001b[0m\u001b[0;34m\u001b[0m\u001b[0m\n\u001b[0m\u001b[1;32m      8\u001b[0m \u001b[0;31m#df=df.set_index('productid')\u001b[0m\u001b[0;34m\u001b[0m\u001b[0;34m\u001b[0m\u001b[0m\n\u001b[1;32m      9\u001b[0m \u001b[0mprint\u001b[0m\u001b[0;34m(\u001b[0m\u001b[0mdf\u001b[0m\u001b[0;34m)\u001b[0m\u001b[0;34m\u001b[0m\u001b[0m\n",
            "\u001b[0;31mTypeError\u001b[0m: list indices must be integers or slices, not str"
          ]
        }
      ]
    },
    {
      "metadata": {
        "id": "vDi4gge0rr_u",
        "colab_type": "text"
      },
      "cell_type": "markdown",
      "source": [
        "**Addition of two Series**"
      ]
    },
    {
      "metadata": {
        "id": "EYG7yyjJrx-t",
        "colab_type": "code",
        "colab": {
          "base_uri": "https://localhost:8080/",
          "height": 168
        },
        "outputId": "da554620-e17e-413e-86d1-31bd1cff2534"
      },
      "cell_type": "code",
      "source": [
        "students=['Girish Attri','Neha Dhamija','Ravi Verma','Ankit Jain','Nikhil']\n",
        "term1_marks=[43,35,65,45,49]\n",
        "term2_marks=[42,49,43,40,42]\n",
        "\n",
        "s1=pd.Series(term1_marks, students)\n",
        "s2=pd.Series(term2_marks, students)\n",
        "\n",
        "total=s1+s2\n",
        "\n",
        "print(total)\n"
      ],
      "execution_count": 9,
      "outputs": [
        {
          "output_type": "stream",
          "text": [
            "Girish Attri     85\n",
            "Neha Dhamija     84\n",
            "Ravi Verma      108\n",
            "Ankit Jain       85\n",
            "Nikhil           91\n",
            "dtype: int64\n",
            "453\n",
            "108\n"
          ],
          "name": "stdout"
        }
      ]
    },
    {
      "metadata": {
        "id": "bL6jvbazs2iN",
        "colab_type": "code",
        "colab": {
          "base_uri": "https://localhost:8080/",
          "height": 394
        },
        "outputId": "524b7379-e6ec-4401-9eb4-be0a8b7c6788"
      },
      "cell_type": "code",
      "source": [
        "students1=['Girish Attri','Neha Dhamija','Ravi Verma','Ankit Jain','Nikhil']\n",
        "students2=['Nikhil', 'Rahul Sharma','Girish Attri', 'Ankit Jain']\n",
        "term1_marks=[43,35,65,45,49]\n",
        "term2_marks=[42,49,43,40]\n",
        "\n",
        "s1=pd.Series(term1_marks, students1)\n",
        "s2=pd.Series(term2_marks, students2)\n",
        "\n",
        "total=s1+s2\n",
        "\n",
        "print(s1, end='\\n\\n')\n",
        "print(s2, end='\\n\\n')\n",
        "print(total)"
      ],
      "execution_count": 12,
      "outputs": [
        {
          "output_type": "stream",
          "text": [
            "Girish Attri    43\n",
            "Neha Dhamija    35\n",
            "Ravi Verma      65\n",
            "Ankit Jain      45\n",
            "Nikhil          49\n",
            "dtype: int64\n",
            "\n",
            "Nikhil          42\n",
            "Rahul Sharma    49\n",
            "Girish Attri    43\n",
            "Ankit Jain      40\n",
            "dtype: int64\n",
            "\n",
            "Ankit Jain      85.0\n",
            "Girish Attri    86.0\n",
            "Neha Dhamija     NaN\n",
            "Nikhil          91.0\n",
            "Rahul Sharma     NaN\n",
            "Ravi Verma       NaN\n",
            "dtype: float64\n"
          ],
          "name": "stdout"
        }
      ]
    },
    {
      "metadata": {
        "id": "OksAzbpMtl1j",
        "colab_type": "text"
      },
      "cell_type": "markdown",
      "source": [
        "**Access values from a series**"
      ]
    },
    {
      "metadata": {
        "id": "7x75iSmetyPz",
        "colab_type": "code",
        "colab": {
          "base_uri": "https://localhost:8080/",
          "height": 111
        },
        "outputId": "73cd084c-a084-4e91-d6fa-7b9f5c468ea5"
      },
      "cell_type": "code",
      "source": [
        "students=['Girish Attri','Neha Dhamija','Ravi Verma','Ankit Jain','Nikhil']\n",
        "term1_marks=[43,35,65,45,49]\n",
        "\n",
        "s=pd.Series(term1_marks, students)\n",
        "\n",
        "print(s['Girish Attri'])\n",
        "print(s[ ['Girish Attri','Neha Dhamija','Ravi Verma' ] ])"
      ],
      "execution_count": 16,
      "outputs": [
        {
          "output_type": "stream",
          "text": [
            "43\n",
            "Girish Attri    43\n",
            "Neha Dhamija    35\n",
            "Ravi Verma      65\n",
            "dtype: int64\n"
          ],
          "name": "stdout"
        }
      ]
    },
    {
      "metadata": {
        "id": "24Ybq2P3uu8f",
        "colab_type": "text"
      },
      "cell_type": "markdown",
      "source": [
        "**apply**\n",
        "\n",
        "Series.apply(func, convert_dtype=True, args=(), **kwds)\n",
        "\n",
        "The function \"func\" will be applied to the Series and it returns either a Series or a DataFrame, depending on \"func\"."
      ]
    },
    {
      "metadata": {
        "id": "Yogl7zHrvCVd",
        "colab_type": "code",
        "colab": {
          "base_uri": "https://localhost:8080/",
          "height": 243
        },
        "outputId": "cd1cc050-aa68-4be7-f6a3-97d898b54a33"
      },
      "cell_type": "code",
      "source": [
        "students=['Girish Attri','Neha Dhamija','Ravi Verma','Ankit Jain','Nikhil']\n",
        "term1_marks=[43,35,65,45,49]\n",
        "\n",
        "s=pd.Series(term1_marks, students)\n",
        "\n",
        "s=s.apply(lambda x: x-5)\n",
        "print(s)\n",
        "\n",
        "pass_students=s.apply(lambda x: 'Pass' if x>33 else 'Fail')\n",
        "print(pass_students)"
      ],
      "execution_count": 24,
      "outputs": [
        {
          "output_type": "stream",
          "text": [
            "Girish Attri    38\n",
            "Neha Dhamija    30\n",
            "Ravi Verma      60\n",
            "Ankit Jain      40\n",
            "Nikhil          44\n",
            "dtype: int64\n",
            "Girish Attri    Pass\n",
            "Neha Dhamija    Fail\n",
            "Ravi Verma      Pass\n",
            "Ankit Jain      Pass\n",
            "Nikhil          Pass\n",
            "dtype: object\n"
          ],
          "name": "stdout"
        }
      ]
    },
    {
      "metadata": {
        "id": "PTBpEIo2wQm8",
        "colab_type": "code",
        "colab": {
          "base_uri": "https://localhost:8080/",
          "height": 187
        },
        "outputId": "00467068-afff-4825-edda-c30a3d2c9b18"
      },
      "cell_type": "code",
      "source": [
        "#Filtering\n",
        "\n",
        "students=['Girish Attri','Neha Dhamija','Ravi Verma','Ankit Jain','Nikhil']\n",
        "term1_marks=[43,35,65,45,49]\n",
        "\n",
        "s=pd.Series(term1_marks, students)\n",
        "\n",
        "pass_students=s[s>50]\n",
        "fail_students=s[s<50]\n",
        "\n",
        "print(pass_students, end=\"\\n\\n\")\n",
        "print(fail_students, end=\"\\n\\n\")"
      ],
      "execution_count": 28,
      "outputs": [
        {
          "output_type": "stream",
          "text": [
            "Ravi Verma    65\n",
            "dtype: int64\n",
            "\n",
            "Girish Attri    43\n",
            "Neha Dhamija    35\n",
            "Ankit Jain      45\n",
            "Nikhil          49\n",
            "dtype: int64\n",
            "\n"
          ],
          "name": "stdout"
        }
      ]
    },
    {
      "metadata": {
        "id": "hPybduJUw7sh",
        "colab_type": "text"
      },
      "cell_type": "markdown",
      "source": [
        "**Series from Dictionaries**"
      ]
    },
    {
      "metadata": {
        "id": "Mf07L0mww-te",
        "colab_type": "code",
        "colab": {
          "base_uri": "https://localhost:8080/",
          "height": 130
        },
        "outputId": "ca4898b4-3d5d-462b-f52a-d8d25f77fc59"
      },
      "cell_type": "code",
      "source": [
        "marks={\n",
        "    \"Girish Attri\" : 84,\n",
        "    \"Ravi verma\" : 74,\n",
        "    \"Pankaj Sharma\" : 89,\n",
        "    \"Ankit Jain\" : 84,\n",
        "    \"Nikhil Rastogi\" : 89,\n",
        "}\n",
        "\n",
        "s=pd.Series(marks)\n",
        "\n",
        "print(s)"
      ],
      "execution_count": 29,
      "outputs": [
        {
          "output_type": "stream",
          "text": [
            "Ankit Jain        84\n",
            "Girish Attri      84\n",
            "Nikhil Rastogi    89\n",
            "Pankaj Sharma     89\n",
            "Ravi verma        74\n",
            "dtype: int64\n"
          ],
          "name": "stdout"
        }
      ]
    },
    {
      "metadata": {
        "id": "5KGywNb9yLNJ",
        "colab_type": "text"
      },
      "cell_type": "markdown",
      "source": [
        "**NaN (Not a Number)** \n",
        "\n",
        "Filtering and Filling Null Records"
      ]
    },
    {
      "metadata": {
        "id": "IMg881NiycE2",
        "colab_type": "code",
        "colab": {
          "base_uri": "https://localhost:8080/",
          "height": 734
        },
        "outputId": "9c5c4078-1b22-466e-f81a-307163e86e4f"
      },
      "cell_type": "code",
      "source": [
        "marks={\n",
        "    \"Girish Attri\" : 84,\n",
        "    \"Ravi verma\" : 74,\n",
        "    \"Pankaj Sharma\" : None,\n",
        "    \"Ankit Jain\" : 84,\n",
        "    \"Nikhil Rastogi\" : 89,\n",
        "    \"Sanjay Gupta\" : None,\n",
        "    \"Neha Dhamija\" : 84,\n",
        "    \"Shrishti Verma\" : 90\n",
        "}\n",
        "\n",
        "s=pd.Series(marks)\n",
        "\n",
        "print(s, end=\"\\n\\n\")\n",
        "\n",
        "#Filtering NaN\n",
        "print(s.dropna(), end=\"\\n\\n\")\n",
        "\n",
        "#Filling NaN\n",
        "print(s.fillna(0), end=\"\\n\\n\")\n",
        "\n",
        "#Filling Nan with astype\n",
        "print(s.fillna(0).astype(int), end=\"\\n\\n\")"
      ],
      "execution_count": 34,
      "outputs": [
        {
          "output_type": "stream",
          "text": [
            "Ankit Jain        84.0\n",
            "Girish Attri      84.0\n",
            "Neha Dhamija      84.0\n",
            "Nikhil Rastogi    89.0\n",
            "Pankaj Sharma      NaN\n",
            "Ravi verma        74.0\n",
            "Sanjay Gupta       NaN\n",
            "Shrishti Verma    90.0\n",
            "dtype: float64\n",
            "\n",
            "Ankit Jain        84.0\n",
            "Girish Attri      84.0\n",
            "Neha Dhamija      84.0\n",
            "Nikhil Rastogi    89.0\n",
            "Ravi verma        74.0\n",
            "Shrishti Verma    90.0\n",
            "dtype: float64\n",
            "\n",
            "Ankit Jain        84.0\n",
            "Girish Attri      84.0\n",
            "Neha Dhamija      84.0\n",
            "Nikhil Rastogi    89.0\n",
            "Pankaj Sharma      0.0\n",
            "Ravi verma        74.0\n",
            "Sanjay Gupta       0.0\n",
            "Shrishti Verma    90.0\n",
            "dtype: float64\n",
            "\n",
            "Ankit Jain        84\n",
            "Girish Attri      84\n",
            "Neha Dhamija      84\n",
            "Nikhil Rastogi    89\n",
            "Pankaj Sharma      0\n",
            "Ravi verma        74\n",
            "Sanjay Gupta       0\n",
            "Shrishti Verma    90\n",
            "dtype: int64\n",
            "\n"
          ],
          "name": "stdout"
        }
      ]
    },
    {
      "metadata": {
        "id": "7kPG9SiS0JTk",
        "colab_type": "text"
      },
      "cell_type": "markdown",
      "source": [
        "# DataFrames\n",
        "\n",
        "The underlying idea of a DataFrame is based on spreadsheets. We can see the data structure of a DataFrame as tabular and spreadsheet-like. A DataFrame logically corresponds to a \"sheet\" of an Excel document. A DataFrame has both a row and a column index.\n",
        "\n",
        "Like a spreadsheet or Excel sheet, a DataFrame object contains an ordered collection of columns. Each column consists of a unique data typye, but different columns can have different types, e.g. the first column may consist of integers, while the second one consists of boolean values and so on.\n",
        "\n",
        "There is a close connection between the DataFrames and the Series of Pandas. A DataFrame can be seen as a concatenation of Series, each Series having the same index, i.e. the index of the DataFrame."
      ]
    },
    {
      "metadata": {
        "id": "kZjouFBs1ZWB",
        "colab_type": "text"
      },
      "cell_type": "markdown",
      "source": [
        "**Creating DataFrames using Pandas Series**"
      ]
    },
    {
      "metadata": {
        "id": "mTEK-Z550XeK",
        "colab_type": "code",
        "colab": {
          "base_uri": "https://localhost:8080/",
          "height": 394
        },
        "outputId": "60d059df-e8e7-4b13-838b-78ead8394025"
      },
      "cell_type": "code",
      "source": [
        "years = [2014, 2015, 2016, 2017]\n",
        "shop1 = pd.Series([2409.14, 2941.01, 3496.83, 3119.55], index=years)\n",
        "shop2 = pd.Series([1203.45, 3441.62, 3007.83, 3619.53], index=years)\n",
        "shop3 = pd.Series([3412.12, 3491.16, 3457.19, 1963.10], index=years)\n",
        "\n",
        "shops_df = pd.concat( [shop1, shop2, shop3] )           #Column Wise Concatenation\n",
        "print(shops_df, end=\"\\n\\n\")\n",
        "\n",
        "shops_df = pd.concat( [shop1,shop2,shop3], axis=1)\n",
        "print(shops_df, end=\"\\n\\n\")"
      ],
      "execution_count": 38,
      "outputs": [
        {
          "output_type": "stream",
          "text": [
            "2014    2409.14\n",
            "2015    2941.01\n",
            "2016    3496.83\n",
            "2017    3119.55\n",
            "2014    1203.45\n",
            "2015    3441.62\n",
            "2016    3007.83\n",
            "2017    3619.53\n",
            "2014    3412.12\n",
            "2015    3491.16\n",
            "2016    3457.19\n",
            "2017    1963.10\n",
            "dtype: float64\n",
            "\n",
            "            0        1        2\n",
            "2014  2409.14  1203.45  3412.12\n",
            "2015  2941.01  3441.62  3491.16\n",
            "2016  3496.83  3007.83  3457.19\n",
            "2017  3119.55  3619.53  1963.10\n",
            "\n"
          ],
          "name": "stdout"
        }
      ]
    },
    {
      "metadata": {
        "id": "szn9kpkx2R6b",
        "colab_type": "text"
      },
      "cell_type": "markdown",
      "source": [
        "**Column Names**"
      ]
    },
    {
      "metadata": {
        "id": "GSX4dYz6yUl7",
        "colab_type": "code",
        "colab": {
          "base_uri": "https://localhost:8080/",
          "height": 130
        },
        "outputId": "213a9268-f437-4794-b69b-f95fb512cf2f"
      },
      "cell_type": "code",
      "source": [
        "years = [2014, 2015, 2016, 2017]\n",
        "shop1 = pd.Series([2409.14, 2941.01, 3496.83, 3119.55], index=years)\n",
        "shop2 = pd.Series([1203.45, 3441.62, 3007.83, 3619.53], index=years)\n",
        "shop3 = pd.Series([3412.12, 3491.16, 3457.19, 1963.10], index=years)\n",
        "\n",
        "shops_df = pd.concat( [shop1,shop2,shop3], axis=1)\n",
        "\n",
        "col_names = ['Shop 1', 'Shop 2', 'Shop 3']\n",
        "shops_df.columns = col_names\n",
        "\n",
        "print(shops_df, end=\"\\n\\n\")"
      ],
      "execution_count": 39,
      "outputs": [
        {
          "output_type": "stream",
          "text": [
            "       Shop 1   Shop 2   Shop 3\n",
            "2014  2409.14  1203.45  3412.12\n",
            "2015  2941.01  3441.62  3491.16\n",
            "2016  3496.83  3007.83  3457.19\n",
            "2017  3119.55  3619.53  1963.10\n",
            "\n"
          ],
          "name": "stdout"
        }
      ]
    },
    {
      "metadata": {
        "id": "nC1j83KR3BPN",
        "colab_type": "text"
      },
      "cell_type": "markdown",
      "source": [
        "**Dataframes from Dictionaries**\n",
        "\n"
      ]
    },
    {
      "metadata": {
        "id": "Bze6XzXP3HFR",
        "colab_type": "code",
        "colab": {
          "base_uri": "https://localhost:8080/",
          "height": 457
        },
        "outputId": "cfd634e9-8f98-4e50-c92b-8935ea3db1e9"
      },
      "cell_type": "code",
      "source": [
        "cities = {\"name\": [\"London\", \"Berlin\", \"Madrid\", \"Rome\", \n",
        "                   \"Paris\", \"Vienna\", \"Bucharest\", \"Hamburg\", \n",
        "                   \"Budapest\", \"Warsaw\", \"Barcelona\", \n",
        "                   \"Munich\", \"Milan\"],\n",
        "          \n",
        "          \"country\": [\"England\", \"Germany\", \"Spain\", \"Italy\",\n",
        "                      \"France\", \"Austria\", \"Romania\", \n",
        "                      \"Germany\", \"Hungary\", \"Poland\", \"Spain\",\n",
        "                      \"Germany\", \"Italy\"],\n",
        "          \n",
        "          \"population\": [8615246, 3562166, 3165235, 2874038,\n",
        "                         2273305, 1805681, 1803425, 1760433,\n",
        "                         1754000, 1740119, 1602386, 1493900,\n",
        "                         1350680],\n",
        "          }\n",
        "city_frame = pd.DataFrame(cities)\n",
        "city_frame"
      ],
      "execution_count": 64,
      "outputs": [
        {
          "output_type": "execute_result",
          "data": {
            "text/html": [
              "<div>\n",
              "<style scoped>\n",
              "    .dataframe tbody tr th:only-of-type {\n",
              "        vertical-align: middle;\n",
              "    }\n",
              "\n",
              "    .dataframe tbody tr th {\n",
              "        vertical-align: top;\n",
              "    }\n",
              "\n",
              "    .dataframe thead th {\n",
              "        text-align: right;\n",
              "    }\n",
              "</style>\n",
              "<table border=\"1\" class=\"dataframe\">\n",
              "  <thead>\n",
              "    <tr style=\"text-align: right;\">\n",
              "      <th></th>\n",
              "      <th>country</th>\n",
              "      <th>name</th>\n",
              "      <th>population</th>\n",
              "    </tr>\n",
              "  </thead>\n",
              "  <tbody>\n",
              "    <tr>\n",
              "      <th>0</th>\n",
              "      <td>England</td>\n",
              "      <td>London</td>\n",
              "      <td>8615246</td>\n",
              "    </tr>\n",
              "    <tr>\n",
              "      <th>1</th>\n",
              "      <td>Germany</td>\n",
              "      <td>Berlin</td>\n",
              "      <td>3562166</td>\n",
              "    </tr>\n",
              "    <tr>\n",
              "      <th>2</th>\n",
              "      <td>Spain</td>\n",
              "      <td>Madrid</td>\n",
              "      <td>3165235</td>\n",
              "    </tr>\n",
              "    <tr>\n",
              "      <th>3</th>\n",
              "      <td>Italy</td>\n",
              "      <td>Rome</td>\n",
              "      <td>2874038</td>\n",
              "    </tr>\n",
              "    <tr>\n",
              "      <th>4</th>\n",
              "      <td>France</td>\n",
              "      <td>Paris</td>\n",
              "      <td>2273305</td>\n",
              "    </tr>\n",
              "    <tr>\n",
              "      <th>5</th>\n",
              "      <td>Austria</td>\n",
              "      <td>Vienna</td>\n",
              "      <td>1805681</td>\n",
              "    </tr>\n",
              "    <tr>\n",
              "      <th>6</th>\n",
              "      <td>Romania</td>\n",
              "      <td>Bucharest</td>\n",
              "      <td>1803425</td>\n",
              "    </tr>\n",
              "    <tr>\n",
              "      <th>7</th>\n",
              "      <td>Germany</td>\n",
              "      <td>Hamburg</td>\n",
              "      <td>1760433</td>\n",
              "    </tr>\n",
              "    <tr>\n",
              "      <th>8</th>\n",
              "      <td>Hungary</td>\n",
              "      <td>Budapest</td>\n",
              "      <td>1754000</td>\n",
              "    </tr>\n",
              "    <tr>\n",
              "      <th>9</th>\n",
              "      <td>Poland</td>\n",
              "      <td>Warsaw</td>\n",
              "      <td>1740119</td>\n",
              "    </tr>\n",
              "    <tr>\n",
              "      <th>10</th>\n",
              "      <td>Spain</td>\n",
              "      <td>Barcelona</td>\n",
              "      <td>1602386</td>\n",
              "    </tr>\n",
              "    <tr>\n",
              "      <th>11</th>\n",
              "      <td>Germany</td>\n",
              "      <td>Munich</td>\n",
              "      <td>1493900</td>\n",
              "    </tr>\n",
              "    <tr>\n",
              "      <th>12</th>\n",
              "      <td>Italy</td>\n",
              "      <td>Milan</td>\n",
              "      <td>1350680</td>\n",
              "    </tr>\n",
              "  </tbody>\n",
              "</table>\n",
              "</div>"
            ],
            "text/plain": [
              "    country       name  population\n",
              "0   England     London     8615246\n",
              "1   Germany     Berlin     3562166\n",
              "2     Spain     Madrid     3165235\n",
              "3     Italy       Rome     2874038\n",
              "4    France      Paris     2273305\n",
              "5   Austria     Vienna     1805681\n",
              "6   Romania  Bucharest     1803425\n",
              "7   Germany    Hamburg     1760433\n",
              "8   Hungary   Budapest     1754000\n",
              "9    Poland     Warsaw     1740119\n",
              "10    Spain  Barcelona     1602386\n",
              "11  Germany     Munich     1493900\n",
              "12    Italy      Milan     1350680"
            ]
          },
          "metadata": {
            "tags": []
          },
          "execution_count": 64
        }
      ]
    },
    {
      "metadata": {
        "id": "39iRV4Td3hlD",
        "colab_type": "text"
      },
      "cell_type": "markdown",
      "source": [
        "**Custom Indexing**"
      ]
    },
    {
      "metadata": {
        "id": "RA9QWr5b3ntA",
        "colab_type": "code",
        "colab": {
          "base_uri": "https://localhost:8080/",
          "height": 457
        },
        "outputId": "7688b729-2dde-4628-837e-1235674971fa"
      },
      "cell_type": "code",
      "source": [
        "indexes = list(map(lambda x : \"City \" + str(x), list(range(1,len(city_frame)+1))))\n",
        "\n",
        "city_frame = pd.DataFrame(cities, index=indexes)\n",
        "city_frame"
      ],
      "execution_count": 51,
      "outputs": [
        {
          "output_type": "execute_result",
          "data": {
            "text/html": [
              "<div>\n",
              "<style scoped>\n",
              "    .dataframe tbody tr th:only-of-type {\n",
              "        vertical-align: middle;\n",
              "    }\n",
              "\n",
              "    .dataframe tbody tr th {\n",
              "        vertical-align: top;\n",
              "    }\n",
              "\n",
              "    .dataframe thead th {\n",
              "        text-align: right;\n",
              "    }\n",
              "</style>\n",
              "<table border=\"1\" class=\"dataframe\">\n",
              "  <thead>\n",
              "    <tr style=\"text-align: right;\">\n",
              "      <th></th>\n",
              "      <th>country</th>\n",
              "      <th>name</th>\n",
              "      <th>population</th>\n",
              "    </tr>\n",
              "  </thead>\n",
              "  <tbody>\n",
              "    <tr>\n",
              "      <th>City 1</th>\n",
              "      <td>England</td>\n",
              "      <td>London</td>\n",
              "      <td>8615246</td>\n",
              "    </tr>\n",
              "    <tr>\n",
              "      <th>City 2</th>\n",
              "      <td>Germany</td>\n",
              "      <td>Berlin</td>\n",
              "      <td>3562166</td>\n",
              "    </tr>\n",
              "    <tr>\n",
              "      <th>City 3</th>\n",
              "      <td>Spain</td>\n",
              "      <td>Madrid</td>\n",
              "      <td>3165235</td>\n",
              "    </tr>\n",
              "    <tr>\n",
              "      <th>City 4</th>\n",
              "      <td>Italy</td>\n",
              "      <td>Rome</td>\n",
              "      <td>2874038</td>\n",
              "    </tr>\n",
              "    <tr>\n",
              "      <th>City 5</th>\n",
              "      <td>France</td>\n",
              "      <td>Paris</td>\n",
              "      <td>2273305</td>\n",
              "    </tr>\n",
              "    <tr>\n",
              "      <th>City 6</th>\n",
              "      <td>Austria</td>\n",
              "      <td>Vienna</td>\n",
              "      <td>1805681</td>\n",
              "    </tr>\n",
              "    <tr>\n",
              "      <th>City 7</th>\n",
              "      <td>Romania</td>\n",
              "      <td>Bucharest</td>\n",
              "      <td>1803425</td>\n",
              "    </tr>\n",
              "    <tr>\n",
              "      <th>City 8</th>\n",
              "      <td>Germany</td>\n",
              "      <td>Hamburg</td>\n",
              "      <td>1760433</td>\n",
              "    </tr>\n",
              "    <tr>\n",
              "      <th>City 9</th>\n",
              "      <td>Hungary</td>\n",
              "      <td>Budapest</td>\n",
              "      <td>1754000</td>\n",
              "    </tr>\n",
              "    <tr>\n",
              "      <th>City 10</th>\n",
              "      <td>Poland</td>\n",
              "      <td>Warsaw</td>\n",
              "      <td>1740119</td>\n",
              "    </tr>\n",
              "    <tr>\n",
              "      <th>City 11</th>\n",
              "      <td>Spain</td>\n",
              "      <td>Barcelona</td>\n",
              "      <td>1602386</td>\n",
              "    </tr>\n",
              "    <tr>\n",
              "      <th>City 12</th>\n",
              "      <td>Germany</td>\n",
              "      <td>Munich</td>\n",
              "      <td>1493900</td>\n",
              "    </tr>\n",
              "    <tr>\n",
              "      <th>City 13</th>\n",
              "      <td>Italy</td>\n",
              "      <td>Milan</td>\n",
              "      <td>1350680</td>\n",
              "    </tr>\n",
              "  </tbody>\n",
              "</table>\n",
              "</div>"
            ],
            "text/plain": [
              "         country       name  population\n",
              "City 1   England     London     8615246\n",
              "City 2   Germany     Berlin     3562166\n",
              "City 3     Spain     Madrid     3165235\n",
              "City 4     Italy       Rome     2874038\n",
              "City 5    France      Paris     2273305\n",
              "City 6   Austria     Vienna     1805681\n",
              "City 7   Romania  Bucharest     1803425\n",
              "City 8   Germany    Hamburg     1760433\n",
              "City 9   Hungary   Budapest     1754000\n",
              "City 10   Poland     Warsaw     1740119\n",
              "City 11    Spain  Barcelona     1602386\n",
              "City 12  Germany     Munich     1493900\n",
              "City 13    Italy      Milan     1350680"
            ]
          },
          "metadata": {
            "tags": []
          },
          "execution_count": 51
        }
      ]
    },
    {
      "metadata": {
        "id": "-LsQradT4ZvG",
        "colab_type": "text"
      },
      "cell_type": "markdown",
      "source": [
        "**Using Existing Column as Index**"
      ]
    },
    {
      "metadata": {
        "id": "oIppH62E4kb-",
        "colab_type": "code",
        "colab": {
          "base_uri": "https://localhost:8080/",
          "height": 300
        },
        "outputId": "e581fe9d-688a-4482-aa5e-2eed14d8d57b"
      },
      "cell_type": "code",
      "source": [
        "city_frame=city_frame.set_index('country')\n",
        "print(city_frame)"
      ],
      "execution_count": 65,
      "outputs": [
        {
          "output_type": "stream",
          "text": [
            "              name  population\n",
            "country                       \n",
            "England     London     8615246\n",
            "Germany     Berlin     3562166\n",
            "Spain       Madrid     3165235\n",
            "Italy         Rome     2874038\n",
            "France       Paris     2273305\n",
            "Austria     Vienna     1805681\n",
            "Romania  Bucharest     1803425\n",
            "Germany    Hamburg     1760433\n",
            "Hungary   Budapest     1754000\n",
            "Poland      Warsaw     1740119\n",
            "Spain    Barcelona     1602386\n",
            "Germany     Munich     1493900\n",
            "Italy        Milan     1350680\n"
          ],
          "name": "stdout"
        }
      ]
    },
    {
      "metadata": {
        "id": "kEr1Eq186W68",
        "colab_type": "text"
      },
      "cell_type": "markdown",
      "source": [
        "**Label Indexing on the Rows**"
      ]
    },
    {
      "metadata": {
        "id": "xYxqfqxJ6fy-",
        "colab_type": "code",
        "colab": {
          "base_uri": "https://localhost:8080/",
          "height": 394
        },
        "outputId": "6012d3f9-11b1-47c9-f654-bcff53c43758"
      },
      "cell_type": "code",
      "source": [
        "#print(city_frame['Germany'])        #Error\n",
        "\n",
        "print(city_frame.loc['Germany'], end=\"\\n\\n\")\n",
        "\n",
        "print(city_frame.loc[[\"Germany\", \"France\"]], end=\"\\n\\n\")\n",
        "\n",
        "print(city_frame.loc[city_frame.population>2000000])"
      ],
      "execution_count": 68,
      "outputs": [
        {
          "output_type": "stream",
          "text": [
            "            name  population\n",
            "country                     \n",
            "Germany   Berlin     3562166\n",
            "Germany  Hamburg     1760433\n",
            "Germany   Munich     1493900\n",
            "\n",
            "            name  population\n",
            "country                     \n",
            "Germany   Berlin     3562166\n",
            "Germany  Hamburg     1760433\n",
            "Germany   Munich     1493900\n",
            "France     Paris     2273305\n",
            "\n",
            "           name  population\n",
            "country                    \n",
            "England  London     8615246\n",
            "Germany  Berlin     3562166\n",
            "Spain    Madrid     3165235\n",
            "Italy      Rome     2874038\n",
            "France    Paris     2273305\n"
          ],
          "name": "stdout"
        }
      ]
    },
    {
      "metadata": {
        "id": "pLR2c8nH-6dG",
        "colab_type": "text"
      },
      "cell_type": "markdown",
      "source": [
        "**Accessing the columns of a DataFrame**"
      ]
    },
    {
      "metadata": {
        "id": "c75r6hUj-_vn",
        "colab_type": "code",
        "colab": {
          "base_uri": "https://localhost:8080/",
          "height": 583
        },
        "outputId": "0270ca53-1c04-4f26-af5c-d1414bcd7593"
      },
      "cell_type": "code",
      "source": [
        "print(city_frame[\"population\"])       #as dictionary like way\n",
        "\n",
        "#or\n",
        "\n",
        "print(city_frame.population)          #as attribute\n",
        "\n"
      ],
      "execution_count": 69,
      "outputs": [
        {
          "output_type": "stream",
          "text": [
            "country\n",
            "England    8615246\n",
            "Germany    3562166\n",
            "Spain      3165235\n",
            "Italy      2874038\n",
            "France     2273305\n",
            "Austria    1805681\n",
            "Romania    1803425\n",
            "Germany    1760433\n",
            "Hungary    1754000\n",
            "Poland     1740119\n",
            "Spain      1602386\n",
            "Germany    1493900\n",
            "Italy      1350680\n",
            "Name: population, dtype: int64\n",
            "country\n",
            "England    8615246\n",
            "Germany    3562166\n",
            "Spain      3165235\n",
            "Italy      2874038\n",
            "France     2273305\n",
            "Austria    1805681\n",
            "Romania    1803425\n",
            "Germany    1760433\n",
            "Hungary    1754000\n",
            "Poland     1740119\n",
            "Spain      1602386\n",
            "Germany    1493900\n",
            "Italy      1350680\n",
            "Name: population, dtype: int64\n"
          ],
          "name": "stdout"
        }
      ]
    },
    {
      "metadata": {
        "id": "eB7n3dEY_Y-U",
        "colab_type": "text"
      },
      "cell_type": "markdown",
      "source": [
        "**Adding New Columns to DataFrames**"
      ]
    },
    {
      "metadata": {
        "id": "3GMI4tVd_cqu",
        "colab_type": "code",
        "colab": {
          "base_uri": "https://localhost:8080/",
          "height": 300
        },
        "outputId": "88e3ac93-9c14-4394-d818-2f812b847952"
      },
      "cell_type": "code",
      "source": [
        "area = [1572, 891.85, 605.77, 1285, \n",
        "        105.4, 414.6, 228, 755, \n",
        "        525.2, 517, 101.9, 310.4, \n",
        "        181.8]\n",
        "# area could have been designed as a list, a Series, an array or a scalar   \n",
        "city_frame[\"area\"] = area\n",
        "print(city_frame)"
      ],
      "execution_count": 70,
      "outputs": [
        {
          "output_type": "stream",
          "text": [
            "              name  population     area\n",
            "country                                \n",
            "England     London     8615246  1572.00\n",
            "Germany     Berlin     3562166   891.85\n",
            "Spain       Madrid     3165235   605.77\n",
            "Italy         Rome     2874038  1285.00\n",
            "France       Paris     2273305   105.40\n",
            "Austria     Vienna     1805681   414.60\n",
            "Romania  Bucharest     1803425   228.00\n",
            "Germany    Hamburg     1760433   755.00\n",
            "Hungary   Budapest     1754000   525.20\n",
            "Poland      Warsaw     1740119   517.00\n",
            "Spain    Barcelona     1602386   101.90\n",
            "Germany     Munich     1493900   310.40\n",
            "Italy        Milan     1350680   181.80\n"
          ],
          "name": "stdout"
        }
      ]
    },
    {
      "metadata": {
        "id": "3ITF04UL_tZE",
        "colab_type": "text"
      },
      "cell_type": "markdown",
      "source": [
        "**Sorting DataFrames**"
      ]
    },
    {
      "metadata": {
        "id": "xoA94z1Q_ytl",
        "colab_type": "code",
        "colab": {
          "base_uri": "https://localhost:8080/",
          "height": 300
        },
        "outputId": "30f999c4-a535-44c0-8836-113575cc0e38"
      },
      "cell_type": "code",
      "source": [
        "city_frame = city_frame.sort_values(by=\"area\", ascending=False)\n",
        "print(city_frame)"
      ],
      "execution_count": 71,
      "outputs": [
        {
          "output_type": "stream",
          "text": [
            "              name  population     area\n",
            "country                                \n",
            "England     London     8615246  1572.00\n",
            "Italy         Rome     2874038  1285.00\n",
            "Germany     Berlin     3562166   891.85\n",
            "Germany    Hamburg     1760433   755.00\n",
            "Spain       Madrid     3165235   605.77\n",
            "Hungary   Budapest     1754000   525.20\n",
            "Poland      Warsaw     1740119   517.00\n",
            "Austria     Vienna     1805681   414.60\n",
            "Germany     Munich     1493900   310.40\n",
            "Romania  Bucharest     1803425   228.00\n",
            "Italy        Milan     1350680   181.80\n",
            "France       Paris     2273305   105.40\n",
            "Spain    Barcelona     1602386   101.90\n"
          ],
          "name": "stdout"
        }
      ]
    },
    {
      "metadata": {
        "id": "Z69auziIAh65",
        "colab_type": "text"
      },
      "cell_type": "markdown",
      "source": [
        "**Data Frames from Nested Dictionaries**"
      ]
    },
    {
      "metadata": {
        "id": "wcF0P5zBAs0C",
        "colab_type": "code",
        "colab": {
          "base_uri": "https://localhost:8080/",
          "height": 243
        },
        "outputId": "be0cebbd-b717-4a6d-83ce-3beaab8ff4ae"
      },
      "cell_type": "code",
      "source": [
        "growth = {\"Switzerland\": {\"2010\": 3.0, \"2011\": 1.8, \"2012\": 1.1, \"2013\": 1.9},\n",
        "          \"Germany\": {\"2010\": 4.1, \"2011\": 3.6, \"2012\":\t0.4, \"2013\": 0.1},\n",
        "          \"France\": {\"2010\":2.0,  \"2011\":2.1, \"2012\": 0.3, \"2013\": 0.3},\n",
        "          \"Greece\": {\"2010\":-5.4, \"2011\":-8.9, \"2012\":-6.6, \"2013\":\t-3.3},\n",
        "          \"Italy\": {\"2010\":1.7, \"2011\":\t0.6, \"2012\":-2.3, \"2013\":-1.9}\n",
        "          }\n",
        "\n",
        "growth_frame = pd.DataFrame(growth)\n",
        "print(growth_frame, end=\"\\n\\n\")\n",
        "\n",
        "print(growth_frame.T)"
      ],
      "execution_count": 73,
      "outputs": [
        {
          "output_type": "stream",
          "text": [
            "      France  Germany  Greece  Italy  Switzerland\n",
            "2010     2.0      4.1    -5.4    1.7          3.0\n",
            "2011     2.1      3.6    -8.9    0.6          1.8\n",
            "2012     0.3      0.4    -6.6   -2.3          1.1\n",
            "2013     0.3      0.1    -3.3   -1.9          1.9\n",
            "\n",
            "             2010  2011  2012  2013\n",
            "France        2.0   2.1   0.3   0.3\n",
            "Germany       4.1   3.6   0.4   0.1\n",
            "Greece       -5.4  -8.9  -6.6  -3.3\n",
            "Italy         1.7   0.6  -2.3  -1.9\n",
            "Switzerland   3.0   1.8   1.1   1.9\n"
          ],
          "name": "stdout"
        }
      ]
    },
    {
      "metadata": {
        "id": "qd-DQ9oWBUyV",
        "colab_type": "text"
      },
      "cell_type": "markdown",
      "source": [
        "# Reading and Writing data in Files \n",
        "\n",
        "Pandas supported file formats:\n",
        "\n",
        "1.  Delimiter-separated files, like e.g. csv\n",
        "2.  Microsoft Excel files\n",
        "3.  HTML\n",
        "4.  XML\n",
        "5.  JSON"
      ]
    },
    {
      "metadata": {
        "id": "jiKkeVWWGP59",
        "colab_type": "text"
      },
      "cell_type": "markdown",
      "source": [
        "**Reading and Writing data from/to a csv file.**"
      ]
    },
    {
      "metadata": {
        "id": "nXXFilC0GDT5",
        "colab_type": "code",
        "colab": {
          "base_uri": "https://localhost:8080/",
          "height": 497
        },
        "outputId": "e009e17f-1490-4f5f-b73f-02f6e2c88d21"
      },
      "cell_type": "code",
      "source": [
        "import pandas as pd\n",
        "cities = {\"name\": [\"London\", \"Berlin\", \"Madrid\", \"Rome\", \n",
        "                   \"Paris\", \"Vienna\", \"Bucharest\", \"Hamburg\", \n",
        "                   \"Budapest\", \"Warsaw\", \"Barcelona\", \n",
        "                   \"Munich\", \"Milan\"],\n",
        "          \n",
        "          \"country\": [\"England\", \"Germany\", \"Spain\", \"Italy\",\n",
        "                      \"France\", \"Austria\", \"Romania\", \n",
        "                      \"Germany\", \"Hungary\", \"Poland\", \"Spain\",\n",
        "                      \"Germany\", \"Italy\"],\n",
        "          \n",
        "          \"population\": [8615246, 3562166, 3165235, 2874038,\n",
        "                         2273305, 1805681, 1803425, 1760433,\n",
        "                         1754000, 1740119, 1602386, 1493900,\n",
        "                         1350680],\n",
        "          }\n",
        "\n",
        "city_frame = pd.DataFrame(cities, columns=[\"name\", \"population\"], index=cities[\"country\"])\n",
        "print(city_frame)\n",
        "\n",
        "#Saving Data to CSV File\n",
        "city_frame.to_csv(\"countries_population.csv\", sep=\";\")\n",
        "\n",
        "\n",
        "#Reading Data from CSV File\n",
        "city_frame = pd.read_csv(\"countries_population.csv\", sep=\";\", index_col=0)\n",
        "\n",
        "\n",
        "print(city_frame)"
      ],
      "execution_count": 4,
      "outputs": [
        {
          "output_type": "stream",
          "text": [
            "              name  population\n",
            "England     London     8615246\n",
            "Germany     Berlin     3562166\n",
            "Spain       Madrid     3165235\n",
            "Italy         Rome     2874038\n",
            "France       Paris     2273305\n",
            "Austria     Vienna     1805681\n",
            "Romania  Bucharest     1803425\n",
            "Germany    Hamburg     1760433\n",
            "Hungary   Budapest     1754000\n",
            "Poland      Warsaw     1740119\n",
            "Spain    Barcelona     1602386\n",
            "Germany     Munich     1493900\n",
            "Italy        Milan     1350680\n",
            "              name  population\n",
            "England     London     8615246\n",
            "Germany     Berlin     3562166\n",
            "Spain       Madrid     3165235\n",
            "Italy         Rome     2874038\n",
            "France       Paris     2273305\n",
            "Austria     Vienna     1805681\n",
            "Romania  Bucharest     1803425\n",
            "Germany    Hamburg     1760433\n",
            "Hungary   Budapest     1754000\n",
            "Poland      Warsaw     1740119\n",
            "Spain    Barcelona     1602386\n",
            "Germany     Munich     1493900\n",
            "Italy        Milan     1350680\n"
          ],
          "name": "stdout"
        }
      ]
    },
    {
      "metadata": {
        "id": "nQ0tTBWHJTi8",
        "colab_type": "text"
      },
      "cell_type": "markdown",
      "source": [
        "# Data Visualization using Pandas\n",
        "\n"
      ]
    },
    {
      "metadata": {
        "id": "5KC7_LiVJdkr",
        "colab_type": "text"
      },
      "cell_type": "markdown",
      "source": [
        "**Line plots**"
      ]
    },
    {
      "metadata": {
        "id": "qd5hxjLZJkH2",
        "colab_type": "code",
        "colab": {
          "base_uri": "https://localhost:8080/",
          "height": 531
        },
        "outputId": "9b2a354c-5df6-4e9b-bffa-f72bbb5868b0"
      },
      "cell_type": "code",
      "source": [
        "#Line Plots using Series\n",
        "\n",
        "#data = [100, 120, 140, 180, 200, 210, 214]\n",
        "#s = pd.Series(data, index=range(1,len(data)+1))\n",
        "\n",
        "index=['Jan','Feb','Mar','Apr','May','Jun']\n",
        "data1=[4456,4576,7656,7654,6754,6587]\n",
        "data2=[4566,7645,6565,7645,5456,5677]\n",
        "\n",
        "s1=pd.Series(data1,index)\n",
        "s2=pd.Series(data2,index)\n",
        "\n",
        "df=pd.concat( [s1,s2], axis=1 )\n",
        "\n",
        "print(df)\n",
        "df.plot.pie(figsize=(6,6), subplots=True)"
      ],
      "execution_count": 15,
      "outputs": [
        {
          "output_type": "stream",
          "text": [
            "        0     1\n",
            "Jan  4456  4566\n",
            "Feb  4576  7645\n",
            "Mar  7656  6565\n",
            "Apr  7654  7645\n",
            "May  6754  5456\n",
            "Jun  6587  5677\n"
          ],
          "name": "stdout"
        },
        {
          "output_type": "execute_result",
          "data": {
            "text/plain": [
              "array([<matplotlib.axes._subplots.AxesSubplot object at 0x7f7dd2a09a58>,\n",
              "       <matplotlib.axes._subplots.AxesSubplot object at 0x7f7dd2991c18>],\n",
              "      dtype=object)"
            ]
          },
          "metadata": {
            "tags": []
          },
          "execution_count": 15
        },
        {
          "output_type": "display_data",
          "data": {
            "image/png": "[encoded data removed]",
            "text/plain": [
              "<matplotlib.figure.Figure at 0x7f7dd2bbe400>"
            ]
          },
          "metadata": {
            "tags": []
          }
        }
      ]
    },
    {
      "metadata": {
        "id": "NVDkWMCQJ-Ci",
        "colab_type": "code",
        "colab": {
          "base_uri": "https://localhost:8080/",
          "height": 443
        },
        "outputId": "53c329a3-0c06-4a87-ac1d-7276a5e56e13"
      },
      "cell_type": "code",
      "source": [
        "#Line Plots using DataFrames\n",
        "\n",
        "fruits = ['A', 'B', 'C', 'D']\n",
        "quantities = [20, 33, 52, 10]\n",
        "s = pd.Series(quantities, index=fruits)\n",
        "\n",
        "print(s)\n",
        "s.plot(use_index=True)"
      ],
      "execution_count": 91,
      "outputs": [
        {
          "output_type": "stream",
          "text": [
            "A    20\n",
            "B    33\n",
            "C    52\n",
            "D    10\n",
            "dtype: int64\n"
          ],
          "name": "stdout"
        },
        {
          "output_type": "execute_result",
          "data": {
            "text/plain": [
              "<matplotlib.axes._subplots.AxesSubplot at 0x7f2316748b38>"
            ]
          },
          "metadata": {
            "tags": []
          },
          "execution_count": 91
        },
        {
          "output_type": "display_data",
          "data": {
            "image/png": "[encoded data removed]",
            "text/plain": [
              "<matplotlib.figure.Figure at 0x7f2316738828>"
            ]
          },
          "metadata": {
            "tags": []
          }
        }
      ]
    },
    {
      "metadata": {
        "id": "hhiDfkpQMCRx",
        "colab_type": "code",
        "colab": {
          "base_uri": "https://localhost:8080/",
          "height": 412
        },
        "outputId": "03732fd2-a2cf-4bb6-af06-bd8d31cc2778"
      },
      "cell_type": "code",
      "source": [
        "cities = {\"name\": [\"London\", \"Berlin\", \"Madrid\", \"Rome\", \n",
        "                   \"Paris\", \"Vienna\", \"Bucharest\", \"Hamburg\", \n",
        "                   \"Budapest\", \"Warsaw\", \"Barcelona\", \n",
        "                   \"Munich\", \"Milan\"],\n",
        "          \"population\": [8615246, 3562166, 3165235, 2874038,\n",
        "                         2273305, 1805681, 1803425, 1760433,\n",
        "                         1754000, 1740119, 1602386, 1493900,\n",
        "                         1350680],\n",
        "          \"area\" : [1572, 891.85, 605.77, 1285, \n",
        "                    105.4, 414.6, 228, 755, \n",
        "                    525.2, 517, 101.9, 310.4, \n",
        "                    181.8]\n",
        "}\n",
        "city_frame = pd.DataFrame(cities,\n",
        "                          columns=[\"population\", \"area\"],\n",
        "                          index=cities[\"name\"])\n",
        "\n",
        "city_frame['area'] *= 1000\n",
        "\n",
        "city_frame.plot()"
      ],
      "execution_count": 96,
      "outputs": [
        {
          "output_type": "execute_result",
          "data": {
            "text/plain": [
              "<matplotlib.axes._subplots.AxesSubplot at 0x7f23164f40f0>"
            ]
          },
          "metadata": {
            "tags": []
          },
          "execution_count": 96
        },
        {
          "output_type": "display_data",
          "data": {
            "image/png": "[encoded data removed]",
            "text/plain": [
              "<matplotlib.figure.Figure at 0x7f23164fba90>"
            ]
          },
          "metadata": {
            "tags": []
          }
        }
      ]
    },
    {
      "metadata": {
        "id": "wkVGasLNPeQs",
        "colab_type": "text"
      },
      "cell_type": "markdown",
      "source": [
        "**Bar Plots**"
      ]
    },
    {
      "metadata": {
        "id": "3j9E7aa_PiaF",
        "colab_type": "code",
        "colab": {
          "base_uri": "https://localhost:8080/",
          "height": 366
        },
        "outputId": "0fd91228-f724-4a52-fc9e-34bfb7767708"
      },
      "cell_type": "code",
      "source": [
        "#Bar Plots from Series\n",
        "\n",
        "data = [100, 120, 140, 180, 200, 210, 214]\n",
        "s = pd.Series(data, index=range(len(data)))\n",
        "s.plot(kind=\"bar\")"
      ],
      "execution_count": 95,
      "outputs": [
        {
          "output_type": "execute_result",
          "data": {
            "text/plain": [
              "<matplotlib.axes._subplots.AxesSubplot at 0x7f2316614048>"
            ]
          },
          "metadata": {
            "tags": []
          },
          "execution_count": 95
        },
        {
          "output_type": "display_data",
          "data": {
            "image/png": "[encoded data removed]",
            "text/plain": [
              "<matplotlib.figure.Figure at 0x7f2316714278>"
            ]
          },
          "metadata": {
            "tags": []
          }
        }
      ]
    },
    {
      "metadata": {
        "id": "_UaCMPOpP-IY",
        "colab_type": "code",
        "colab": {
          "base_uri": "https://localhost:8080/",
          "height": 412
        },
        "outputId": "c48ca036-c838-4e30-99fc-0741822e08c8"
      },
      "cell_type": "code",
      "source": [
        "#Bar Plot using DataFrames\n",
        "\n",
        "cities = {\"name\": [\"London\", \"Berlin\", \"Madrid\", \"Rome\", \n",
        "                   \"Paris\", \"Vienna\", \"Bucharest\", \"Hamburg\", \n",
        "                   \"Budapest\", \"Warsaw\", \"Barcelona\", \n",
        "                   \"Munich\", \"Milan\"],\n",
        "          \"population\": [8615246, 3562166, 3165235, 2874038,\n",
        "                         2273305, 1805681, 1803425, 1760433,\n",
        "                         1754000, 1740119, 1602386, 1493900,\n",
        "                         1350680],\n",
        "          \"area\" : [1572, 891.85, 605.77, 1285, \n",
        "                    105.4, 414.6, 228, 755, \n",
        "                    525.2, 517, 101.9, 310.4, \n",
        "                    181.8]\n",
        "}\n",
        "city_frame = pd.DataFrame(cities,\n",
        "                          columns=[\"population\", \"area\"],\n",
        "                          index=cities[\"name\"])\n",
        "\n",
        "city_frame['area'] *= 1000\n",
        "\n",
        "city_frame.plot(kind=\"bar\")"
      ],
      "execution_count": 97,
      "outputs": [
        {
          "output_type": "execute_result",
          "data": {
            "text/plain": [
              "<matplotlib.axes._subplots.AxesSubplot at 0x7f231649d9e8>"
            ]
          },
          "metadata": {
            "tags": []
          },
          "execution_count": 97
        },
        {
          "output_type": "display_data",
          "data": {
            "image/png": "[encoded data removed]",
            "text/plain": [
              "<matplotlib.figure.Figure at 0x7f231647cac8>"
            ]
          },
          "metadata": {
            "tags": []
          }
        }
      ]
    },
    {
      "metadata": {
        "id": "rgVwgVsqQHoj",
        "colab_type": "text"
      },
      "cell_type": "markdown",
      "source": [
        "**Pie Chart**"
      ]
    },
    {
      "metadata": {
        "id": "J8gqWuIHQMIg",
        "colab_type": "code",
        "colab": {
          "base_uri": "https://localhost:8080/",
          "height": 376
        },
        "outputId": "12eba1b6-af06-4348-a384-be616a21f7b9"
      },
      "cell_type": "code",
      "source": [
        "#Pie Chart using Series\n",
        "\n",
        "fruits = ['apples', 'pears', 'cherries', 'bananas']\n",
        "series = pd.Series([20, 30, 40, 10], \n",
        "                   index=fruits, \n",
        "                   name='series')\n",
        "series.plot.pie(figsize=(6, 6))"
      ],
      "execution_count": 98,
      "outputs": [
        {
          "output_type": "execute_result",
          "data": {
            "text/plain": [
              "<matplotlib.axes._subplots.AxesSubplot at 0x7f231647c4e0>"
            ]
          },
          "metadata": {
            "tags": []
          },
          "execution_count": 98
        },
        {
          "output_type": "display_data",
          "data": {
            "image/png": "[encoded data removed]",
            "text/plain": [
              "<matplotlib.figure.Figure at 0x7f23164fb390>"
            ]
          },
          "metadata": {
            "tags": []
          }
        }
      ]
    },
    {
      "metadata": {
        "id": "1ZsfNUTAQm-Y",
        "colab_type": "code",
        "colab": {
          "base_uri": "https://localhost:8080/",
          "height": 414
        },
        "outputId": "3436cdf7-53b3-4dde-a005-ac228355dd18"
      },
      "cell_type": "code",
      "source": [
        "cities = {\"name\": [\"London\", \"Berlin\", \"Madrid\", \"Rome\", \n",
        "                   \"Paris\", \"Vienna\", \"Bucharest\", \"Hamburg\", \n",
        "                   \"Budapest\", \"Warsaw\", \"Barcelona\", \n",
        "                   \"Munich\", \"Milan\"],\n",
        "          \"population\": [8615246, 3562166, 3165235, 2874038,\n",
        "                         2273305, 1805681, 1803425, 1760433,\n",
        "                         1754000, 1740119, 1602386, 1493900,\n",
        "                         1350680],\n",
        "          \"area\" : [1572, 891.85, 605.77, 1285, \n",
        "                    105.4, 414.6, 228, 755, \n",
        "                    525.2, 517, 101.9, 310.4, \n",
        "                    181.8]\n",
        "}\n",
        "city_frame = pd.DataFrame(cities,\n",
        "                          columns=[\"population\", \"area\"],\n",
        "                          index=cities[\"name\"])\n",
        "\n",
        "city_frame['area'] *= 1000\n",
        "\n",
        "city_frame.plot.pie(figsize=(6,6), subplots=True, legend=False)"
      ],
      "execution_count": 102,
      "outputs": [
        {
          "output_type": "execute_result",
          "data": {
            "text/plain": [
              "array([<matplotlib.axes._subplots.AxesSubplot object at 0x7f2316121cf8>,\n",
              "       <matplotlib.axes._subplots.AxesSubplot object at 0x7f2316157e48>],\n",
              "      dtype=object)"
            ]
          },
          "metadata": {
            "tags": []
          },
          "execution_count": 102
        },
        {
          "output_type": "display_data",
          "data": {
            "image/png": "[encoded data removed]",
            "text/plain": [
              "<matplotlib.figure.Figure at 0x7f231619d1d0>"
            ]
          },
          "metadata": {
            "tags": []
          }
        }
      ]
    }
  ]
}