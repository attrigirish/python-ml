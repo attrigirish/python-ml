{
  "nbformat": 4,
  "nbformat_minor": 0,
  "metadata": {
    "colab": {
      "name": "SVM_iris_dataset.ipynb",
      "version": "0.3.2",
      "provenance": [],
      "collapsed_sections": []
    },
    "kernelspec": {
      "name": "python3",
      "display_name": "Python 3"
    }
  },
  "cells": [
    {
      "metadata": {
        "id": "_FOHUl2kr--i",
        "colab_type": "code",
        "colab": {
          "base_uri": "https://localhost:8080/",
          "height": 134
        },
        "outputId": "baa8fb3c-5674-4626-d808-0e2b3852705b"
      },
      "cell_type": "code",
      "source": [
        "from sklearn import datasets, cross_validation, svm\n",
        "import pandas as pd \n",
        "import numpy as np\n",
        "\n",
        "iris=datasets.load_iris()\n",
        "#print(iris)\n",
        "\n",
        "df=pd.DataFrame(iris['data'])\n",
        "df[4]=iris['target']\n",
        "\n",
        "columns=['petal_length','petal_width','sepal_length','sepal_width','class']\n",
        "df.columns=columns\n",
        "\n",
        "#Renaming Output Classes\n",
        "classes={0:'Setosa',1:'Versicolor',2:'Virginica'}\n",
        "print(classes)\n",
        "df['class']=df['class'].map(classes)\n",
        "\n",
        "#What will be the class of [7.7,2.8,6.7,2.0]\n",
        "df.replace('?',-99999,inplace=True)\n",
        "print(df.head())\n",
        "\n",
        "X=np.array(df.drop(['class'],1))\n",
        "y=np.array(df['class'])\n",
        "\n",
        "X_train,X_test,y_train,y_test= cross_validation.train_test_split(X,y,test_size=0.2)"
      ],
      "execution_count": 16,
      "outputs": [
        {
          "output_type": "stream",
          "text": [
            "{0: 'Setosa', 1: 'Versicolor', 2: 'Virginica'}\n",
            "   petal_length  petal_width  sepal_length  sepal_width   class\n",
            "0           5.1          3.5           1.4          0.2  Setosa\n",
            "1           4.9          3.0           1.4          0.2  Setosa\n",
            "2           4.7          3.2           1.3          0.2  Setosa\n",
            "3           4.6          3.1           1.5          0.2  Setosa\n",
            "4           5.0          3.6           1.4          0.2  Setosa\n"
          ],
          "name": "stdout"
        }
      ]
    },
    {
      "metadata": {
        "id": "1vUDJwODuK9w",
        "colab_type": "code",
        "colab": {
          "base_uri": "https://localhost:8080/",
          "height": 34
        },
        "outputId": "ec7f7f67-32ef-4460-9a87-a8baa9e169f5"
      },
      "cell_type": "code",
      "source": [
        "#SVM Classifier\n",
        "\n",
        "clf=svm.SVC()\n",
        "\n",
        "clf.fit(X_train,y_train)\n",
        "\n",
        "predict=np.array([[7.7,2.8,6.7,2.0]])\n",
        "prediction=clf.predict(predict)\n",
        "print(prediction[0])\n",
        "#print(prediction)\n",
        "#print('Setosa' if prediction[0]==0 else 'Versicolor' if prediction[0]==1 else 'Virginica')"
      ],
      "execution_count": 17,
      "outputs": [
        {
          "output_type": "stream",
          "text": [
            "Virginica\n"
          ],
          "name": "stdout"
        }
      ]
    }
  ]
}