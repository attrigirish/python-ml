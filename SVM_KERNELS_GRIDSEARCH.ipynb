{
  "nbformat": 4,
  "nbformat_minor": 0,
  "metadata": {
    "colab": {
      "name": "SVM_KERNELS_GRIDSEARCH.ipynb",
      "version": "0.3.2",
      "provenance": [],
      "collapsed_sections": [],
      "include_colab_link": true
    },
    "kernelspec": {
      "name": "python3",
      "display_name": "Python 3"
    }
  },
  "cells": [
    {
      "cell_type": "markdown",
      "metadata": {
        "id": "view-in-github",
        "colab_type": "text"
      },
      "source": [
        "[View in Colaboratory](https://colab.research.google.com/github/attrigirish/python-ml/blob/master/SVM_KERNELS_GRIDSEARCH.ipynb)"
      ]
    },
    {
      "metadata": {
        "id": "f96cztrSzB2Z",
        "colab_type": "text"
      },
      "cell_type": "markdown",
      "source": [
        "# Comparision Between SVM Kernels\n",
        "\n",
        "* **Linear Kernel**\n",
        "* **Polynomical Kernel**\n",
        "* **RBF Kernel**"
      ]
    },
    {
      "metadata": {
        "id": "Mgcp8C7S7Q0t",
        "colab_type": "text"
      },
      "cell_type": "markdown",
      "source": [
        "# IRIS Dataset"
      ]
    },
    {
      "metadata": {
        "id": "_FOHUl2kr--i",
        "colab_type": "code",
        "colab": {}
      },
      "cell_type": "code",
      "source": [
        "from sklearn import datasets, cross_validation, svm\n",
        "import pandas as pd \n",
        "import numpy as np\n",
        "\n",
        "iris=datasets.load_iris()\n",
        "\n",
        "df=pd.DataFrame(iris['data'])\n",
        "df[4]=iris['target']\n",
        "\n",
        "columns=['petal_length','petal_width','sepal_length','sepal_width','class']\n",
        "df.columns=columns\n",
        "\n",
        "#Renaming Output Classes\n",
        "classes={0:'Setosa',1:'Versicolor',2:'Virginica'}\n",
        "print(classes)\n",
        "df['class']=df['class'].map(classes)\n",
        "\n",
        "#What will be the class of [7.7,2.8,6.7,2.0]\n",
        "df.replace('?',-99999,inplace=True)\n",
        "print(df.head())"
      ],
      "execution_count": 0,
      "outputs": []
    },
    {
      "metadata": {
        "id": "JtTQHErA0GJ1",
        "colab_type": "code",
        "colab": {}
      },
      "cell_type": "code",
      "source": [
        "X=np.array(df.drop(['class'],1))\n",
        "y=np.array(df['class'])\n",
        "X_train,X_test,y_train,y_test= cross_validation.train_test_split(X,y,test_size=0.2)"
      ],
      "execution_count": 0,
      "outputs": []
    },
    {
      "metadata": {
        "id": "ycWQc-Ta69d6",
        "colab_type": "text"
      },
      "cell_type": "markdown",
      "source": [
        "# GRID SEARCH\n"
      ]
    },
    {
      "metadata": {
        "id": "Cmp7m3T967I0",
        "colab_type": "code",
        "colab": {
          "base_uri": "https://localhost:8080/",
          "height": 108
        },
        "outputId": "a11d8807-9325-487d-b0c8-5f5a6b9148c6"
      },
      "cell_type": "code",
      "source": [
        "from sklearn.pipeline import Pipeline\n",
        "from sklearn.model_selection import train_test_split, GridSearchCV \n",
        "\n",
        "pipeline = Pipeline([('clf', svm.SVC(kernel='linear', C=1, gamma=0.1))]) \n",
        "\n",
        "params = {'clf__C':(0.1, 0.5, 1, 2, 5, 10, 20), \n",
        "          'clf__gamma':(0.001, 0.01, 0.1, 0.25, 0.5, 0.75, 1)} \n",
        "\n",
        "svm_grid_rbf = GridSearchCV(pipeline, params, n_jobs=-1,\n",
        "                            cv=3, verbose=1, scoring='accuracy') \n",
        "\n",
        "svm_grid_rbf.fit(X_train, y_train) \n",
        "\n",
        "print(\"Best Score : \", svm_grid_rbf.best_score_)\n",
        "\n",
        "best = svm_grid_rbf.best_estimator_.get_params() \n",
        "\n",
        "for k in sorted(params.keys()): \n",
        "    print('\\t{0}: \\t {1:.2f}'.format(k, best[k]))"
      ],
      "execution_count": 32,
      "outputs": [
        {
          "output_type": "stream",
          "text": [
            "Fitting 3 folds for each of 49 candidates, totalling 147 fits\n",
            "Best Score :  0.975\n",
            "\tclf__C: \t 0.50\n",
            "\tclf__gamma: \t 0.00\n"
          ],
          "name": "stdout"
        },
        {
          "output_type": "stream",
          "text": [
            "[Parallel(n_jobs=-1)]: Done 147 out of 147 | elapsed:    0.2s finished\n"
          ],
          "name": "stderr"
        }
      ]
    },
    {
      "metadata": {
        "id": "OGfVVCgg7ESa",
        "colab_type": "text"
      },
      "cell_type": "markdown",
      "source": [
        "# Comparision Between Linear, Polynomial and RBF Kernels"
      ]
    },
    {
      "metadata": {
        "id": "GajfyF-J1s0B",
        "colab_type": "code",
        "colab": {}
      },
      "cell_type": "code",
      "source": [
        "from sklearn.model_selection import cross_val_score\n",
        "from sklearn.model_selection import cross_val_predict\n",
        "from sklearn.metrics import confusion_matrix\n",
        "from sklearn.metrics import precision_score, recall_score, f1_score"
      ],
      "execution_count": 0,
      "outputs": []
    },
    {
      "metadata": {
        "id": "1vUDJwODuK9w",
        "colab_type": "code",
        "colab": {
          "base_uri": "https://localhost:8080/",
          "height": 52
        },
        "outputId": "4ab5003f-febd-4372-ba35-f87918866d1d"
      },
      "cell_type": "code",
      "source": [
        "#Linear Kernel\n",
        "C = .50\n",
        "clf = svm.SVC(kernel='linear', gamma=0.00001, C=C)\n",
        "clf.fit(X_train, y_train)\n",
        "\n",
        "res = cross_val_score(clf, X_train, y_train, cv=3, scoring='accuracy')\n",
        "print(\"Average Accuracy: \\t {0:.4f}\".format(np.mean(res)))\n",
        "print(\"Accuracy SD: \\t\\t {0:.4f}\".format(np.std(res)))"
      ],
      "execution_count": 36,
      "outputs": [
        {
          "output_type": "stream",
          "text": [
            "Average Accuracy: \t 0.9750\n",
            "Accuracy SD: \t\t 0.0005\n"
          ],
          "name": "stdout"
        }
      ]
    },
    {
      "metadata": {
        "id": "4soogaC01_uX",
        "colab_type": "code",
        "colab": {}
      },
      "cell_type": "code",
      "source": [
        "#Polynomial Kernel\n",
        "\n",
        "C = 1.0\n",
        "clf = svm.SVC(kernel='poly', degree=3, C=C)\n",
        "clf.fit(X_train, y_train)\n",
        "\n",
        "res = cross_val_score(clf, X_train, y_train, cv=3, scoring='accuracy')\n",
        "print(\"Average Accuracy: \\t {0:.4f}\".format(np.mean(res)))\n",
        "print(\"Accuracy SD: \\t\\t {0:.4f}\".format(np.std(res)))\n"
      ],
      "execution_count": 0,
      "outputs": []
    },
    {
      "metadata": {
        "id": "qbGBoGkg2Q-o",
        "colab_type": "code",
        "colab": {
          "base_uri": "https://localhost:8080/",
          "height": 52
        },
        "outputId": "0c07d254-8042-4a3f-ad65-a88fcec1d755"
      },
      "cell_type": "code",
      "source": [
        "C = 1.0\n",
        "clf = svm.SVC(kernel='rbf', gamma=0.75, C=C)\n",
        "clf.fit(X_train, y_train)\n",
        "\n",
        "res = cross_val_score(clf, X_train, y_train, cv=3, scoring='accuracy')\n",
        "print(\"Average Accuracy: \\t {0:.4f}\".format(np.mean(res)))\n",
        "print(\"Accuracy SD: \\t\\t {0:.4f}\".format(np.std(res)))"
      ],
      "execution_count": 30,
      "outputs": [
        {
          "output_type": "stream",
          "text": [
            "Average Accuracy: \t 0.9831\n",
            "Accuracy SD: \t\t 0.0119\n"
          ],
          "name": "stdout"
        }
      ]
    }
  ]
}