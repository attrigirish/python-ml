{
  "nbformat": 4,
  "nbformat_minor": 0,
  "metadata": {
    "colab": {
      "name": "Isha Aggarwal - Corelation Project",
      "version": "0.3.2",
      "provenance": [],
      "collapsed_sections": [],
      "include_colab_link": true
    },
    "kernelspec": {
      "name": "python3",
      "display_name": "Python 3"
    }
  },
  "cells": [
    {
      "cell_type": "markdown",
      "metadata": {
        "id": "view-in-github",
        "colab_type": "text"
      },
      "source": [
        "[View in Colaboratory](https://colab.research.google.com/github/attrigirish/python-ml/blob/master/Isha_Aggarwal_Corelation_Project.ipynb)"
      ]
    },
    {
      "metadata": {
        "id": "hgQWox9XpmdR",
        "colab_type": "text"
      },
      "cell_type": "markdown",
      "source": [
        "**Import Libraries**"
      ]
    },
    {
      "metadata": {
        "id": "6n3wFZhjsSlc",
        "colab_type": "code",
        "colab": {}
      },
      "cell_type": "code",
      "source": [
        ""
      ],
      "execution_count": 0,
      "outputs": []
    },
    {
      "metadata": {
        "id": "Sr9heh75ovOi",
        "colab_type": "code",
        "colab": {}
      },
      "cell_type": "code",
      "source": [
        "import pandas as pd\n",
        "import numpy as np\n",
        "#from sklearn.impute import SimpleImputer\n",
        "from sklearn.preprocessing import Imputer\n",
        "import matplotlib.pyplot as plt"
      ],
      "execution_count": 0,
      "outputs": []
    },
    {
      "metadata": {
        "id": "dsfBkjMyp5NQ",
        "colab_type": "text"
      },
      "cell_type": "markdown",
      "source": [
        "**Import Data : Mortality**"
      ]
    },
    {
      "metadata": {
        "id": "8Kh-2CrRp7Vg",
        "colab_type": "code",
        "colab": {
          "base_uri": "https://localhost:8080/",
          "height": 253
        },
        "outputId": "52e8892a-b092-4fab-e7a2-8bf60c7144a1"
      },
      "cell_type": "code",
      "source": [
        "mortality_data=pd.read_csv(\"https://python-ml.000webhostapp.com/data/mortality_data.csv\")\n",
        "print(mortality_data.head())"
      ],
      "execution_count": 2,
      "outputs": [
        {
          "output_type": "stream",
          "text": [
            "   YEAR                                              CAUSE GENDER AGEGROUP  \\\n",
            "0  2012  Acute bronchitis and acute bronchiolitis (J20-...      F        A   \n",
            "1  2012  Acute bronchitis and acute bronchiolitis (J20-...      F        B   \n",
            "2  2012  Acute bronchitis and acute bronchiolitis (J20-...      F        C   \n",
            "3  2012  Acute bronchitis and acute bronchiolitis (J20-...      M        A   \n",
            "4  2012  Acute bronchitis and acute bronchiolitis (J20-...      M        B   \n",
            "\n",
            "   MORTALITY  \n",
            "0          8  \n",
            "1          3  \n",
            "2          0  \n",
            "3          8  \n",
            "4          1  \n"
          ],
          "name": "stdout"
        }
      ]
    },
    {
      "metadata": {
        "id": "rJw8RcCsqcYI",
        "colab_type": "text"
      },
      "cell_type": "markdown",
      "source": [
        "**Import Data : Population**"
      ]
    },
    {
      "metadata": {
        "id": "6n9D59-4qb4Q",
        "colab_type": "code",
        "colab": {
          "base_uri": "https://localhost:8080/",
          "height": 126
        },
        "outputId": "14d1df3e-6563-4199-e25f-a003f2e1b350"
      },
      "cell_type": "code",
      "source": [
        "pollution_data=pd.read_csv(\"https://python-ml.000webhostapp.com/data/pollution_data.csv\")\n",
        "print(pollution_data.head())"
      ],
      "execution_count": 17,
      "outputs": [
        {
          "output_type": "stream",
          "text": [
            "   YEAR   SO2   NO2   RSPM    SPM  PM25\n",
            "0  2003   NaN  34.0  149.0  205.0   NaN\n",
            "1  2003  11.0  39.0  184.0  405.0   NaN\n",
            "2  2003  12.0  42.0  190.0  429.0   NaN\n",
            "3  2003  14.0  41.0  187.0  304.0   NaN\n",
            "4  2003  13.0  39.0  192.0  323.0   NaN\n"
          ],
          "name": "stdout"
        }
      ]
    },
    {
      "metadata": {
        "id": "Z94fJ20DqzCd",
        "colab_type": "text"
      },
      "cell_type": "markdown",
      "source": [
        "**Data Summary**"
      ]
    },
    {
      "metadata": {
        "colab_type": "code",
        "outputId": "f45472f3-510a-4b80-f7e7-6cf2ad9d95c0",
        "id": "wDbOdyuHrm9L",
        "colab": {
          "base_uri": "https://localhost:8080/",
          "height": 871
        }
      },
      "cell_type": "code",
      "source": [
        "print(\"\\nPollution Data Info:\\n\")\n",
        "print(pollution_data.info())\n",
        "\n",
        "print(\"\\nPollution Data Description:\\n\")\n",
        "print(pollution_data.describe())\n",
        "\n",
        "print(\"\\nPollution Data Null Values Summary:\\n\")\n",
        "print(pollution_data.isnull().sum())"
      ],
      "execution_count": 18,
      "outputs": [
        {
          "output_type": "stream",
          "text": [
            "\n",
            "Pollution Data Info:\n",
            "\n",
            "<class 'pandas.core.frame.DataFrame'>\n",
            "RangeIndex: 2039 entries, 0 to 2038\n",
            "Data columns (total 6 columns):\n",
            "YEAR    2039 non-null int64\n",
            "SO2     1962 non-null float64\n",
            "NO2     2012 non-null float64\n",
            "RSPM    1992 non-null float64\n",
            "SPM     567 non-null float64\n",
            "PM25    371 non-null float64\n",
            "dtypes: float64(5), int64(1)\n",
            "memory usage: 95.7 KB\n",
            "None\n",
            "\n",
            "Pollution Data Description:\n",
            "\n",
            "              YEAR          SO2          NO2         RSPM          SPM  \\\n",
            "count  2039.000000  1962.000000  2012.000000  1992.000000   567.000000   \n",
            "mean   2011.883767     6.530224    61.202087   210.101908   443.559083   \n",
            "std       4.335617     5.240183    32.167913   111.872013   201.799168   \n",
            "min    2003.000000     2.000000     6.300000    18.000000    73.000000   \n",
            "25%    2009.000000     4.000000    40.175000   131.000000   283.000000   \n",
            "50%    2014.000000     4.000000    51.000000   191.000000   407.000000   \n",
            "75%    2015.000000     8.000000    70.000000   267.000000   592.000000   \n",
            "max    2015.000000    46.000000   224.000000   892.000000  1136.000000   \n",
            "\n",
            "             PM25  \n",
            "count  371.000000  \n",
            "mean    95.113208  \n",
            "std     47.127178  \n",
            "min     14.000000  \n",
            "25%     62.000000  \n",
            "50%     86.000000  \n",
            "75%    118.500000  \n",
            "max    318.000000  \n",
            "\n",
            "Pollution Data Null Values Summary:\n",
            "\n",
            "YEAR       0\n",
            "SO2       77\n",
            "NO2       27\n",
            "RSPM      47\n",
            "SPM     1472\n",
            "PM25    1668\n",
            "dtype: int64\n"
          ],
          "name": "stdout"
        }
      ]
    },
    {
      "metadata": {
        "id": "9iykrcGdtIuv",
        "colab_type": "text"
      },
      "cell_type": "markdown",
      "source": [
        "**Fetching Column Names**"
      ]
    },
    {
      "metadata": {
        "id": "5wqSo06QtKWW",
        "colab_type": "code",
        "colab": {
          "base_uri": "https://localhost:8080/",
          "height": 35
        },
        "outputId": "248528c4-27af-4516-ff2d-30bbba867aa9"
      },
      "cell_type": "code",
      "source": [
        "columns=pollution_data.columns\n",
        "print(columns)"
      ],
      "execution_count": 19,
      "outputs": [
        {
          "output_type": "stream",
          "text": [
            "Index(['YEAR', 'SO2', 'NO2', 'RSPM', 'SPM', 'PM25'], dtype='object')\n"
          ],
          "name": "stdout"
        }
      ]
    },
    {
      "metadata": {
        "id": "NzQt0RQdruSO",
        "colab_type": "text"
      },
      "cell_type": "markdown",
      "source": [
        "**Handling Null Values**"
      ]
    },
    {
      "metadata": {
        "id": "DB46aERFr4Ao",
        "colab_type": "code",
        "colab": {
          "base_uri": "https://localhost:8080/",
          "height": 126
        },
        "outputId": "8686de59-80eb-4b63-b634-03bc7effbb18"
      },
      "cell_type": "code",
      "source": [
        "imp = Imputer(missing_values=np.nan, strategy='mean')\n",
        "imp.fit(pollution_data)\n",
        "pollution_data=pd.DataFrame(imp.transform(pollution_data))\n",
        "pollution_data.columns=columns\n",
        "pollution_data['YEAR']=pollution_data['YEAR'].astype('int')\n",
        "print(pollution_data.head())"
      ],
      "execution_count": 20,
      "outputs": [
        {
          "output_type": "stream",
          "text": [
            "   YEAR        SO2   NO2   RSPM    SPM       PM25\n",
            "0  2003   6.530224  34.0  149.0  205.0  95.113208\n",
            "1  2003  11.000000  39.0  184.0  405.0  95.113208\n",
            "2  2003  12.000000  42.0  190.0  429.0  95.113208\n",
            "3  2003  14.000000  41.0  187.0  304.0  95.113208\n",
            "4  2003  13.000000  39.0  192.0  323.0  95.113208\n"
          ],
          "name": "stdout"
        }
      ]
    },
    {
      "metadata": {
        "id": "4LF1F2pcttUJ",
        "colab_type": "text"
      },
      "cell_type": "markdown",
      "source": [
        "**Adding Missing Years**"
      ]
    },
    {
      "metadata": {
        "id": "b04mwBBPty3V",
        "colab_type": "code",
        "colab": {
          "base_uri": "https://localhost:8080/",
          "height": 253
        },
        "outputId": "9905d3c8-660d-4906-e42c-875e3bc6ade4"
      },
      "cell_type": "code",
      "source": [
        "pollution_data=pollution_data.groupby(['YEAR'])[[\"SO2\",\"NO2\",\"RSPM\",\"SPM\",\"PM25\"]].mean()\n",
        "missing_year=[2007,2010,2011,2012,2013]\n",
        "\n",
        "for year in missing_year:\n",
        "    pollution_data.loc[year]=[np.nan,np.nan,np.nan,np.nan,np.nan]\n",
        "\n",
        "pollution_data.reset_index(level=0,inplace=True)\n",
        "print(pollution_data)"
      ],
      "execution_count": 21,
      "outputs": [
        {
          "output_type": "stream",
          "text": [
            "    YEAR        SO2        NO2        RSPM         SPM       PM25\n",
            "0   2003   8.654079  39.229758  142.672163  348.871783  95.113208\n",
            "1   2005   9.194104  62.985149  163.376238  507.485149  95.113208\n",
            "2   2006  12.672766  43.731606  210.004023  522.659450  95.113208\n",
            "3   2008   6.908423  69.390164  264.606557  467.901639  95.113208\n",
            "4   2009   9.514855  54.650916  263.986273  515.913793  95.113208\n",
            "5   2014   5.175887  64.164539  216.716773  443.559083  95.113208\n",
            "6   2015   5.654426  67.257292  218.705808  443.559083  95.113208\n",
            "7   2007        NaN        NaN         NaN         NaN        NaN\n",
            "8   2010        NaN        NaN         NaN         NaN        NaN\n",
            "9   2011        NaN        NaN         NaN         NaN        NaN\n",
            "10  2012        NaN        NaN         NaN         NaN        NaN\n",
            "11  2013        NaN        NaN         NaN         NaN        NaN\n"
          ],
          "name": "stdout"
        }
      ]
    },
    {
      "metadata": {
        "id": "6TXJofKeuB8B",
        "colab_type": "text"
      },
      "cell_type": "markdown",
      "source": [
        "**Filling Null Values**"
      ]
    },
    {
      "metadata": {
        "id": "PKrleYXPuGPO",
        "colab_type": "code",
        "colab": {
          "base_uri": "https://localhost:8080/",
          "height": 253
        },
        "outputId": "38080480-5334-4c35-ca18-eec9a909bfa1"
      },
      "cell_type": "code",
      "source": [
        "imp = Imputer(missing_values=np.nan, strategy='mean')\n",
        "imp.fit(pollution_data)\n",
        "pollution_data=pd.DataFrame(imp.transform(pollution_data))\n",
        "pollution_data.columns=columns\n",
        "pollution_data['YEAR']=pollution_data['YEAR'].astype('int')\n",
        "pollution_data=pollution_data.sort_values('YEAR',ascending=True)\n",
        "print(pollution_data)"
      ],
      "execution_count": 23,
      "outputs": [
        {
          "output_type": "stream",
          "text": [
            "    YEAR        SO2        NO2        RSPM         SPM       PM25\n",
            "0   2003   8.654079  39.229758  142.672163  348.871783  95.113208\n",
            "1   2005   9.194104  62.985149  163.376238  507.485149  95.113208\n",
            "2   2006  12.672766  43.731606  210.004023  522.659450  95.113208\n",
            "7   2007   8.253506  57.344203  211.438262  464.278568  95.113208\n",
            "3   2008   6.908423  69.390164  264.606557  467.901639  95.113208\n",
            "4   2009   9.514855  54.650916  263.986273  515.913793  95.113208\n",
            "8   2010   8.253506  57.344203  211.438262  464.278568  95.113208\n",
            "9   2011   8.253506  57.344203  211.438262  464.278568  95.113208\n",
            "10  2012   8.253506  57.344203  211.438262  464.278568  95.113208\n",
            "11  2013   8.253506  57.344203  211.438262  464.278568  95.113208\n",
            "5   2014   5.175887  64.164539  216.716773  443.559083  95.113208\n",
            "6   2015   5.654426  67.257292  218.705808  443.559083  95.113208\n"
          ],
          "name": "stdout"
        }
      ]
    },
    {
      "metadata": {
        "id": "FC6kTl7wuQXS",
        "colab_type": "text"
      },
      "cell_type": "markdown",
      "source": [
        "**Merging Pollution and Mortality Data**"
      ]
    },
    {
      "metadata": {
        "id": "rRq74LJIuUJf",
        "colab_type": "code",
        "colab": {
          "base_uri": "https://localhost:8080/",
          "height": 435
        },
        "outputId": "68921644-0a41-4740-bdd1-5f844833816c"
      },
      "cell_type": "code",
      "source": [
        "final_data=pd.merge(pollution_data,mortality_data,on=\"YEAR\")\n",
        "\n",
        "\n",
        "print(final_data.head())\n",
        "print(final_data.columns)"
      ],
      "execution_count": 24,
      "outputs": [
        {
          "output_type": "stream",
          "text": [
            "   YEAR       SO2        NO2        RSPM         SPM       PM25  \\\n",
            "0  2012  8.253506  57.344203  211.438262  464.278568  95.113208   \n",
            "1  2012  8.253506  57.344203  211.438262  464.278568  95.113208   \n",
            "2  2012  8.253506  57.344203  211.438262  464.278568  95.113208   \n",
            "3  2012  8.253506  57.344203  211.438262  464.278568  95.113208   \n",
            "4  2012  8.253506  57.344203  211.438262  464.278568  95.113208   \n",
            "\n",
            "                                               CAUSE GENDER AGEGROUP  \\\n",
            "0  Acute bronchitis and acute bronchiolitis (J20-...      F        A   \n",
            "1  Acute bronchitis and acute bronchiolitis (J20-...      F        B   \n",
            "2  Acute bronchitis and acute bronchiolitis (J20-...      F        C   \n",
            "3  Acute bronchitis and acute bronchiolitis (J20-...      M        A   \n",
            "4  Acute bronchitis and acute bronchiolitis (J20-...      M        B   \n",
            "\n",
            "   MORTALITY  \n",
            "0          8  \n",
            "1          3  \n",
            "2          0  \n",
            "3          8  \n",
            "4          1  \n",
            "Index(['YEAR', 'SO2', 'NO2', 'RSPM', 'SPM', 'PM25', 'CAUSE', 'GENDER',\n",
            "       'AGEGROUP', 'MORTALITY'],\n",
            "      dtype='object')\n"
          ],
          "name": "stdout"
        }
      ]
    },
    {
      "metadata": {
        "id": "z-0k82WZub3G",
        "colab_type": "text"
      },
      "cell_type": "markdown",
      "source": [
        "**Year and Disease wise Mortality Report**"
      ]
    },
    {
      "metadata": {
        "id": "NjPnh1H7uhmP",
        "colab_type": "code",
        "colab": {
          "base_uri": "https://localhost:8080/",
          "height": 1670
        },
        "outputId": "d1ebd257-20ea-48ef-a98f-71ac6ab0c735"
      },
      "cell_type": "code",
      "source": [
        "aggregations={\n",
        "        'SO2':'mean',\n",
        "        'NO2':'mean',\n",
        "        'RSPM':'mean',\n",
        "        'SPM':'mean',\n",
        "        'PM25':'mean',\n",
        "        'MORTALITY':'sum'\n",
        "    }\n",
        "\n",
        "print(final_data.groupby(['YEAR','CAUSE']).agg(aggregations))"
      ],
      "execution_count": 25,
      "outputs": [
        {
          "output_type": "stream",
          "text": [
            "                                                              SO2        NO2  \\\n",
            "YEAR CAUSE                                                                     \n",
            "2012 Acute bronchitis and acute bronchiolitis (J20-J21)  8.253506  57.344203   \n",
            "     Asthma (J45-J46)                                    8.253506  57.344203   \n",
            "     Bronchitis, chronic and unspecified, emphysema ...  8.253506  57.344203   \n",
            "     Other lower respiratory disorders (J22, J44 & J47)  8.253506  57.344203   \n",
            "     Pneumonia (J12-J18)                                 8.253506  57.344203   \n",
            "2013 Acute bronchitis and acute bronchiolitis (J20-J21)  8.253506  57.344203   \n",
            "     Asthma (J45-J46)                                    8.253506  57.344203   \n",
            "     Bronchitis, chronic and unspecified, emphysema ...  8.253506  57.344203   \n",
            "     Other lower respiratory disorders (J22, J44 & J47)  8.253506  57.344203   \n",
            "     Pneumonia (J12-J18)                                 8.253506  57.344203   \n",
            "2014 Acute bronchitis and acute bronchiolitis (J20-J21)  5.175887  64.164539   \n",
            "     Asthma (J45-J46)                                    5.175887  64.164539   \n",
            "     Bronchitis, chronic and unspecified, emphysema ...  5.175887  64.164539   \n",
            "     Other lower respiratory disorders (J22, J44 & J47)  5.175887  64.164539   \n",
            "     Pneumonia (J12-J18)                                 5.175887  64.164539   \n",
            "2015 Acute bronchitis and acute bronchiolitis (J20-J21)  5.654426  67.257292   \n",
            "     Asthma (J45-J46)                                    5.654426  67.257292   \n",
            "     Bronchitis, chronic and unspecified, emphysema ...  5.654426  67.257292   \n",
            "     Other lower respiratory disorders (J22, J44 & J47)  5.654426  67.257292   \n",
            "     Pneumonia (J12-J18)                                 5.654426  67.257292   \n",
            "\n",
            "                                                               RSPM  \\\n",
            "YEAR CAUSE                                                            \n",
            "2012 Acute bronchitis and acute bronchiolitis (J20-J21)  211.438262   \n",
            "     Asthma (J45-J46)                                    211.438262   \n",
            "     Bronchitis, chronic and unspecified, emphysema ...  211.438262   \n",
            "     Other lower respiratory disorders (J22, J44 & J47)  211.438262   \n",
            "     Pneumonia (J12-J18)                                 211.438262   \n",
            "2013 Acute bronchitis and acute bronchiolitis (J20-J21)  211.438262   \n",
            "     Asthma (J45-J46)                                    211.438262   \n",
            "     Bronchitis, chronic and unspecified, emphysema ...  211.438262   \n",
            "     Other lower respiratory disorders (J22, J44 & J47)  211.438262   \n",
            "     Pneumonia (J12-J18)                                 211.438262   \n",
            "2014 Acute bronchitis and acute bronchiolitis (J20-J21)  216.716773   \n",
            "     Asthma (J45-J46)                                    216.716773   \n",
            "     Bronchitis, chronic and unspecified, emphysema ...  216.716773   \n",
            "     Other lower respiratory disorders (J22, J44 & J47)  216.716773   \n",
            "     Pneumonia (J12-J18)                                 216.716773   \n",
            "2015 Acute bronchitis and acute bronchiolitis (J20-J21)  218.705808   \n",
            "     Asthma (J45-J46)                                    218.705808   \n",
            "     Bronchitis, chronic and unspecified, emphysema ...  218.705808   \n",
            "     Other lower respiratory disorders (J22, J44 & J47)  218.705808   \n",
            "     Pneumonia (J12-J18)                                 218.705808   \n",
            "\n",
            "                                                                SPM  \\\n",
            "YEAR CAUSE                                                            \n",
            "2012 Acute bronchitis and acute bronchiolitis (J20-J21)  464.278568   \n",
            "     Asthma (J45-J46)                                    464.278568   \n",
            "     Bronchitis, chronic and unspecified, emphysema ...  464.278568   \n",
            "     Other lower respiratory disorders (J22, J44 & J47)  464.278568   \n",
            "     Pneumonia (J12-J18)                                 464.278568   \n",
            "2013 Acute bronchitis and acute bronchiolitis (J20-J21)  464.278568   \n",
            "     Asthma (J45-J46)                                    464.278568   \n",
            "     Bronchitis, chronic and unspecified, emphysema ...  464.278568   \n",
            "     Other lower respiratory disorders (J22, J44 & J47)  464.278568   \n",
            "     Pneumonia (J12-J18)                                 464.278568   \n",
            "2014 Acute bronchitis and acute bronchiolitis (J20-J21)  443.559083   \n",
            "     Asthma (J45-J46)                                    443.559083   \n",
            "     Bronchitis, chronic and unspecified, emphysema ...  443.559083   \n",
            "     Other lower respiratory disorders (J22, J44 & J47)  443.559083   \n",
            "     Pneumonia (J12-J18)                                 443.559083   \n",
            "2015 Acute bronchitis and acute bronchiolitis (J20-J21)  443.559083   \n",
            "     Asthma (J45-J46)                                    443.559083   \n",
            "     Bronchitis, chronic and unspecified, emphysema ...  443.559083   \n",
            "     Other lower respiratory disorders (J22, J44 & J47)  443.559083   \n",
            "     Pneumonia (J12-J18)                                 443.559083   \n",
            "\n",
            "                                                              PM25  MORTALITY  \n",
            "YEAR CAUSE                                                                     \n",
            "2012 Acute bronchitis and acute bronchiolitis (J20-J21)  95.113208         35  \n",
            "     Asthma (J45-J46)                                    95.113208          2  \n",
            "     Bronchitis, chronic and unspecified, emphysema ...  95.113208         15  \n",
            "     Other lower respiratory disorders (J22, J44 & J47)  95.113208         13  \n",
            "     Pneumonia (J12-J18)                                 95.113208        517  \n",
            "2013 Acute bronchitis and acute bronchiolitis (J20-J21)  95.113208         20  \n",
            "     Asthma (J45-J46)                                    95.113208          5  \n",
            "     Bronchitis, chronic and unspecified, emphysema ...  95.113208         25  \n",
            "     Other lower respiratory disorders (J22, J44 & J47)  95.113208         19  \n",
            "     Pneumonia (J12-J18)                                 95.113208        502  \n",
            "2014 Acute bronchitis and acute bronchiolitis (J20-J21)  95.113208         31  \n",
            "     Asthma (J45-J46)                                    95.113208          3  \n",
            "     Bronchitis, chronic and unspecified, emphysema ...  95.113208         15  \n",
            "     Other lower respiratory disorders (J22, J44 & J47)  95.113208         33  \n",
            "     Pneumonia (J12-J18)                                 95.113208        442  \n",
            "2015 Acute bronchitis and acute bronchiolitis (J20-J21)  95.113208         17  \n",
            "     Asthma (J45-J46)                                    95.113208          5  \n",
            "     Bronchitis, chronic and unspecified, emphysema ...  95.113208         20  \n",
            "     Other lower respiratory disorders (J22, J44 & J47)  95.113208         53  \n",
            "     Pneumonia (J12-J18)                                 95.113208        638  \n"
          ],
          "name": "stdout"
        }
      ]
    },
    {
      "metadata": {
        "id": "JqPAg0SSuosa",
        "colab_type": "text"
      },
      "cell_type": "markdown",
      "source": [
        "#Disease wise Mortality (Corelation Between Mortality and Pollutant Levels)\n",
        "\n"
      ]
    },
    {
      "metadata": {
        "id": "RQUgCf2QuuyJ",
        "colab_type": "code",
        "colab": {
          "base_uri": "https://localhost:8080/",
          "height": 1802
        },
        "outputId": "34ed7659-3a73-42ac-de40-f5124194f58c"
      },
      "cell_type": "code",
      "source": [
        "diseases=final_data['CAUSE'].unique()\n",
        "\n",
        "\n",
        "\n",
        "for dis in diseases:\n",
        "    print(\"Mortality Report for : \",dis)\n",
        "    dis_wise_mortality_data=final_data[final_data['CAUSE']==dis].groupby(['YEAR','CAUSE']).agg(aggregations)\n",
        "    #dis_wise_mortality_data.corr(method='spearman').style.format(\"{:.2}\").background_gradient(cmap=plt.get_cmap('coolwarm'), axis=1)\n",
        "    print(dis_wise_mortality_data.corr(method='spearman'))\n",
        "    \n",
        "    plt.rcParams['figure.figsize'] = [16, 3]\n",
        "    fig, ax = plt.subplots(nrows=1, ncols=5)\n",
        "\n",
        "    ax=ax.flatten()\n",
        "\n",
        "    cols = ['SO2','NO2','RSPM','SPM','PM25']\n",
        "    colors=['#415952', '#f35134', '#243AB5', '#243AB5', '#1354FA']\n",
        "    j=0\n",
        "\n",
        "    for i in ax:\n",
        "      if j==0:\n",
        "        i.set_ylabel('Mortality')\n",
        "      i.scatter(dis_wise_mortality_data[cols[j]], dis_wise_mortality_data['MORTALITY'],  alpha=0.5, color=colors[j])\n",
        "      i.set_xlabel(cols[j])\n",
        "      #i.set_title('Pearson: %s'%mpg_data.corr().loc[cols[j]]['mpg'].round(2)+' Spearman: %s'%mpg_data.corr(method='spearman').loc[cols[j]]['mpg'].round(2))\n",
        "      j+=1\n",
        "\n",
        "    plt.show()\n",
        "    "
      ],
      "execution_count": 33,
      "outputs": [
        {
          "output_type": "stream",
          "text": [
            "Mortality Report for :  Acute bronchitis and acute bronchiolitis (J20-J21)\n",
            "                SO2       NO2      RSPM       SPM      PM25  MORTALITY\n",
            "SO2        1.000000 -0.777778 -0.777778  1.000000  1.000000   0.210819\n",
            "NO2       -0.777778  1.000000  1.000000 -0.777778 -0.777778  -0.632456\n",
            "RSPM      -0.777778  1.000000  1.000000 -0.777778 -0.777778  -0.632456\n",
            "SPM        1.000000 -0.777778 -0.777778  1.000000  1.000000   0.210819\n",
            "PM25       1.000000 -0.777778 -0.777778  1.000000  1.000000   0.210819\n",
            "MORTALITY  0.210819 -0.632456 -0.632456  0.210819  0.210819   1.000000\n"
          ],
          "name": "stdout"
        },
        {
          "output_type": "display_data",
          "data": {
            "image/png": "[encoded data removed]",
            "text/plain": [
              "<matplotlib.figure.Figure at 0x7feff19afa90>"
            ]
          },
          "metadata": {
            "tags": []
          }
        },
        {
          "output_type": "stream",
          "text": [
            "Mortality Report for :  Pneumonia (J12-J18)\n",
            "                SO2       NO2      RSPM       SPM      PM25  MORTALITY\n",
            "SO2        1.000000 -0.777778 -0.777778  1.000000  1.000000   0.316228\n",
            "NO2       -0.777778  1.000000  1.000000 -0.777778 -0.777778   0.316228\n",
            "RSPM      -0.777778  1.000000  1.000000 -0.777778 -0.777778   0.316228\n",
            "SPM        1.000000 -0.777778 -0.777778  1.000000  1.000000   0.316228\n",
            "PM25       1.000000 -0.777778 -0.777778  1.000000  1.000000   0.316228\n",
            "MORTALITY  0.316228  0.316228  0.316228  0.316228  0.316228   1.000000\n"
          ],
          "name": "stdout"
        },
        {
          "output_type": "display_data",
          "data": {
            "image/png": "[encoded data removed]",
            "text/plain": [
              "<matplotlib.figure.Figure at 0x7feff18f94e0>"
            ]
          },
          "metadata": {
            "tags": []
          }
        },
        {
          "output_type": "stream",
          "text": [
            "Mortality Report for :  Other lower respiratory disorders (J22, J44 & J47)\n",
            "                SO2       NO2      RSPM       SPM      PM25  MORTALITY\n",
            "SO2        1.000000 -0.777778 -0.777778  1.000000  1.000000  -0.737865\n",
            "NO2       -0.777778  1.000000  1.000000 -0.777778 -0.777778   0.948683\n",
            "RSPM      -0.777778  1.000000  1.000000 -0.777778 -0.777778   0.948683\n",
            "SPM        1.000000 -0.777778 -0.777778  1.000000  1.000000  -0.737865\n",
            "PM25       1.000000 -0.777778 -0.777778  1.000000  1.000000  -0.737865\n",
            "MORTALITY -0.737865  0.948683  0.948683 -0.737865 -0.737865   1.000000\n"
          ],
          "name": "stdout"
        },
        {
          "output_type": "display_data",
          "data": {
            "image/png": "[encoded data removed]",
            "text/plain": [
              "<matplotlib.figure.Figure at 0x7feff132e860>"
            ]
          },
          "metadata": {
            "tags": []
          }
        },
        {
          "output_type": "stream",
          "text": [
            "Mortality Report for :  Asthma (J45-J46)\n",
            "                SO2       NO2      RSPM       SPM      PM25  MORTALITY\n",
            "SO2        1.000000 -0.777778 -0.777778  1.000000  1.000000  -0.055556\n",
            "NO2       -0.777778  1.000000  1.000000 -0.777778 -0.777778   0.388889\n",
            "RSPM      -0.777778  1.000000  1.000000 -0.777778 -0.777778   0.388889\n",
            "SPM        1.000000 -0.777778 -0.777778  1.000000  1.000000  -0.055556\n",
            "PM25       1.000000 -0.777778 -0.777778  1.000000  1.000000  -0.055556\n",
            "MORTALITY -0.055556  0.388889  0.388889 -0.055556 -0.055556   1.000000\n"
          ],
          "name": "stdout"
        },
        {
          "output_type": "display_data",
          "data": {
            "image/png": "[encoded data removed]",
            "text/plain": [
              "<matplotlib.figure.Figure at 0x7feff1203d30>"
            ]
          },
          "metadata": {
            "tags": []
          }
        },
        {
          "output_type": "stream",
          "text": [
            "Mortality Report for :  Bronchitis, chronic and unspecified, emphysema (J40-J43)\n",
            "\n",
            "                SO2       NO2      RSPM       SPM      PM25  MORTALITY\n",
            "SO2        1.000000 -0.777778 -0.777778  1.000000  1.000000   0.388889\n",
            "NO2       -0.777778  1.000000  1.000000 -0.777778 -0.777778  -0.055556\n",
            "RSPM      -0.777778  1.000000  1.000000 -0.777778 -0.777778  -0.055556\n",
            "SPM        1.000000 -0.777778 -0.777778  1.000000  1.000000   0.388889\n",
            "PM25       1.000000 -0.777778 -0.777778  1.000000  1.000000   0.388889\n",
            "MORTALITY  0.388889 -0.055556 -0.055556  0.388889  0.388889   1.000000\n"
          ],
          "name": "stdout"
        },
        {
          "output_type": "display_data",
          "data": {
            "image/png": "[encoded data removed]",
            "text/plain": [
              "<matplotlib.figure.Figure at 0x7feff1c9e358>"
            ]
          },
          "metadata": {
            "tags": []
          }
        }
      ]
    }
  ]
}