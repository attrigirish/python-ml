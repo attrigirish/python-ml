{
  "nbformat": 4,
  "nbformat_minor": 0,
  "metadata": {
    "colab": {
      "name": "Classification - Car Evaluation (Linear Encoder) .ipynb",
      "version": "0.3.2",
      "provenance": [],
      "collapsed_sections": [],
      "include_colab_link": true
    },
    "kernelspec": {
      "name": "python3",
      "display_name": "Python 3"
    }
  },
  "cells": [
    {
      "cell_type": "markdown",
      "metadata": {
        "id": "view-in-github",
        "colab_type": "text"
      },
      "source": [
        "<a href=\"https://colab.research.google.com/github/attrigirish/python-ml/blob/master/Classification_Car_Evaluation_(Linear_Encoder)_.ipynb\" target=\"_parent\"><img src=\"https://colab.research.google.com/assets/colab-badge.svg\" alt=\"Open In Colab\"/></a>"
      ]
    },
    {
      "metadata": {
        "id": "bhFOMk0Jpd1G",
        "colab_type": "code",
        "colab": {
          "base_uri": "https://localhost:8080/",
          "height": 34
        },
        "outputId": "40781f8a-837d-4feb-8c12-cd010dda52fd"
      },
      "cell_type": "code",
      "source": [
        "#Converting Text Data Using map\n",
        "\n",
        "import pandas as pd\n",
        "import numpy as np\n",
        "from sklearn import neighbors\n",
        "from sklearn import model_selection\n",
        "\n",
        "\n",
        "data=pd.read_csv(\"https://archive.ics.uci.edu/ml/machine-learning-databases/car/car.data\",header=None)\n",
        "\n",
        "columns=[\"buying\",\"maintenance\",\"doors\",\"persons\",\"luggage_boot\",\"safety\",\"result\"]\n",
        "data.columns=columns\n",
        "\n",
        "#Mapping Text to Numbers\n",
        "buying_map={'vhigh':1,'high':2,'med':3,'low':4}\n",
        "maint_map={'vhigh':1,'high':2,'med':3,'low':4}\n",
        "doors_map={'2':2,'3':3,'4':4,'5more':5}\n",
        "persons_map={'2':2,'4':4,'more':6}\n",
        "lug_boot_map={'small':1,'med':2,'big':3}\n",
        "safety_map={'low':1,'med':2,'high':3}\n",
        "\n",
        "data['buying']=data['buying'].map(buying_map)\n",
        "data['maintenance']=data['maintenance'].map(maint_map)\n",
        "data['doors']=data['doors'].map(doors_map)\n",
        "data['persons']=data['persons'].map(persons_map)\n",
        "data['luggage_boot']=data['luggage_boot'].map(lug_boot_map)\n",
        "data['safety']=data['safety'].map(safety_map)\n",
        "\n",
        "features=np.array(data.drop(['result'],1))\n",
        "labels=np.array(data['result'])\n",
        "\n",
        "features_train,features_test,labels_train,labels_test=model_selection.train_test_split(features,labels,test_size=0.2)\n",
        "\n",
        "clf=neighbors.KNeighborsClassifier()\n",
        "\n",
        "clf.fit(features_train,labels_train)\n",
        "\n",
        "accuracy=clf.score(features_test,labels_test)\n",
        "print(accuracy)"
      ],
      "execution_count": 25,
      "outputs": [
        {
          "output_type": "stream",
          "text": [
            "0.9508670520231214\n"
          ],
          "name": "stdout"
        }
      ]
    },
    {
      "metadata": {
        "id": "4mjJ8lr_u7TJ",
        "colab_type": "code",
        "colab": {
          "base_uri": "https://localhost:8080/",
          "height": 34
        },
        "outputId": "1a6566d5-15bb-4438-e9ba-fcaf68567f6e"
      },
      "cell_type": "code",
      "source": [
        "#Converting Text Data Using map\n",
        "\n",
        "import pandas as pd\n",
        "import numpy as np\n",
        "from sklearn import neighbors\n",
        "from sklearn import model_selection\n",
        "from sklearn import preprocessing\n",
        "\n",
        "\n",
        "data=pd.read_csv(\"https://archive.ics.uci.edu/ml/machine-learning-databases/car/car.data\",header=None)\n",
        "\n",
        "columns=[\"buying\",\"maintenance\",\"doors\",\"persons\",\"luggage_boot\",\"safety\",\"result\"]\n",
        "data.columns=columns\n",
        "\n",
        "#Encoding Text Data to Numbers\n",
        "\n",
        "le_buying=preprocessing.LabelEncoder()\n",
        "le_maint=preprocessing.LabelEncoder()\n",
        "le_doors=preprocessing.LabelEncoder()\n",
        "le_persons=preprocessing.LabelEncoder()\n",
        "le_lug_boot=preprocessing.LabelEncoder()\n",
        "le_safety=preprocessing.LabelEncoder()\n",
        "\n",
        "le_buying.fit(data['buying'])\n",
        "le_maint.fit(data['maintenance'])\n",
        "le_doors.fit(data['doors'])\n",
        "le_persons.fit(data['persons'])\n",
        "le_lug_boot.fit(data['luggage_boot'])\n",
        "le_safety.fit(data['safety'])\n",
        "\n",
        "#print(le_buying.classes_)\n",
        "#print(le_maint.classes_)\n",
        "#print(le_doors.classes_)\n",
        "#print(le_persons.classes_)\n",
        "#print(le_lug_boot.classes_)\n",
        "#print(le_safety.classes_)\n",
        "\n",
        "columns=[\"buying\",\"maintenance\",\"doors\",\"persons\",\"luggage_boot\",\"safety\",\"result\"]\n",
        "\n",
        "\n",
        "data['buying']=le_buying.transform(data['buying'])\n",
        "data['maintenance']=le_maint.transform(data['maintenance'])\n",
        "data['doors']=le_doors.transform(data['doors'])\n",
        "data['persons']=le_persons.transform(data['persons'])\n",
        "data['luggage_boot']=le_lug_boot.transform(data['luggage_boot'])\n",
        "data['safety']=le_safety.transform(data['safety'])\n",
        "\n",
        "\n",
        "\n",
        "#print(data['buying'].head())\n",
        "\n",
        "\n",
        "\n",
        "features=np.array(data.drop(['result'],1))\n",
        "labels=np.array(data['result'])\n",
        "\n",
        "features_train,features_test,labels_train,labels_test=model_selection.train_test_split(features,labels,test_size=0.2)\n",
        "\n",
        "clf=neighbors.KNeighborsClassifier()\n",
        "\n",
        "clf.fit(features_train,labels_train)\n",
        "\n",
        "accuracy=clf.score(features_test,labels_test)\n",
        "print(accuracy)"
      ],
      "execution_count": 28,
      "outputs": [
        {
          "output_type": "stream",
          "text": [
            "0.9075144508670521\n"
          ],
          "name": "stdout"
        }
      ]
    }
  ]
}