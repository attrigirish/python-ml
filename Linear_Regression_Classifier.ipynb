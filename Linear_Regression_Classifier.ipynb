{
  "nbformat": 4,
  "nbformat_minor": 0,
  "metadata": {
    "colab": {
      "name": "Linear Regression Classifier.ipynb",
      "version": "0.3.2",
      "provenance": [],
      "include_colab_link": true
    },
    "kernelspec": {
      "name": "python3",
      "display_name": "Python 3"
    }
  },
  "cells": [
    {
      "cell_type": "markdown",
      "metadata": {
        "id": "view-in-github",
        "colab_type": "text"
      },
      "source": [
        "<a href=\"https://colab.research.google.com/github/attrigirish/python-ml/blob/master/Linear_Regression_Classifier.ipynb\" target=\"_parent\"><img src=\"https://colab.research.google.com/assets/colab-badge.svg\" alt=\"Open In Colab\"/></a>"
      ]
    },
    {
      "metadata": {
        "id": "MN3iqvcOs35Q",
        "colab_type": "text"
      },
      "cell_type": "markdown",
      "source": [
        "# Cusom Linear Regression Classifier\n",
        "\n",
        "\n",
        "**Correlation**\n",
        "\n",
        "![alt text](https://pythonprogramming.net/static/images/machine-learning/obvious-positive-correlation.png)\n",
        "\n",
        "**Best Fit Line**\n",
        "\n",
        "![alt text](https://pythonprogramming.net/static/images/machine-learning/positive-correlation.png)\n",
        "\n",
        "**More Example**\n",
        "\n",
        "![alt text](https://pythonprogramming.net/static/images/machine-learning/weak-negative.png)\n",
        "\n",
        "![alt text](https://pythonprogramming.net/static/images/machine-learning/no-correlation.png)\n",
        "\n"
      ]
    },
    {
      "metadata": {
        "id": "MWIx_0ayuIu9",
        "colab_type": "text"
      },
      "cell_type": "markdown",
      "source": [
        "# Best Fit Line\n",
        "\n",
        "**Finding the straight line**\n",
        "\n",
        " y = mx + b, where m is the slope and b is the y-intercept.\n",
        " \n",
        " **Calculating the m slope and b (y-intercept)**\n",
        " \n",
        " ![alt text](https://pythonprogramming.net/static/images/machine-learning/best-fit-slope.png)\n",
        " \n",
        " and\n",
        " \n",
        " ![alt text](https://pythonprogramming.net/static/images/machine-learning/best-fit-y-intercept.png)"
      ]
    },
    {
      "metadata": {
        "id": "PWpEtR-MvHi4",
        "colab_type": "code",
        "colab": {}
      },
      "cell_type": "code",
      "source": [
        "from statistics import mean\n",
        "import numpy as np"
      ],
      "execution_count": 0,
      "outputs": []
    },
    {
      "metadata": {
        "id": "IBJcEK8RvcVP",
        "colab_type": "code",
        "colab": {}
      },
      "cell_type": "code",
      "source": [
        "xs = np.array([1,2,3,4,5], dtype=np.float64)\n",
        "ys = np.array([5,4,6,5,6], dtype=np.float64)"
      ],
      "execution_count": 0,
      "outputs": []
    },
    {
      "metadata": {
        "id": "hPNQU57rvkV7",
        "colab_type": "code",
        "colab": {
          "base_uri": "https://localhost:8080/",
          "height": 366
        },
        "outputId": "2ba5baf8-9b82-46c6-9e6c-ded0e671bb04"
      },
      "cell_type": "code",
      "source": [
        "from matplotlib import pyplot as plt\n",
        "\n",
        "plt.scatter(xs,ys)"
      ],
      "execution_count": 6,
      "outputs": [
        {
          "output_type": "execute_result",
          "data": {
            "text/plain": [
              "<matplotlib.collections.PathCollection at 0x7f4d9d2e63c8>"
            ]
          },
          "metadata": {
            "tags": []
          },
          "execution_count": 6
        },
        {
          "output_type": "display_data",
          "data": {
            "image/png": "[encoded data removed]",
            "text/plain": [
              "<matplotlib.figure.Figure at 0x7f4d9fb96eb8>"
            ]
          },
          "metadata": {
            "tags": []
          }
        }
      ]
    },
    {
      "metadata": {
        "id": "KSdujcf5v5mq",
        "colab_type": "code",
        "colab": {}
      },
      "cell_type": "code",
      "source": [
        "#Calculating the m slope\n",
        "\n",
        "def Slope(xs,ys):\n",
        "  m = (( (mean(xs)*mean(ys)) - mean(xs*ys)) / ( (mean(xs)**2) - mean(xs**2)))\n",
        "  return m\n",
        "  "
      ],
      "execution_count": 0,
      "outputs": []
    },
    {
      "metadata": {
        "id": "5jEyjbkYw9hz",
        "colab_type": "code",
        "colab": {}
      },
      "cell_type": "code",
      "source": [
        "#Calculating the b (y-intercept)\n",
        "\n",
        "def Intercept(xs,ys):\n",
        "  m=Slope(xs,ys)\n",
        "  b = mean(ys) - m*mean(xs)\n",
        "  return b"
      ],
      "execution_count": 0,
      "outputs": []
    },
    {
      "metadata": {
        "id": "VBZJbUBJxnWT",
        "colab_type": "code",
        "colab": {
          "base_uri": "https://localhost:8080/",
          "height": 36
        },
        "outputId": "62880af9-aaf1-4cf1-92b4-854a8a9e4799"
      },
      "cell_type": "code",
      "source": [
        "#Regression Line\n",
        "\n",
        "m=Slope(xs,ys)\n",
        "b=Intercept(xs,ys)\n",
        "regression_line = []\n",
        "for x in xs:\n",
        "    regression_line.append((m*x)+b)\n",
        "    \n",
        "print(regression_line)"
      ],
      "execution_count": 13,
      "outputs": [
        {
          "output_type": "stream",
          "text": [
            "[4.600000000000002, 4.900000000000001, 5.2, 5.499999999999999, 5.799999999999998]\n"
          ],
          "name": "stdout"
        }
      ]
    },
    {
      "metadata": {
        "id": "tdQanQOox6AB",
        "colab_type": "code",
        "colab": {
          "base_uri": "https://localhost:8080/",
          "height": 347
        },
        "outputId": "a35a8909-fb7b-4573-a31f-a3ff208ec8f3"
      },
      "cell_type": "code",
      "source": [
        "plt.scatter(xs,ys,color='b')\n",
        "plt.plot(xs, regression_line, color='r')\n",
        "plt.show()\n"
      ],
      "execution_count": 14,
      "outputs": [
        {
          "output_type": "display_data",
          "data": {
            "image/png": "[encoded data removed]",
            "text/plain": [
              "<matplotlib.figure.Figure at 0x7f4d9d1f1978>"
            ]
          },
          "metadata": {
            "tags": []
          }
        }
      ]
    },
    {
      "metadata": {
        "id": "ohKAwP3ryOD7",
        "colab_type": "code",
        "colab": {
          "base_uri": "https://localhost:8080/",
          "height": 347
        },
        "outputId": "ad3a7996-0181-4ac4-9119-9c851fd7cbd9"
      },
      "cell_type": "code",
      "source": [
        "#Predicting the Output\n",
        "\n",
        "predict_x = [7,6,9]\n",
        "predict_y = []\n",
        "for i in range(len(predict_x)):  \n",
        "  value=(m*predict_x[i])+b\n",
        "  predict_y.append(value)\n",
        "\n",
        "plt.scatter(xs,ys,color='b',label='data')\n",
        "plt.plot(xs, regression_line, color='r', label='regression line')\n",
        "plt.scatter(predict_x,predict_y, color='g', label='prediction')\n",
        "plt.legend(loc=4)\n",
        "plt.show()"
      ],
      "execution_count": 18,
      "outputs": [
        {
          "output_type": "display_data",
          "data": {
            "image/png": "[encoded data removed]",
            "text/plain": [
              "<matplotlib.figure.Figure at 0x7f4d9d0e2278>"
            ]
          },
          "metadata": {
            "tags": []
          }
        }
      ]
    },
    {
      "metadata": {
        "id": "fEiR8ymK0yCL",
        "colab_type": "text"
      },
      "cell_type": "markdown",
      "source": [
        "**R Squared and Coefficient of Determination**\n",
        "\n",
        "R-squared is a statistical measure of how close the data are to the fitted regression line. It is also known as the coefficient of determination, or the coefficient of multiple determination for multiple regression.\n",
        "\n",
        "The definition of R-squared is fairly straight-forward; it is the percentage of the response variable variation that is explained by a linear model. Or:\n",
        "\n",
        "R-squared = Explained variation / Total variation\n",
        "\n",
        "R-squared is always between 0 and 100%:\n",
        "\n",
        "*  0% indicates that the model explains none of the variability of the response data around its mean.\n",
        "*  100% indicates that the model explains all the variability of the response data around its mean.\n",
        "\n",
        "In general, the higher the R-squared, the better the model fits your data.\n",
        "\n",
        "\n",
        "**Limitations of R squared**\n",
        "\n",
        "R-squared does not indicate whether a regression model is adequate. You can have a low R-squared value for a good model, or a high R-squared value for a model that does not fit the data!\n",
        "\n",
        "\n"
      ]
    },
    {
      "metadata": {
        "id": "0u8zZzqv2azl",
        "colab_type": "text"
      },
      "cell_type": "markdown",
      "source": [
        "**Squared Errors**\n",
        "\n",
        "The distance between the regression line's y values, and the data's y values is the error, then we square that. The line's squared error is either a mean or a sum of this.\n",
        "\n",
        "Equation of squared errors is:\n",
        "\n",
        "![alt text](https://pythonprogramming.net/static/images/machine-learning/coefficient-of-determination-r-squared.png)\n",
        "\n",
        "The equation is essentially 1 minus the division of the squared error of the regression line and the squared error of the mean y line. The mean y line is quite literally the mean of all of the y values from the dataset. "
      ]
    },
    {
      "metadata": {
        "id": "sbnodZni1Fo3",
        "colab_type": "code",
        "colab": {}
      },
      "cell_type": "code",
      "source": [
        "#Calculating Squared Errors\n",
        "\n",
        "def SquaredError(ys_orig,ys_line):\n",
        "    return sum((ys_line - ys_orig) * (ys_line - ys_orig))"
      ],
      "execution_count": 0,
      "outputs": []
    },
    {
      "metadata": {
        "id": "IOYRgzBdBW4c",
        "colab_type": "code",
        "colab": {}
      },
      "cell_type": "code",
      "source": [
        "#Calculating Coefficient of Determination\n",
        "\n",
        "def CoefficientOfDetermination(ys_orig,ys_line):\n",
        "    y_mean_line = [mean(ys_orig) for y in ys_orig]\n",
        "    squared_error_regr = SquaredError(ys_orig, ys_line)\n",
        "    squared_error_y_mean = SquaredError(ys_orig, y_mean_line)\n",
        "    return 1 - (squared_error_regr/squared_error_y_mean)"
      ],
      "execution_count": 0,
      "outputs": []
    },
    {
      "metadata": {
        "id": "8X8-KQ0ABlmI",
        "colab_type": "code",
        "colab": {
          "base_uri": "https://localhost:8080/",
          "height": 36
        },
        "outputId": "3fd2113c-7fd8-4daf-8076-1e3206ec358c"
      },
      "cell_type": "code",
      "source": [
        "#Calculating R Squared\n",
        "\n",
        "r_squared = CoefficientOfDetermination(ys,regression_line)\n",
        "print(r_squared)"
      ],
      "execution_count": 21,
      "outputs": [
        {
          "output_type": "stream",
          "text": [
            "0.3214285714285714\n"
          ],
          "name": "stdout"
        }
      ]
    },
    {
      "metadata": {
        "id": "DXsH4MWDCFOa",
        "colab_type": "code",
        "colab": {}
      },
      "cell_type": "code",
      "source": [
        "#Creating Sample Data for Application\n",
        "import random\n",
        "\n",
        "def CreateDataset(n,variance,step=2,correlation=False):\n",
        "    val = 1\n",
        "    ys = []\n",
        "    for i in range(n):\n",
        "        y = val + random.randrange(-variance,variance)\n",
        "        ys.append(y)\n",
        "        if correlation and correlation == 'pos':\n",
        "            val+=step\n",
        "        elif correlation and correlation == 'neg':\n",
        "            val-=step\n",
        "\n",
        "    xs = [i for i in range(len(ys))]\n",
        "    \n",
        "    return np.array(xs, dtype=np.float64),np.array(ys,dtype=np.float64)"
      ],
      "execution_count": 0,
      "outputs": []
    },
    {
      "metadata": {
        "id": "hK9qd66-C9ZK",
        "colab_type": "code",
        "colab": {
          "base_uri": "https://localhost:8080/",
          "height": 366
        },
        "outputId": "c34e9168-121c-4c69-b217-adc857083cfa"
      },
      "cell_type": "code",
      "source": [
        "#Creating Data Set and Visualizing Data\n",
        "\n",
        "xs, ys = CreateDataset(40,20,2,correlation='pos')\n",
        "\n",
        "plt.scatter(xs,ys)"
      ],
      "execution_count": 26,
      "outputs": [
        {
          "output_type": "execute_result",
          "data": {
            "text/plain": [
              "<matplotlib.collections.PathCollection at 0x7f4d9d1a9748>"
            ]
          },
          "metadata": {
            "tags": []
          },
          "execution_count": 26
        },
        {
          "output_type": "display_data",
          "data": {
            "image/png": "[encoded data removed]",
            "text/plain": [
              "<matplotlib.figure.Figure at 0x7f4d9d11c550>"
            ]
          },
          "metadata": {
            "tags": []
          }
        }
      ]
    },
    {
      "metadata": {
        "id": "dGXVClTBDXTJ",
        "colab_type": "code",
        "colab": {
          "base_uri": "https://localhost:8080/",
          "height": 347
        },
        "outputId": "cf263fa5-8ea5-4d24-87c4-21758f96c912"
      },
      "cell_type": "code",
      "source": [
        "#Reapplying the Classifier\n",
        "\n",
        "m=Slope(xs,ys)\n",
        "b=Intercept(xs,ys)\n",
        "\n",
        "regression_line = [(m*x)+b for x in xs]\n",
        "\n",
        "plt.scatter(xs,ys,color='#003F72', label = 'data')\n",
        "plt.plot(xs, regression_line, label = 'regression line')\n",
        "plt.legend(loc=4)\n",
        "plt.show()"
      ],
      "execution_count": 27,
      "outputs": [
        {
          "output_type": "display_data",
          "data": {
            "image/png": "[encoded data removed]",
            "text/plain": [
              "<matplotlib.figure.Figure at 0x7f4d9d123748>"
            ]
          },
          "metadata": {
            "tags": []
          }
        }
      ]
    },
    {
      "metadata": {
        "id": "vesZLfP2Dzb3",
        "colab_type": "code",
        "colab": {
          "base_uri": "https://localhost:8080/",
          "height": 36
        },
        "outputId": "42d0a93d-d3c5-4f17-fb74-280d1173b2da"
      },
      "cell_type": "code",
      "source": [
        "#Predicting the accuracy\n",
        "\n",
        "r_squared = CoefficientOfDetermination(ys,regression_line)\n",
        "\n",
        "print(r_squared)"
      ],
      "execution_count": 28,
      "outputs": [
        {
          "output_type": "stream",
          "text": [
            "0.8076091463867868\n"
          ],
          "name": "stdout"
        }
      ]
    }
  ]
}