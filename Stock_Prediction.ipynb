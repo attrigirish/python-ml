{
  "nbformat": 4,
  "nbformat_minor": 0,
  "metadata": {
    "colab": {
      "name": "Stock Prediction.ipynb",
      "version": "0.3.2",
      "provenance": [],
      "include_colab_link": true
    },
    "kernelspec": {
      "name": "python3",
      "display_name": "Python 3"
    }
  },
  "cells": [
    {
      "cell_type": "markdown",
      "metadata": {
        "id": "view-in-github",
        "colab_type": "text"
      },
      "source": [
        "[View in Colaboratory](https://colab.research.google.com/github/attrigirish/python-ml/blob/master/Stock_Prediction.ipynb)"
      ]
    },
    {
      "metadata": {
        "id": "LyrJlm25FKPW",
        "colab_type": "text"
      },
      "cell_type": "markdown",
      "source": [
        "# Stock Market Prediction App "
      ]
    },
    {
      "metadata": {
        "id": "8N9MdPquFXes",
        "colab_type": "text"
      },
      "cell_type": "markdown",
      "source": [
        "**Download Quandl**"
      ]
    },
    {
      "metadata": {
        "id": "qYgn5mhTC5Ky",
        "colab_type": "code",
        "colab": {}
      },
      "cell_type": "code",
      "source": [
        "#Installing External Modules\n",
        "\n",
        "!pip install -q Quandl\n"
      ],
      "execution_count": 0,
      "outputs": []
    },
    {
      "metadata": {
        "id": "bz0wZmygFdoK",
        "colab_type": "text"
      },
      "cell_type": "markdown",
      "source": [
        "**Importing Sample Data (HDFC Bank Pvt Ltd)**"
      ]
    },
    {
      "metadata": {
        "id": "cCkYRFWx-Umy",
        "colab_type": "code",
        "colab": {
          "base_uri": "https://localhost:8080/",
          "height": 303
        },
        "outputId": "6885cb1c-b639-4c3f-96f6-4153b6ab6901"
      },
      "cell_type": "code",
      "source": [
        "#Quandl : NSE/HDFCBANK\n",
        "#URL : https://www.quandl.com/data/NSE/HDFCBANK-HDFC-Bank-Limited \n",
        "\n",
        "import pandas as pd\n",
        "import quandl\n",
        "\n",
        "df = quandl.get(\"NSE/HDFCBANK\")\n",
        "\n",
        "print(df.head())"
      ],
      "execution_count": 3,
      "outputs": [
        {
          "output_type": "stream",
          "text": [
            "             Open   High    Low   Last  Close  Total Trade Quantity  \\\n",
            "Date                                                                  \n",
            "1998-03-20  70.00  75.40  70.00    NaN    NaN                   NaN   \n",
            "1998-03-23  74.95  74.95  72.50  73.05  73.05               26700.0   \n",
            "1998-03-24  75.95  76.00  72.75  73.50  73.25              374200.0   \n",
            "1998-03-25  75.25  76.90  74.40  76.00  76.50              222800.0   \n",
            "1998-03-26  76.50  76.80  73.00  73.50  73.70              215400.0   \n",
            "\n",
            "            Turnover (Lacs)  \n",
            "Date                         \n",
            "1998-03-20              NaN  \n",
            "1998-03-23            19.60  \n",
            "1998-03-24           277.32  \n",
            "1998-03-25           168.59  \n",
            "1998-03-26           160.71  \n"
          ],
          "name": "stdout"
        }
      ]
    },
    {
      "metadata": {
        "id": "dM2ksNkPFjIk",
        "colab_type": "text"
      },
      "cell_type": "markdown",
      "source": [
        "**Filtering Data/Cleaning Data**"
      ]
    },
    {
      "metadata": {
        "id": "3PJOQCbFFm59",
        "colab_type": "code",
        "colab": {
          "base_uri": "https://localhost:8080/",
          "height": 150
        },
        "outputId": "a39def51-9e3a-4895-d291-0ddee7509e97"
      },
      "cell_type": "code",
      "source": [
        "df=df[ [\"Open\",\"High\",\"Low\",\"Close\",\"Total Trade Quantity\"] ]\n",
        "\n",
        "print(df.head())"
      ],
      "execution_count": 4,
      "outputs": [
        {
          "output_type": "stream",
          "text": [
            "             Open   High    Low  Close  Total Trade Quantity\n",
            "Date                                                        \n",
            "1998-03-20  70.00  75.40  70.00    NaN                   NaN\n",
            "1998-03-23  74.95  74.95  72.50  73.05               26700.0\n",
            "1998-03-24  75.95  76.00  72.75  73.25              374200.0\n",
            "1998-03-25  75.25  76.90  74.40  76.50              222800.0\n",
            "1998-03-26  76.50  76.80  73.00  73.70              215400.0\n"
          ],
          "name": "stdout"
        }
      ]
    },
    {
      "metadata": {
        "id": "v2JgFke7Gcv4",
        "colab_type": "text"
      },
      "cell_type": "markdown",
      "source": [
        "**Inferring Meaningful Data from Existing Information**"
      ]
    },
    {
      "metadata": {
        "id": "8cyIrETrGhHX",
        "colab_type": "code",
        "colab": {}
      },
      "cell_type": "code",
      "source": [
        "#High/Low Percentage - Variance between daily high and low values\n",
        "df['HL_PCT'] = (df['High'] - df['Low']) / df['Close'] * 100.0\n",
        "\n",
        "#Percentage Change - Change in percentage in the stock price from last closing price\n",
        "df['PCT_change'] = (df['Close'] - df['Open']) / df['Open'] * 100.0"
      ],
      "execution_count": 0,
      "outputs": []
    },
    {
      "metadata": {
        "id": "TQs4s7fQHgvK",
        "colab_type": "text"
      },
      "cell_type": "markdown",
      "source": [
        "**Further Cleaning Data**"
      ]
    },
    {
      "metadata": {
        "id": "z2t_NarMHgKI",
        "colab_type": "code",
        "colab": {
          "base_uri": "https://localhost:8080/",
          "height": 150
        },
        "outputId": "aa1d5e21-6954-4685-8295-78c7f8b705a9"
      },
      "cell_type": "code",
      "source": [
        "df = df[['Close', 'HL_PCT', 'PCT_change', 'Total Trade Quantity']]\n",
        "\n",
        "print(df.head())"
      ],
      "execution_count": 6,
      "outputs": [
        {
          "output_type": "stream",
          "text": [
            "            Close    HL_PCT  PCT_change  Total Trade Quantity\n",
            "Date                                                         \n",
            "1998-03-20    NaN       NaN         NaN                   NaN\n",
            "1998-03-23  73.05  3.353867   -2.535023               26700.0\n",
            "1998-03-24  73.25  4.436860   -3.554970              374200.0\n",
            "1998-03-25  76.50  3.267974    1.661130              222800.0\n",
            "1998-03-26  73.70  5.156038   -3.660131              215400.0\n"
          ],
          "name": "stdout"
        }
      ]
    },
    {
      "metadata": {
        "id": "kUQDAfqnjBhy",
        "colab_type": "text"
      },
      "cell_type": "markdown",
      "source": [
        "**Features and Labels**\n",
        "\n",
        "What are the features and what is the label?\n",
        "\n",
        "We're trying to predict the price, so is price the label? If so, what are the featuers? When it comes to forecasting out the price, our label, the thing we're hoping to predict, is actually the future price. As such, our features are actually: current price, high minus low percent, and the percent change volatility."
      ]
    },
    {
      "metadata": {
        "id": "RKrfiv9_LzZO",
        "colab_type": "code",
        "colab": {
          "base_uri": "https://localhost:8080/",
          "height": 303
        },
        "outputId": "8fec7acd-7ff8-4240-85a3-4bda91c5599f"
      },
      "cell_type": "code",
      "source": [
        "import math\n",
        "\n",
        "forecast_col = 'Close'\n",
        "df.fillna(value=-99999, inplace=True)\n",
        "forecast_out = int(math.ceil(0.01 * len(df)))\n",
        "df['Future_Price'] = df[forecast_col].shift(-forecast_out)\n",
        "print(df.head())"
      ],
      "execution_count": 7,
      "outputs": [
        {
          "output_type": "stream",
          "text": [
            "               Close        HL_PCT    PCT_change  Total Trade Quantity  \\\n",
            "Date                                                                     \n",
            "1998-03-20 -99999.00 -99999.000000 -99999.000000              -99999.0   \n",
            "1998-03-23     73.05      3.353867     -2.535023               26700.0   \n",
            "1998-03-24     73.25      4.436860     -3.554970              374200.0   \n",
            "1998-03-25     76.50      3.267974      1.661130              222800.0   \n",
            "1998-03-26     73.70      5.156038     -3.660131              215400.0   \n",
            "\n",
            "            Future_Price  \n",
            "Date                      \n",
            "1998-03-20         66.65  \n",
            "1998-03-23         63.60  \n",
            "1998-03-24         66.05  \n",
            "1998-03-25         63.75  \n",
            "1998-03-26         63.00  \n"
          ],
          "name": "stdout"
        }
      ]
    },
    {
      "metadata": {
        "id": "HnDO470oj0Uq",
        "colab_type": "text"
      },
      "cell_type": "markdown",
      "source": [
        "**Checking for NaN**"
      ]
    },
    {
      "metadata": {
        "id": "YZdIIHnQj58J",
        "colab_type": "code",
        "colab": {
          "base_uri": "https://localhost:8080/",
          "height": 303
        },
        "outputId": "85921ab8-4fbe-485d-b48c-c4613618fe7c"
      },
      "cell_type": "code",
      "source": [
        "df=df.dropna()\n",
        "print(df.head())"
      ],
      "execution_count": 8,
      "outputs": [
        {
          "output_type": "stream",
          "text": [
            "               Close        HL_PCT    PCT_change  Total Trade Quantity  \\\n",
            "Date                                                                     \n",
            "1998-03-20 -99999.00 -99999.000000 -99999.000000              -99999.0   \n",
            "1998-03-23     73.05      3.353867     -2.535023               26700.0   \n",
            "1998-03-24     73.25      4.436860     -3.554970              374200.0   \n",
            "1998-03-25     76.50      3.267974      1.661130              222800.0   \n",
            "1998-03-26     73.70      5.156038     -3.660131              215400.0   \n",
            "\n",
            "            Future_Price  \n",
            "Date                      \n",
            "1998-03-20         66.65  \n",
            "1998-03-23         63.60  \n",
            "1998-03-24         66.05  \n",
            "1998-03-25         63.75  \n",
            "1998-03-26         63.00  \n"
          ],
          "name": "stdout"
        }
      ]
    },
    {
      "metadata": {
        "id": "Rf1Wno3UlWzt",
        "colab_type": "text"
      },
      "cell_type": "markdown",
      "source": [
        "**Scaling Data**"
      ]
    },
    {
      "metadata": {
        "id": "9dmEGGB8k3r0",
        "colab_type": "code",
        "colab": {
          "base_uri": "https://localhost:8080/",
          "height": 131
        },
        "outputId": "dbeb43d9-94f4-477b-8722-a653c8393d3d"
      },
      "cell_type": "code",
      "source": [
        "import numpy as np\n",
        "from sklearn import preprocessing\n",
        "\n",
        "#Creating Features Set\n",
        "X = np.array(df.drop(['Future_Price'], 1))\n",
        "\n",
        "X = preprocessing.scale(X)\n",
        "X_lately = X[-forecast_out:]\n",
        "X = X[:-forecast_out]\n",
        "\n",
        "df.dropna(inplace=True)\n",
        "\n",
        "\n",
        "#Creating Label\n",
        "y = np.array(df['Future_Price'])\n",
        "y = y[:-forecast_out]\n",
        "\n",
        "\n",
        "print(X[:5])\n",
        "print(y[:5])"
      ],
      "execution_count": 9,
      "outputs": [
        {
          "output_type": "stream",
          "text": [
            "[[-6.51175524e+01 -7.09928627e+01 -7.09928708e+01 -6.11533577e-01]\n",
            " [-4.78755963e-01  1.42545320e-02  1.23040109e-02 -5.45210439e-01]\n",
            " [-4.78626778e-01  1.50235159e-02  1.15797701e-02 -3.63304578e-01]\n",
            " [-4.76527530e-01  1.41935431e-02  1.52836019e-02 -4.42557952e-01]\n",
            " [-4.78336113e-01  1.55341714e-02  1.15050982e-02 -4.46431631e-01]]\n",
            "[66.65 63.6  66.05 63.75 63.  ]\n"
          ],
          "name": "stdout"
        }
      ]
    },
    {
      "metadata": {
        "id": "UXDhgizomB5U",
        "colab_type": "text"
      },
      "cell_type": "markdown",
      "source": [
        "**Training and Testing Data Sets**"
      ]
    },
    {
      "metadata": {
        "id": "MJVsXjuhmFx7",
        "colab_type": "code",
        "colab": {
          "base_uri": "https://localhost:8080/",
          "height": 112
        },
        "outputId": "21723543-de26-4578-b13d-51ece0823cb6"
      },
      "cell_type": "code",
      "source": [
        "from sklearn import cross_validation\n",
        "\n",
        "X_train, X_test, y_train, y_test = cross_validation.train_test_split(X, y, test_size=0.2)\n",
        "print(X_train[-5:])"
      ],
      "execution_count": 10,
      "outputs": [
        {
          "output_type": "stream",
          "text": [
            "[[-0.37967144  0.01594937  0.01331338 -0.48540241]\n",
            " [-0.48976894  0.0147894   0.01714537 -0.44904898]\n",
            " [-0.42598409  0.01497027  0.01505735 -0.01720185]\n",
            " [-0.36148872  0.01527556  0.0140205  -0.50644538]\n",
            " [ 0.09107693  0.01376856  0.01564194 -0.08434213]]\n"
          ],
          "name": "stdout"
        }
      ]
    },
    {
      "metadata": {
        "id": "LX8bSj_OmaAt",
        "colab_type": "text"
      },
      "cell_type": "markdown",
      "source": [
        "**Creating Classifier/Model**"
      ]
    },
    {
      "metadata": {
        "id": "hPlFgJMHmc_1",
        "colab_type": "code",
        "colab": {
          "base_uri": "https://localhost:8080/",
          "height": 36
        },
        "outputId": "5f1e19b1-7089-4a15-de6b-5785546c6dfc"
      },
      "cell_type": "code",
      "source": [
        "from sklearn.linear_model import LinearRegression\n",
        "\n",
        "\n",
        "clf = LinearRegression()\n",
        "\n",
        "\n",
        "clf.fit(X_train, y_train)\n",
        "accuracy = clf.score(X_test, y_test)\n",
        "\n",
        "print(accuracy)"
      ],
      "execution_count": 11,
      "outputs": [
        {
          "output_type": "stream",
          "text": [
            "0.875972753261584\n"
          ],
          "name": "stdout"
        }
      ]
    },
    {
      "metadata": {
        "id": "fPESy4aPoxOG",
        "colab_type": "text"
      },
      "cell_type": "markdown",
      "source": [
        "**Forecasting**"
      ]
    },
    {
      "metadata": {
        "id": "Ga9anm4Sp0cT",
        "colab_type": "code",
        "colab": {
          "base_uri": "https://localhost:8080/",
          "height": 55
        },
        "outputId": "32b519bf-15e0-4ad1-89aa-2d4909df0c73"
      },
      "cell_type": "code",
      "source": [
        "forecast_set = clf.predict(X_lately)\n",
        "\n",
        "print(forecast_set[:5])\n",
        "print(forecast_set[-5:])"
      ],
      "execution_count": 12,
      "outputs": [
        {
          "output_type": "stream",
          "text": [
            "[1800.53426035 1852.07563805 1846.09200913 1844.38124708 1879.32986794]\n",
            "[2126.69308721 2072.30769418 2109.76283973 2022.045704   2005.96302093]\n"
          ],
          "name": "stdout"
        }
      ]
    },
    {
      "metadata": {
        "id": "EW68fQrcq2bg",
        "colab_type": "text"
      },
      "cell_type": "markdown",
      "source": [
        "**Visualizing the Information**"
      ]
    },
    {
      "metadata": {
        "id": "IjDi5cP5q5uR",
        "colab_type": "code",
        "colab": {
          "base_uri": "https://localhost:8080/",
          "height": 644
        },
        "outputId": "6e67f8ac-7534-4fa4-b911-32591ac190dd"
      },
      "cell_type": "code",
      "source": [
        "import datetime\n",
        "import matplotlib.pyplot as plt\n",
        "from matplotlib import style\n",
        "\n",
        "style.use('ggplot')\n",
        "\n",
        "df['Forecast'] = np.nan\n",
        "\n",
        "last_date = df.iloc[-1].name\n",
        "last_unix = last_date.timestamp()\n",
        "one_day = 86400\n",
        "next_unix = last_unix + one_day\n",
        "\n",
        "for i in forecast_set:\n",
        "    next_date = datetime.datetime.fromtimestamp(next_unix)\n",
        "    next_unix += 86400\n",
        "    df.loc[next_date] = [np.nan for _ in range(len(df.columns)-1)]+[i]\n",
        "    \n",
        "\n",
        "df=df.truncate(before='2018-05-01')\n",
        "print(df.head())\n",
        "    \n",
        "df['Close'].plot()\n",
        "df['Forecast'].plot()\n",
        "plt.legend(loc=4)\n",
        "plt.xlabel('Date')\n",
        "plt.ylabel('Price')\n",
        "plt.show()"
      ],
      "execution_count": 13,
      "outputs": [
        {
          "output_type": "stream",
          "text": [
            "              Close    HL_PCT  PCT_change  Total Trade Quantity  Future_Price  \\\n",
            "Date                                                                            \n",
            "2018-05-02  1969.50  1.624778    1.000000             1775012.0       2165.95   \n",
            "2018-05-03  1967.90  1.468571   -0.007622             1038193.0       2180.90   \n",
            "2018-05-04  1988.50  1.191853    0.939086             1720359.0       2168.85   \n",
            "2018-05-07  1977.40  0.622029   -0.214468             1316032.0       2176.75   \n",
            "2018-05-08  1967.05  1.286190   -0.616395             1775141.0       2176.20   \n",
            "\n",
            "            Forecast  \n",
            "Date                  \n",
            "2018-05-02       NaN  \n",
            "2018-05-03       NaN  \n",
            "2018-05-04       NaN  \n",
            "2018-05-07       NaN  \n",
            "2018-05-08       NaN  \n"
          ],
          "name": "stdout"
        },
        {
          "output_type": "display_data",
          "data": {
            "image/png": "[encoded data removed]",
            "text/plain": [
              "<matplotlib.figure.Figure at 0x7f6f740c37b8>"
            ]
          },
          "metadata": {
            "tags": []
          }
        }
      ]
    }
  ]
}