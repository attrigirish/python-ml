{
  "nbformat": 4,
  "nbformat_minor": 0,
  "metadata": {
    "colab": {
      "name": "Classification (Supervised Learning).ipynb",
      "version": "0.3.2",
      "provenance": [],
      "collapsed_sections": [],
      "include_colab_link": true
    },
    "kernelspec": {
      "name": "python3",
      "display_name": "Python 3"
    }
  },
  "cells": [
    {
      "cell_type": "markdown",
      "metadata": {
        "id": "view-in-github",
        "colab_type": "text"
      },
      "source": [
        "[View in Colaboratory](https://colab.research.google.com/github/attrigirish/python-ml/blob/master/Classification_(Supervised_Learning).ipynb)"
      ]
    },
    {
      "metadata": {
        "id": "KC-LUfISFLJ_",
        "colab_type": "text"
      },
      "cell_type": "markdown",
      "source": [
        "# Classification\n",
        "\n",
        "To predict the outcome of a given sample where the output variable is in the form of categories. Examples include labels such as male and female, sick and healthy.\n",
        "\n",
        "\n",
        "The purpose of classification is to train a machine on previously known data, so that the machine can later identify the class of new data. "
      ]
    },
    {
      "metadata": {
        "id": "u4RyScAyHF3i",
        "colab_type": "text"
      },
      "cell_type": "markdown",
      "source": [
        "![Figure Classification](https://pythonprogramming.net/static/images/machine-learning/simple-classification-example-data.png)\n",
        "\n",
        "**The objective of classification might be to identify which class the following dot belongs to:**\n",
        "\n",
        "![alt text](https://pythonprogramming.net/static/images/machine-learning/simple-classification-example-data-with-test-1.png)\n",
        "\n",
        "**More Examples**\n",
        "\n",
        "![alt text](https://pythonprogramming.net/static/images/machine-learning/simple-classification-example-data-with-test-2.png)\n",
        "\n",
        "![alt text](https://pythonprogramming.net/static/images/machine-learning/simple-classification-example-data-with-test-3.png)\n",
        "\n"
      ]
    },
    {
      "metadata": {
        "id": "nDunb6jOIPvd",
        "colab_type": "text"
      },
      "cell_type": "markdown",
      "source": [
        "# K Nearest Neighbours\n",
        "\n",
        "Knn is a non-parametric supervised learning technique in which we try to classify the data point to a given category with the help of training set.\n",
        "\n",
        "The “K” is KNN algorithm is the nearest neighbors we wish to take vote from. Let’s say K = 3. \n",
        "\n",
        "![alt text](https://pythonprogramming.net/static/images/machine-learning/simple-classification-example-data-with-test-4.png)\n",
        "\n",
        "In this case, all three neighbors were +, so this is 100% a + class. If 2 neighbors were red + and 1 was a black dot, we'd still classify this is a +, just with a bit less confidence. Note that, due to the nature of the vote, you will likely want to use an odd number for K, otherwise you may find yourself in a 50/50 split situation."
      ]
    },
    {
      "metadata": {
        "id": "AXAiLRTdJ0fd",
        "colab_type": "text"
      },
      "cell_type": "markdown",
      "source": [
        "# Applying Classification"
      ]
    },
    {
      "metadata": {
        "id": "kgJqwa4iJzhH",
        "colab_type": "code",
        "colab": {
          "base_uri": "https://localhost:8080/",
          "height": 74
        },
        "outputId": "d862bef4-4e05-4cc3-a924-befa78fc909a"
      },
      "cell_type": "code",
      "source": [
        "#Sample Data (T-Shirt Size Suggestion on the basis of Customer Height and Weight)\n",
        "\n",
        "heights=[158,158,158,160,160,163,163,160,163,165,165,165,168,168,168,170,170,170]\n",
        "weights=[58,59,63,59,60,60,61,64,64,61,62,65,62,63,66,63,64,68]\n",
        "sizes=['M','M','M','M','M','M','M','L','L','L','L','L','L','L','L','L','L','L']\n",
        "\n",
        "print(len(heights))\n",
        "print(len(weights))\n",
        "print(len(sizes))"
      ],
      "execution_count": 3,
      "outputs": [
        {
          "output_type": "stream",
          "text": [
            "18\n",
            "18\n",
            "18\n"
          ],
          "name": "stdout"
        }
      ]
    },
    {
      "metadata": {
        "id": "Dr1JMXcYK9cY",
        "colab_type": "code",
        "colab": {
          "base_uri": "https://localhost:8080/",
          "height": 379
        },
        "outputId": "89c8f758-6287-4d91-8f07-6ec115ee0de1"
      },
      "cell_type": "code",
      "source": [
        "#Creating DataFrame\n",
        "import pandas as pd\n",
        "import numpy as np\n",
        "\n",
        "sHeights=pd.Series(heights)\n",
        "sWeights=pd.Series(weights)\n",
        "sSizes=pd.Series(sizes)\n",
        "\n",
        "data=pd.concat( [sHeights,sWeights,sSizes] , axis=1)\n",
        "\n",
        "col_index=['height','weight','size']\n",
        "data.columns=col_index\n",
        "\n",
        "print(data)"
      ],
      "execution_count": 11,
      "outputs": [
        {
          "output_type": "stream",
          "text": [
            "    height  weight size\n",
            "0      158      58    M\n",
            "1      158      59    M\n",
            "2      158      63    M\n",
            "3      160      59    M\n",
            "4      160      60    M\n",
            "5      163      60    M\n",
            "6      163      61    M\n",
            "7      160      64    L\n",
            "8      163      64    L\n",
            "9      165      61    L\n",
            "10     165      62    L\n",
            "11     165      65    L\n",
            "12     168      62    L\n",
            "13     168      63    L\n",
            "14     168      66    L\n",
            "15     170      63    L\n",
            "16     170      64    L\n",
            "17     170      68    L\n"
          ],
          "name": "stdout"
        }
      ]
    },
    {
      "metadata": {
        "id": "TraNvrnRM3_D",
        "colab_type": "code",
        "colab": {
          "base_uri": "https://localhost:8080/",
          "height": 131
        },
        "outputId": "a714fe47-ea30-429c-f765-b24b08972b62"
      },
      "cell_type": "code",
      "source": [
        "#Classifying data\n",
        "\n",
        "X = np.array(data.drop(['size'], 1))\n",
        "y = np.array(data['size'])\n",
        "\n",
        "print(X[:5])\n",
        "print(y[:5])"
      ],
      "execution_count": 14,
      "outputs": [
        {
          "output_type": "stream",
          "text": [
            "[[158  58]\n",
            " [158  59]\n",
            " [158  63]\n",
            " [160  59]\n",
            " [160  60]]\n",
            "['M' 'M' 'M' 'M' 'M']\n"
          ],
          "name": "stdout"
        }
      ]
    },
    {
      "metadata": {
        "id": "HFvn6KfxNOfS",
        "colab_type": "code",
        "colab": {
          "base_uri": "https://localhost:8080/",
          "height": 75
        },
        "outputId": "da018744-dce6-473c-a27d-b1bb2953befb"
      },
      "cell_type": "code",
      "source": [
        "#Splitting Training and Testring Data\n",
        "from sklearn import cross_validation\n",
        "\n",
        "X_train, X_test, y_train, y_test = cross_validation.train_test_split(X, y, test_size=0.2)"
      ],
      "execution_count": 15,
      "outputs": [
        {
          "output_type": "stream",
          "text": [
            "/usr/local/lib/python3.6/dist-packages/sklearn/cross_validation.py:41: DeprecationWarning: This module was deprecated in version 0.18 in favor of the model_selection module into which all the refactored classes and functions are moved. Also note that the interface of the new CV iterators are different from that of this module. This module will be removed in 0.20.\n",
            "  \"This module will be removed in 0.20.\", DeprecationWarning)\n"
          ],
          "name": "stderr"
        }
      ]
    },
    {
      "metadata": {
        "id": "eC9CMdlLNhbm",
        "colab_type": "code",
        "colab": {}
      },
      "cell_type": "code",
      "source": [
        "#Creating the Classifier/Model\n",
        "from sklearn import neighbors\n",
        "\n",
        "clf = neighbors.KNeighborsClassifier()\n"
      ],
      "execution_count": 0,
      "outputs": []
    },
    {
      "metadata": {
        "id": "Mt2__XVKNwAQ",
        "colab_type": "code",
        "colab": {
          "base_uri": "https://localhost:8080/",
          "height": 74
        },
        "outputId": "6a5cc4a3-180e-4e58-f26a-813b01234057"
      },
      "cell_type": "code",
      "source": [
        "#Training the Classifier\n",
        "\n",
        "clf.fit(X_train, y_train)"
      ],
      "execution_count": 17,
      "outputs": [
        {
          "output_type": "execute_result",
          "data": {
            "text/plain": [
              "KNeighborsClassifier(algorithm='auto', leaf_size=30, metric='minkowski',\n",
              "           metric_params=None, n_jobs=1, n_neighbors=5, p=2,\n",
              "           weights='uniform')"
            ]
          },
          "metadata": {
            "tags": []
          },
          "execution_count": 17
        }
      ]
    },
    {
      "metadata": {
        "id": "K-MHEWiKN56G",
        "colab_type": "code",
        "colab": {
          "base_uri": "https://localhost:8080/",
          "height": 36
        },
        "outputId": "9bc53ead-297c-4f66-fd8a-8b7b106fccdb"
      },
      "cell_type": "code",
      "source": [
        "#Testing Classifier\n",
        "\n",
        "accuracy = clf.score(X_test, y_test)\n",
        "print(accuracy)"
      ],
      "execution_count": 18,
      "outputs": [
        {
          "output_type": "stream",
          "text": [
            "1.0\n"
          ],
          "name": "stdout"
        }
      ]
    },
    {
      "metadata": {
        "id": "nQg3Fu5fOEAZ",
        "colab_type": "code",
        "colab": {
          "base_uri": "https://localhost:8080/",
          "height": 36
        },
        "outputId": "fc4aa72a-c46f-464f-b481-9a561b702349"
      },
      "cell_type": "code",
      "source": [
        "#Predicting Output\n",
        "\n",
        "predictdata=np.array([180,60])\n",
        "predictdata.shape=(1,-1)\n",
        "\n",
        "prediction=clf.predict(predictdata)\n",
        "\n",
        "print(prediction)"
      ],
      "execution_count": 24,
      "outputs": [
        {
          "output_type": "stream",
          "text": [
            "['L']\n"
          ],
          "name": "stdout"
        }
      ]
    }
  ]
}