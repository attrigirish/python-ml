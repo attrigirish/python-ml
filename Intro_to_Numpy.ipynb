{
  "nbformat": 4,
  "nbformat_minor": 0,
  "metadata": {
    "colab": {
      "name": "Intro to Numpy.ipynb",
      "version": "0.3.2",
      "views": {},
      "default_view": {},
      "provenance": [],
      "collapsed_sections": []
    },
    "kernelspec": {
      "name": "python3",
      "display_name": "Python 3"
    }
  },
  "cells": [
    {
      "metadata": {
        "id": "BLQxMQeTfs7D",
        "colab_type": "text"
      },
      "cell_type": "markdown",
      "source": [
        "# NumPy (Numerical Python)\n",
        "\n",
        "Numpy is the core library for scientific computing in Python. It provides a high-performance multidimensional array object, and tools for working with these arrays.\n",
        "\n",
        "\n",
        "*   An open source extension module for Python.\n",
        "*   provides fast precompiled functions for mathematical and numerical routines.\n",
        "*   Focuses on huge matrices and arrays.\n",
        "*   Supplies a large library of high-level mathematical functions to operate on these matrices and arrays.\n",
        "\n",
        "**Advantages of using Numpy**\n",
        "\n",
        "*   Array Oriented Computing.\n",
        "*   Efficiently implemented multi-dimensional arrays.\n",
        "*   Designed for scientific computation\n",
        "\n"
      ]
    },
    {
      "metadata": {
        "id": "PRZWJf9zkWIv",
        "colab_type": "text"
      },
      "cell_type": "markdown",
      "source": [
        "# **numpy Arrays**"
      ]
    },
    {
      "metadata": {
        "id": "U8PmBurBfm_s",
        "colab_type": "code",
        "colab": {
          "autoexec": {
            "startup": false,
            "wait_interval": 0
          }
        }
      },
      "cell_type": "code",
      "source": [
        "import numpy as np"
      ],
      "execution_count": 0,
      "outputs": []
    },
    {
      "metadata": {
        "id": "rd973SY9knF1",
        "colab_type": "code",
        "colab": {
          "autoexec": {
            "startup": false,
            "wait_interval": 0
          },
          "base_uri": "https://localhost:8080/",
          "height": 36
        },
        "outputId": "e80377c3-1674-48ec-b840-fcf949d44c39",
        "executionInfo": {
          "status": "ok",
          "timestamp": 1532524454320,
          "user_tz": -330,
          "elapsed": 1572,
          "user": {
            "displayName": "Girish Attri",
            "photoUrl": "https://lh3.googleusercontent.com/a/default-user=s128",
            "userId": "115884315507249014173"
          }
        }
      },
      "cell_type": "code",
      "source": [
        "#1D Array\n",
        "\n",
        "a=np.array([1,2,3])\n",
        "print(a)\n"
      ],
      "execution_count": 2,
      "outputs": [
        {
          "output_type": "stream",
          "text": [
            "[1 2 3]\n"
          ],
          "name": "stdout"
        }
      ]
    },
    {
      "metadata": {
        "id": "UHdAvkHZk4UQ",
        "colab_type": "code",
        "colab": {
          "autoexec": {
            "startup": false,
            "wait_interval": 0
          },
          "base_uri": "https://localhost:8080/",
          "height": 55
        },
        "outputId": "6c0c1084-5f0e-49e9-b655-464d8558729d",
        "executionInfo": {
          "status": "ok",
          "timestamp": 1532524476229,
          "user_tz": -330,
          "elapsed": 1257,
          "user": {
            "displayName": "Girish Attri",
            "photoUrl": "https://lh3.googleusercontent.com/a/default-user=s128",
            "userId": "115884315507249014173"
          }
        }
      },
      "cell_type": "code",
      "source": [
        "a=np.array([(1,2,3),(4,5,6)])\n",
        "print(a)"
      ],
      "execution_count": 3,
      "outputs": [
        {
          "output_type": "stream",
          "text": [
            "[[1 2 3]\n",
            " [4 5 6]]\n"
          ],
          "name": "stdout"
        }
      ]
    },
    {
      "metadata": {
        "id": "YRgKTDbiV41y",
        "colab_type": "text"
      },
      "cell_type": "markdown",
      "source": [
        "# NumPy Array v/s List\n",
        "\n",
        "Reasons to choose numpy array v/s Python lists:\n",
        "\n",
        "\n",
        "1.   Less Memory Consumption\n",
        "2.   Fast\n",
        "2.   Convinient\n",
        "\n",
        "\n",
        "\n"
      ]
    },
    {
      "metadata": {
        "id": "kCAgyz6ZWbju",
        "colab_type": "code",
        "colab": {
          "autoexec": {
            "startup": false,
            "wait_interval": 0
          },
          "base_uri": "https://localhost:8080/",
          "height": 137
        },
        "outputId": "536f0058-ea5d-4821-a062-19099e25f725",
        "executionInfo": {
          "status": "ok",
          "timestamp": 1532580773560,
          "user_tz": -330,
          "elapsed": 1212,
          "user": {
            "displayName": "Girish Attri",
            "photoUrl": "https://lh3.googleusercontent.com/a/default-user=s128",
            "userId": "115884315507249014173"
          }
        }
      },
      "cell_type": "code",
      "source": [
        "#Size Comparison between numpy array and list\n",
        "import numpy as np\n",
        "from sys import getsizeof as size\n",
        "\n",
        "lst = [1,2,3]\n",
        "size_of_elements = len(lst) * size(0)\n",
        "size_of_list_object = size(lst)   \n",
        "total_list_size = size_of_list_object + size_of_elements\n",
        "print(\"Size without the size of the elements: \", size_of_list_object)\n",
        "print(\"Size of all the elements: \", size_of_elements)\n",
        "print(\"Total size of list, including elements: \", total_list_size)\n",
        "\n",
        "print()\n",
        "\n",
        "arr=np.array([1,2,3])\n",
        "size_of_elements = arr.itemsize * arr.size\n",
        "size_of_array_object = size(arr) - size_of_elements\n",
        "total_list_size = size(arr)\n",
        "print(\"Size without the size of the elements : \", size_of_array_object)\n",
        "print(\"Size of all the elements: \", size_of_elements)\n",
        "print(\"Total size of list, including elements: \", total_list_size)\n"
      ],
      "execution_count": 5,
      "outputs": [
        {
          "output_type": "stream",
          "text": [
            "Size without the size of the elements:  88\n",
            "Size of all the elements:  72\n",
            "Total size of list, including elements:  160\n",
            "\n",
            "Size without the size of the elements :  96\n",
            "Size of all the elements:  24\n",
            "Total size of list, including elements:  120\n"
          ],
          "name": "stdout"
        }
      ]
    },
    {
      "metadata": {
        "id": "QZiWKLJcB1cr",
        "colab_type": "text"
      },
      "cell_type": "markdown",
      "source": [
        "**Aggregate Functions : max/min/sum**\n",
        "\n"
      ]
    },
    {
      "metadata": {
        "id": "z_8WkGTKB_AU",
        "colab_type": "code",
        "colab": {
          "autoexec": {
            "startup": false,
            "wait_interval": 0
          },
          "base_uri": "https://localhost:8080/",
          "height": 68
        },
        "outputId": "4fc6faff-f6f3-4663-eb5d-d9df0e85c893",
        "executionInfo": {
          "status": "ok",
          "timestamp": 1532580950129,
          "user_tz": -330,
          "elapsed": 1189,
          "user": {
            "displayName": "Girish Attri",
            "photoUrl": "https://lh3.googleusercontent.com/a/default-user=s128",
            "userId": "115884315507249014173"
          }
        }
      },
      "cell_type": "code",
      "source": [
        "a= np.array([54,76,45,76,45,76,23,43,687,54,-23])\n",
        "print(a.min())\n",
        "print(a.max())\n",
        "print(a.sum())"
      ],
      "execution_count": 7,
      "outputs": [
        {
          "output_type": "stream",
          "text": [
            "-23\n",
            "687\n",
            "1156\n"
          ],
          "name": "stdout"
        }
      ]
    },
    {
      "metadata": {
        "id": "Hb1XkdDTc-yK",
        "colab_type": "text"
      },
      "cell_type": "markdown",
      "source": [
        "# Creating numpy Arrays"
      ]
    },
    {
      "metadata": {
        "id": "dA3xGfN0dbat",
        "colab_type": "text"
      },
      "cell_type": "markdown",
      "source": [
        "**arange**\n",
        "\n",
        "arange([start,] stop[, step], [, dtype=None])\n",
        "\n",
        "arange returns evenly spaced values within a given interval. The values are generated within the half-open interval '[start, stop)' If the function is used with integers, it is nearly equivalent to the Python built-in function range, but arange returns an ndarray rather than a list iterator as range does. If the 'start' parameter is not given, it will be set to 0. The end of the interval is determined by the parameter 'stop'. Usually, the interval will not include this value, except in some cases where 'step' is not an integer and floating point round-off affects the length of output ndarray. The spacing between two adjacent values of the output array is set with the optional parameter 'step'. The default value for 'step' is 1. "
      ]
    },
    {
      "metadata": {
        "id": "Ta1ZApoUdO3r",
        "colab_type": "code",
        "colab": {
          "autoexec": {
            "startup": false,
            "wait_interval": 0
          },
          "base_uri": "https://localhost:8080/",
          "height": 86
        },
        "outputId": "b6b8ecbd-f1c7-4c51-fe39-74349ad1654c",
        "executionInfo": {
          "status": "ok",
          "timestamp": 1532581562557,
          "user_tz": -330,
          "elapsed": 1101,
          "user": {
            "displayName": "Girish Attri",
            "photoUrl": "https://lh3.googleusercontent.com/a/default-user=s128",
            "userId": "115884315507249014173"
          }
        }
      },
      "cell_type": "code",
      "source": [
        "import numpy as np\n",
        "\n",
        "a = np.arange(1, 10)\n",
        "print(a)\n",
        "\n",
        "#x = range(1, 10)\n",
        "#print(x)    # x is an iterator\n",
        "#print(list(x))\n",
        "\n",
        "# further arange examples:\n",
        "x = np.arange(10.4)\n",
        "print(x)\n",
        "\n",
        "x = np.arange(0.5, 10.4, 0.8)\n",
        "print(x)\n",
        "\n",
        "x = np.arange(0.5, 10.4, 0.8, int)\n",
        "print(x)"
      ],
      "execution_count": 12,
      "outputs": [
        {
          "output_type": "stream",
          "text": [
            "[1 2 3 4 5 6 7 8 9]\n",
            "[ 0.  1.  2.  3.  4.  5.  6.  7.  8.  9. 10.]\n",
            "[ 0.5  1.3  2.1  2.9  3.7  4.5  5.3  6.1  6.9  7.7  8.5  9.3 10.1]\n",
            "[ 0  1  2  3  4  5  6  7  8  9 10 11 12]\n"
          ],
          "name": "stdout"
        }
      ]
    },
    {
      "metadata": {
        "id": "Z9LfLa0_ejA-",
        "colab_type": "text"
      },
      "cell_type": "markdown",
      "source": [
        "## **linspace**\n",
        "\n",
        "linspace(start, stop, num=50, endpoint=True, retstep=False)\n",
        "\n",
        "linspace returns an ndarray, consisting of 'num' equally spaced samples in the closed interval [start, stop] or the half-open interval [start, stop). If a closed or a half-open interval will be returned, depends on whether 'endpoint' is True or False. The parameter 'start' defines the start value of the sequence which will be created. 'stop' will the end value of the sequence, unless 'endpoint' is set to False. In the latter case, the resulting sequence will consist of all but the last of 'num + 1' evenly spaced samples. This means that 'stop' is excluded. "
      ]
    },
    {
      "metadata": {
        "id": "_fM0Qtk8exd6",
        "colab_type": "code",
        "colab": {
          "autoexec": {
            "startup": false,
            "wait_interval": 0
          },
          "base_uri": "https://localhost:8080/",
          "height": 243
        },
        "outputId": "bad7d951-2a6f-4746-e887-685b9fe61a24",
        "executionInfo": {
          "status": "ok",
          "timestamp": 1532539673965,
          "user_tz": -330,
          "elapsed": 1351,
          "user": {
            "displayName": "Girish Attri",
            "photoUrl": "https://lh3.googleusercontent.com/a/default-user=s128",
            "userId": "115884315507249014173"
          }
        }
      },
      "cell_type": "code",
      "source": [
        "import numpy as np\n",
        "\n",
        "# 50 values between 1 and 10:\n",
        "print(np.linspace(1, 10))\n",
        "\n",
        "# 7 values between 1 and 10:\n",
        "print(np.linspace(1, 10, 7))\n",
        "\n",
        "# excluding the endpoint:\n",
        "print(np.linspace(1, 10, 7, endpoint=False))"
      ],
      "execution_count": 21,
      "outputs": [
        {
          "output_type": "stream",
          "text": [
            "[ 1.          1.18367347  1.36734694  1.55102041  1.73469388  1.91836735\n",
            "  2.10204082  2.28571429  2.46938776  2.65306122  2.83673469  3.02040816\n",
            "  3.20408163  3.3877551   3.57142857  3.75510204  3.93877551  4.12244898\n",
            "  4.30612245  4.48979592  4.67346939  4.85714286  5.04081633  5.2244898\n",
            "  5.40816327  5.59183673  5.7755102   5.95918367  6.14285714  6.32653061\n",
            "  6.51020408  6.69387755  6.87755102  7.06122449  7.24489796  7.42857143\n",
            "  7.6122449   7.79591837  7.97959184  8.16326531  8.34693878  8.53061224\n",
            "  8.71428571  8.89795918  9.08163265  9.26530612  9.44897959  9.63265306\n",
            "  9.81632653 10.        ]\n",
            "[ 1.   2.5  4.   5.5  7.   8.5 10. ]\n",
            "[1.         2.28571429 3.57142857 4.85714286 6.14285714 7.42857143\n",
            " 8.71428571]\n"
          ],
          "name": "stdout"
        }
      ]
    },
    {
      "metadata": {
        "id": "qKdJlxry6yB6",
        "colab_type": "text"
      },
      "cell_type": "markdown",
      "source": [
        "**Zero Dimensional Array**\n",
        "\n",
        "It's possible to create multidimensional arrays in numpy. Scalars are zero dimensional in numpy"
      ]
    },
    {
      "metadata": {
        "id": "2XkQqJV66t3A",
        "colab_type": "code",
        "colab": {
          "autoexec": {
            "startup": false,
            "wait_interval": 0
          },
          "base_uri": "https://localhost:8080/",
          "height": 74
        },
        "outputId": "2100e2ef-5f53-4d0e-c221-0cb11bf8019a",
        "executionInfo": {
          "status": "ok",
          "timestamp": 1532563842270,
          "user_tz": -330,
          "elapsed": 1187,
          "user": {
            "displayName": "Girish Attri",
            "photoUrl": "https://lh3.googleusercontent.com/a/default-user=s128",
            "userId": "115884315507249014173"
          }
        }
      },
      "cell_type": "code",
      "source": [
        "import numpy as np\n",
        "x = np.array(99)\n",
        "print(\"x: \", x)\n",
        "print(\"The type of x: \", type(x))\n",
        "print(\"The dimension of x:\", np.ndim(x))"
      ],
      "execution_count": 1,
      "outputs": [
        {
          "output_type": "stream",
          "text": [
            "x:  99\n",
            "The type of x:  <class 'numpy.ndarray'>\n",
            "The dimension of x: 0\n"
          ],
          "name": "stdout"
        }
      ]
    },
    {
      "metadata": {
        "id": "BvsKhaTz7kN3",
        "colab_type": "text"
      },
      "cell_type": "markdown",
      "source": [
        "**One Dimensional Array**\n",
        "\n",
        "Numpy arrays are containers of items of the same type, e.g. only integers. The homogenous type of the array can be determined with the attribute \"dtype\""
      ]
    },
    {
      "metadata": {
        "id": "Uubck1D_7zEM",
        "colab_type": "code",
        "colab": {
          "autoexec": {
            "startup": false,
            "wait_interval": 0
          },
          "base_uri": "https://localhost:8080/",
          "height": 130
        },
        "outputId": "f35d3356-e5a6-4cd5-b096-737e4102ed08",
        "executionInfo": {
          "status": "ok",
          "timestamp": 1532564127695,
          "user_tz": -330,
          "elapsed": 1181,
          "user": {
            "displayName": "Girish Attri",
            "photoUrl": "https://lh3.googleusercontent.com/a/default-user=s128",
            "userId": "115884315507249014173"
          }
        }
      },
      "cell_type": "code",
      "source": [
        "F = np.array([1, 1, 2, 3, 5, 8, 13, 21])\n",
        "V = np.array([3.4, 6.9, 99.8, 12.8])\n",
        "\n",
        "print(\"F: \", F)\n",
        "print(\"V: \", V)\n",
        "\n",
        "print(\"Type of F: \", F.dtype)\n",
        "print(\"Type of V: \", V.dtype)\n",
        "\n",
        "print(\"Dimension of F: \", np.ndim(F))\n",
        "print(\"Dimension of V: \", np.ndim(V))"
      ],
      "execution_count": 2,
      "outputs": [
        {
          "output_type": "stream",
          "text": [
            "F:  [ 1  1  2  3  5  8 13 21]\n",
            "V:  [ 3.4  6.9 99.8 12.8]\n",
            "Type of F:  int64\n",
            "Type of V:  float64\n",
            "Dimension of F:  1\n",
            "Dimension of V:  1\n"
          ],
          "name": "stdout"
        }
      ]
    },
    {
      "metadata": {
        "id": "VzzR25Ng8Aei",
        "colab_type": "text"
      },
      "cell_type": "markdown",
      "source": [
        "**M Dimensional Array**"
      ]
    },
    {
      "metadata": {
        "id": "PMGipyI68HhH",
        "colab_type": "code",
        "colab": {
          "autoexec": {
            "startup": false,
            "wait_interval": 0
          },
          "base_uri": "https://localhost:8080/",
          "height": 187
        },
        "outputId": "ad0f642f-c2c7-48ec-b173-fc5d7fdcee20",
        "executionInfo": {
          "status": "ok",
          "timestamp": 1532564173097,
          "user_tz": -330,
          "elapsed": 1356,
          "user": {
            "displayName": "Girish Attri",
            "photoUrl": "https://lh3.googleusercontent.com/a/default-user=s128",
            "userId": "115884315507249014173"
          }
        }
      },
      "cell_type": "code",
      "source": [
        "B = np.array([ [[111, 112], [121, 122]],\n",
        "               [[211, 212], [221, 222]],\n",
        "               [[311, 312], [321, 322]] ])\n",
        "print(\"Elements of B : \", B)\n",
        "print(\"Dimension of B : \", B.ndim)"
      ],
      "execution_count": 5,
      "outputs": [
        {
          "output_type": "stream",
          "text": [
            "Elements of B :  [[[111 112]\n",
            "  [121 122]]\n",
            "\n",
            " [[211 212]\n",
            "  [221 222]]\n",
            "\n",
            " [[311 312]\n",
            "  [321 322]]]\n",
            "Dimension of B :  3\n"
          ],
          "name": "stdout"
        }
      ]
    },
    {
      "metadata": {
        "id": "JW0Iuvfy8dJ6",
        "colab_type": "text"
      },
      "cell_type": "markdown",
      "source": [
        "**shape**\n",
        "\n",
        "\"shape\" returns the shape of an array. The shape is a tuple of integers. These numbers denote the lengths of the corresponding array dimension."
      ]
    },
    {
      "metadata": {
        "id": "iR32pUto9Svz",
        "colab_type": "code",
        "colab": {
          "autoexec": {
            "startup": false,
            "wait_interval": 0
          }
        }
      },
      "cell_type": "code",
      "source": [
        "x = np.array([ [67, 63, 87],\n",
        "               [77, 69, 59],\n",
        "               [85, 87, 99],\n",
        "               [79, 72, 71],\n",
        "               [63, 89, 93],\n",
        "               [68, 92, 78]])\n",
        "print(np.shape(x))\n",
        "\n",
        "\n",
        "#\"shape\" can also be used to change the shape of an array.\n",
        "\n",
        "x.shape = (3, 6)\n",
        "print(x)\n",
        "\n",
        "x.shape = (2, 9)\n",
        "print(x)"
      ],
      "execution_count": 0,
      "outputs": []
    },
    {
      "metadata": {
        "id": "VmFX3xNz-Zs_",
        "colab_type": "text"
      },
      "cell_type": "markdown",
      "source": [
        "**reshape**\n",
        "\n",
        "Reshape changes the number of rows and columns in an array which gives a new view to an object."
      ]
    },
    {
      "metadata": {
        "id": "6Dnc6wGP-pvZ",
        "colab_type": "code",
        "colab": {
          "autoexec": {
            "startup": false,
            "wait_interval": 0
          },
          "base_uri": "https://localhost:8080/",
          "height": 74
        },
        "outputId": "60fd32bb-9685-4772-d75a-fe1ef50c3a9c",
        "executionInfo": {
          "status": "ok",
          "timestamp": 1532564867545,
          "user_tz": -330,
          "elapsed": 1249,
          "user": {
            "displayName": "Girish Attri",
            "photoUrl": "https://lh3.googleusercontent.com/a/default-user=s128",
            "userId": "115884315507249014173"
          }
        }
      },
      "cell_type": "code",
      "source": [
        "x = np.array([ [67, 63, 87],\n",
        "               [77, 69, 59],\n",
        "               [85, 87, 99],\n",
        "               [79, 72, 71],\n",
        "               [63, 89, 93],\n",
        "               [68, 92, 78]])\n",
        "print(np.shape(x))\n",
        "\n",
        "y=x.reshape(2,9)\n",
        "print(y)"
      ],
      "execution_count": 9,
      "outputs": [
        {
          "output_type": "stream",
          "text": [
            "(6, 3)\n",
            "[[67 63 87 77 69 59 85 87 99]\n",
            " [79 72 71 63 89 93 68 92 78]]\n"
          ],
          "name": "stdout"
        }
      ]
    },
    {
      "metadata": {
        "id": "E-UyDtB3_d9x",
        "colab_type": "text"
      },
      "cell_type": "markdown",
      "source": [
        "**arrays of ones and zeroes**\n",
        "\n",
        "There are two ways of initializing Arrays with Zeros or Ones."
      ]
    },
    {
      "metadata": {
        "id": "wY90EGw6_2uo",
        "colab_type": "code",
        "colab": {
          "autoexec": {
            "startup": false,
            "wait_interval": 0
          },
          "base_uri": "https://localhost:8080/",
          "height": 111
        },
        "outputId": "9e1498cc-19f3-44d5-c0a0-6e86ea2823f9",
        "executionInfo": {
          "status": "ok",
          "timestamp": 1532565111492,
          "user_tz": -330,
          "elapsed": 1456,
          "user": {
            "displayName": "Girish Attri",
            "photoUrl": "https://lh3.googleusercontent.com/a/default-user=s128",
            "userId": "115884315507249014173"
          }
        }
      },
      "cell_type": "code",
      "source": [
        "F = np.ones((3,4),dtype=int)\n",
        "print(F)\n",
        "\n",
        "Z = np.zeros((2,4))\n",
        "print(Z)"
      ],
      "execution_count": 10,
      "outputs": [
        {
          "output_type": "stream",
          "text": [
            "[[1 1 1 1]\n",
            " [1 1 1 1]\n",
            " [1 1 1 1]]\n",
            "[[0. 0. 0. 0.]\n",
            " [0. 0. 0. 0.]]\n"
          ],
          "name": "stdout"
        }
      ]
    },
    {
      "metadata": {
        "id": "fXaPGzGYAQEF",
        "colab_type": "text"
      },
      "cell_type": "markdown",
      "source": [
        "**Identity Array (NXN Matrix)**\n",
        "\n",
        "identity(n, dtype=None)\n",
        "\n",
        "The output of identity is an 'n' x 'n' array with its main diagonal set to one, and all other elements are 0."
      ]
    },
    {
      "metadata": {
        "id": "dRsfZs0oAY8v",
        "colab_type": "code",
        "colab": {
          "autoexec": {
            "startup": false,
            "wait_interval": 0
          },
          "base_uri": "https://localhost:8080/",
          "height": 92
        },
        "outputId": "e15be8e0-e1bf-40cd-df0a-e0f0877ce004",
        "executionInfo": {
          "status": "ok",
          "timestamp": 1532565293171,
          "user_tz": -330,
          "elapsed": 2353,
          "user": {
            "displayName": "Girish Attri",
            "photoUrl": "https://lh3.googleusercontent.com/a/default-user=s128",
            "userId": "115884315507249014173"
          }
        }
      },
      "cell_type": "code",
      "source": [
        "np.identity(4, dtype=int)"
      ],
      "execution_count": 13,
      "outputs": [
        {
          "output_type": "execute_result",
          "data": {
            "text/plain": [
              "array([[1, 0, 0, 0],\n",
              "       [0, 1, 0, 0],\n",
              "       [0, 0, 1, 0],\n",
              "       [0, 0, 0, 1]])"
            ]
          },
          "metadata": {
            "tags": []
          },
          "execution_count": 13
        }
      ]
    },
    {
      "metadata": {
        "id": "4a4eYTyOCeuZ",
        "colab_type": "text"
      },
      "cell_type": "markdown",
      "source": [
        "**Data Type Objects, dtype**\n",
        "\n",
        "dtype allows to create \"Structured Arrays\", - also known as \"Record Arrays\". The structured arrays provides the ability to have different data types per column."
      ]
    },
    {
      "metadata": {
        "id": "T8ueZKMqDQ8P",
        "colab_type": "code",
        "colab": {
          "autoexec": {
            "startup": false,
            "wait_interval": 0
          },
          "base_uri": "https://localhost:8080/",
          "height": 262
        },
        "outputId": "7ece4cd6-d390-4c9d-d4e8-b86a7576bd10",
        "executionInfo": {
          "status": "ok",
          "timestamp": 1532566232244,
          "user_tz": -330,
          "elapsed": 1744,
          "user": {
            "displayName": "Girish Attri",
            "photoUrl": "https://lh3.googleusercontent.com/a/default-user=s128",
            "userId": "115884315507249014173"
          }
        }
      },
      "cell_type": "code",
      "source": [
        "dt = np.dtype([('country', 'S20'), ('density', 'i4'), ('area', 'i4'), ('population', 'i4')])\n",
        "\n",
        "population_table = np.array([\n",
        "    ('Netherlands', 393, 41526, 16928800),\n",
        "    ('Belgium', 337, 30510, 11007020),\n",
        "    ('United Kingdom', 256, 243610, 62262000),\n",
        "    ('Germany', 233, 357021, 81799600),\n",
        "    ('Liechtenstein', 205, 160, 32842),\n",
        "    ('Italy', 192, 301230, 59715625),\n",
        "    ('Switzerland', 177, 41290, 7301994),\n",
        "    ('Luxembourg', 173, 2586, 512000),\n",
        "    ('France', 111, 547030, 63601002),\n",
        "    ('Austria', 97, 83858, 8169929),\n",
        "    ('Greece', 81, 131940, 11606813),\n",
        "    ('Ireland', 65, 70280, 4581269),\n",
        "    ('Sweden', 20, 449964, 9515744),\n",
        "    ('Finland', 16, 338424, 5410233),\n",
        "    ('Norway', 13, 385252, 5033675)],\n",
        "    dtype=dt)\n",
        "\n",
        "print(population_table)\n",
        "\n",
        "print(\"Countries : \", population_table['country'])"
      ],
      "execution_count": 18,
      "outputs": [
        {
          "output_type": "stream",
          "text": [
            "[(b'Netherlands', 393,  41526, 16928800)\n",
            " (b'Belgium', 337,  30510, 11007020)\n",
            " (b'United Kingdom', 256, 243610, 62262000)\n",
            " (b'Germany', 233, 357021, 81799600)\n",
            " (b'Liechtenstein', 205,    160,    32842)\n",
            " (b'Italy', 192, 301230, 59715625) (b'Switzerland', 177,  41290,  7301994)\n",
            " (b'Luxembourg', 173,   2586,   512000) (b'France', 111, 547030, 63601002)\n",
            " (b'Austria',  97,  83858,  8169929) (b'Greece',  81, 131940, 11606813)\n",
            " (b'Ireland',  65,  70280,  4581269) (b'Sweden',  20, 449964,  9515744)\n",
            " (b'Finland',  16, 338424,  5410233) (b'Norway',  13, 385252,  5033675)]\n",
            "Countries :  [b'Netherlands' b'Belgium' b'United Kingdom' b'Germany' b'Liechtenstein'\n",
            " b'Italy' b'Switzerland' b'Luxembourg' b'France' b'Austria' b'Greece'\n",
            " b'Ireland' b'Sweden' b'Finland' b'Norway']\n"
          ],
          "name": "stdout"
        }
      ]
    },
    {
      "metadata": {
        "id": "kcVchEFDEg26",
        "colab_type": "text"
      },
      "cell_type": "markdown",
      "source": [
        "**Input and Output of Structured Arrays**\n",
        "\n"
      ]
    },
    {
      "metadata": {
        "id": "Cv52kQv5Erml",
        "colab_type": "code",
        "colab": {
          "autoexec": {
            "startup": false,
            "wait_interval": 0
          }
        }
      },
      "cell_type": "code",
      "source": [
        "np.savetxt(\"population_table.csv\",\n",
        "           population_table,\n",
        "           fmt=\"%s;%d;%d;%d\",           \n",
        "           delimiter=\";\")"
      ],
      "execution_count": 0,
      "outputs": []
    },
    {
      "metadata": {
        "id": "B4CqRSyiEyGB",
        "colab_type": "code",
        "colab": {
          "autoexec": {
            "startup": false,
            "wait_interval": 0
          },
          "base_uri": "https://localhost:8080/",
          "height": 300
        },
        "outputId": "7ca2e9e6-9238-49e2-fbe1-4e34349e4f84",
        "executionInfo": {
          "status": "ok",
          "timestamp": 1532566408268,
          "user_tz": -330,
          "elapsed": 2324,
          "user": {
            "displayName": "Girish Attri",
            "photoUrl": "https://lh3.googleusercontent.com/a/default-user=s128",
            "userId": "115884315507249014173"
          }
        }
      },
      "cell_type": "code",
      "source": [
        "dt = np.dtype([('country', np.unicode, 20), ('density', 'i4'), ('area', 'i4'), ('population', 'i4')])\n",
        "x = np.genfromtxt(\"population_table.csv\",\n",
        "               dtype=dt,\n",
        "               delimiter=\";\")\n",
        "print(x)"
      ],
      "execution_count": 20,
      "outputs": [
        {
          "output_type": "stream",
          "text": [
            "[(\"b'Netherlands'\", 393,  41526, 16928800)\n",
            " (\"b'Belgium'\", 337,  30510, 11007020)\n",
            " (\"b'United Kingdom'\", 256, 243610, 62262000)\n",
            " (\"b'Germany'\", 233, 357021, 81799600)\n",
            " (\"b'Liechtenstein'\", 205,    160,    32842)\n",
            " (\"b'Italy'\", 192, 301230, 59715625)\n",
            " (\"b'Switzerland'\", 177,  41290,  7301994)\n",
            " (\"b'Luxembourg'\", 173,   2586,   512000)\n",
            " (\"b'France'\", 111, 547030, 63601002)\n",
            " (\"b'Austria'\",  97,  83858,  8169929)\n",
            " (\"b'Greece'\",  81, 131940, 11606813)\n",
            " (\"b'Ireland'\",  65,  70280,  4581269)\n",
            " (\"b'Sweden'\",  20, 449964,  9515744)\n",
            " (\"b'Finland'\",  16, 338424,  5410233)\n",
            " (\"b'Norway'\",  13, 385252,  5033675)]\n"
          ],
          "name": "stdout"
        }
      ]
    },
    {
      "metadata": {
        "id": "DRoVelm1FbxI",
        "colab_type": "text"
      },
      "cell_type": "markdown",
      "source": [
        "**Exercise**\n",
        "\n",
        "Define a structured array with two columns. The first column contains the product ID, which can be defined as an int32. The second column shall contain the price for the product. How can you print out the column with the product IDs, the first row and the price for the third article of this structured array?"
      ]
    },
    {
      "metadata": {
        "id": "kAcS5pevFgCu",
        "colab_type": "code",
        "colab": {
          "autoexec": {
            "startup": false,
            "wait_interval": 0
          },
          "base_uri": "https://localhost:8080/",
          "height": 36
        },
        "outputId": "c682bafa-ffae-4102-87ce-ad4227bd92c1",
        "executionInfo": {
          "status": "ok",
          "timestamp": 1532566599767,
          "user_tz": -330,
          "elapsed": 1281,
          "user": {
            "displayName": "Girish Attri",
            "photoUrl": "https://lh3.googleusercontent.com/a/default-user=s128",
            "userId": "115884315507249014173"
          }
        }
      },
      "cell_type": "code",
      "source": [
        "mytype = [('productID', np.int32), ('price', np.float64)]\n",
        "stock = np.array([(34765, 603.76), \n",
        "                  (45765, 439.93),\n",
        "                  (99661, 344.19),\n",
        "                  (12129, 129.39)], dtype=mytype)\n",
        "\n",
        "print(stock[2][\"price\"])\n"
      ],
      "execution_count": 21,
      "outputs": [
        {
          "output_type": "stream",
          "text": [
            "344.19\n"
          ],
          "name": "stdout"
        }
      ]
    },
    {
      "metadata": {
        "id": "xzRvj5dnCb-q",
        "colab_type": "text"
      },
      "cell_type": "markdown",
      "source": [
        "# **Numerical Operations on numpy arrays**\n",
        "\n"
      ]
    },
    {
      "metadata": {
        "id": "f8NCKoyhCmak",
        "colab_type": "code",
        "colab": {
          "autoexec": {
            "startup": false,
            "wait_interval": 0
          },
          "base_uri": "https://localhost:8080/",
          "height": 300
        },
        "outputId": "e9bba44e-d78a-4e62-9293-4dc28ba3c691",
        "executionInfo": {
          "status": "ok",
          "timestamp": 1532571526259,
          "user_tz": -330,
          "elapsed": 1449,
          "user": {
            "displayName": "Girish Attri",
            "photoUrl": "https://lh3.googleusercontent.com/a/default-user=s128",
            "userId": "115884315507249014173"
          }
        }
      },
      "cell_type": "code",
      "source": [
        "#Using Scalars\n",
        "\n",
        "a= np.array([1,2,3])\n",
        "\n",
        "print(a*5)\n",
        "print(a-5)\n",
        "print(a*a)\n",
        "\n",
        "\n",
        "#Arithmetic Operations with Two arrays\n",
        "\n",
        "A = np.array([ [11, 12, 13], [21, 22, 23], [31, 32, 33] ])\n",
        "B = np.ones((3,3))\n",
        "\n",
        "print(\"Adding to arrays: \")\n",
        "print(A + B)\n",
        "print(\"Multiplying two arrays: \")\n",
        "print(A * (B + 1))\n",
        "print(\"Matrix Multiplication:\")\n",
        "print(np.dot(A,B))"
      ],
      "execution_count": 23,
      "outputs": [
        {
          "output_type": "stream",
          "text": [
            "[ 5 10 15]\n",
            "[-4 -3 -2]\n",
            "[1 4 9]\n",
            "Adding to arrays: \n",
            "[[12. 13. 14.]\n",
            " [22. 23. 24.]\n",
            " [32. 33. 34.]]\n",
            "Multiplying two arrays: \n",
            "[[22. 24. 26.]\n",
            " [42. 44. 46.]\n",
            " [62. 64. 66.]]\n",
            "Matrix Multiplication:\n",
            "[[36. 36. 36.]\n",
            " [66. 66. 66.]\n",
            " [96. 96. 96.]]\n"
          ],
          "name": "stdout"
        }
      ]
    },
    {
      "metadata": {
        "id": "5EmO7IQ4YlKy",
        "colab_type": "text"
      },
      "cell_type": "markdown",
      "source": [
        "**Logical Operations**\n",
        "\n"
      ]
    },
    {
      "metadata": {
        "id": "kehEyWA9YvMU",
        "colab_type": "code",
        "colab": {
          "autoexec": {
            "startup": false,
            "wait_interval": 0
          },
          "base_uri": "https://localhost:8080/",
          "height": 111
        },
        "outputId": "19750747-5127-4ee3-f99c-d0db09cd7e1b",
        "executionInfo": {
          "status": "ok",
          "timestamp": 1532571655289,
          "user_tz": -330,
          "elapsed": 1325,
          "user": {
            "displayName": "Girish Attri",
            "photoUrl": "https://lh3.googleusercontent.com/a/default-user=s128",
            "userId": "115884315507249014173"
          }
        }
      },
      "cell_type": "code",
      "source": [
        "a = np.array([ [True, True], [False, False]])\n",
        "b = np.array([ [True, False], [True, False]])\n",
        "print(np.logical_or(a, b))\n",
        "print(np.logical_and(a, b))\n",
        "print(np.array_equal(a,b))"
      ],
      "execution_count": 25,
      "outputs": [
        {
          "output_type": "stream",
          "text": [
            "[[ True  True]\n",
            " [ True False]]\n",
            "[[ True False]\n",
            " [False False]]\n",
            "False\n"
          ],
          "name": "stdout"
        }
      ]
    },
    {
      "metadata": {
        "id": "1eq-Dfl6Zjfw",
        "colab_type": "text"
      },
      "cell_type": "markdown",
      "source": [
        "**Distance Matrix**\n",
        "\n",
        "In mathematics, computer science and especially graph theory, a distance matrix is a matrix or a two-dimensional array, which contains the distances between the elements of a set, pairwise taken."
      ]
    },
    {
      "metadata": {
        "id": "vO1gz0VCZsKD",
        "colab_type": "code",
        "colab": {
          "autoexec": {
            "startup": false,
            "wait_interval": 0
          },
          "base_uri": "https://localhost:8080/",
          "height": 281
        },
        "outputId": "b0d5f378-3913-4cb6-cec9-f5572582b9e2",
        "executionInfo": {
          "status": "ok",
          "timestamp": 1532571900874,
          "user_tz": -330,
          "elapsed": 1341,
          "user": {
            "displayName": "Girish Attri",
            "photoUrl": "https://lh3.googleusercontent.com/a/default-user=s128",
            "userId": "115884315507249014173"
          }
        }
      },
      "cell_type": "code",
      "source": [
        "cities = [\"Barcelona\", \"Berlin\", \"Brussels\", \"Bucharest\",\n",
        "          \"Budapest\", \"Copenhagen\", \"Dublin\", \"Hamburg\", \"Istanbul\",\n",
        "          \"Kiev\", \"London\", \"Madrid\", \"Milan\", \"Moscow\", \"Munich\",\n",
        "          \"Paris\", \"Prague\", \"Rome\", \"Saint Petersburg\", \n",
        "          \"Stockholm\", \"Vienna\", \"Warsaw\"]\n",
        "dist2barcelona = [0,  1498, 1063, 1968, \n",
        "                  1498, 1758, 1469, 1472, 2230, \n",
        "                  2391, 1138, 505, 725, 3007, 1055, \n",
        "                  833, 1354, 857, 2813, \n",
        "                  2277, 1347, 1862]\n",
        "dists =  np.array(dist2barcelona[:12])\n",
        "print(dists)\n",
        "print(np.abs(dists - dists[:, np.newaxis]))"
      ],
      "execution_count": 26,
      "outputs": [
        {
          "output_type": "stream",
          "text": [
            "[   0 1498 1063 1968 1498 1758 1469 1472 2230 2391 1138  505]\n",
            "None\n",
            "[[   0 1498 1063 1968 1498 1758 1469 1472 2230 2391 1138  505]\n",
            " [1498    0  435  470    0  260   29   26  732  893  360  993]\n",
            " [1063  435    0  905  435  695  406  409 1167 1328   75  558]\n",
            " [1968  470  905    0  470  210  499  496  262  423  830 1463]\n",
            " [1498    0  435  470    0  260   29   26  732  893  360  993]\n",
            " [1758  260  695  210  260    0  289  286  472  633  620 1253]\n",
            " [1469   29  406  499   29  289    0    3  761  922  331  964]\n",
            " [1472   26  409  496   26  286    3    0  758  919  334  967]\n",
            " [2230  732 1167  262  732  472  761  758    0  161 1092 1725]\n",
            " [2391  893 1328  423  893  633  922  919  161    0 1253 1886]\n",
            " [1138  360   75  830  360  620  331  334 1092 1253    0  633]\n",
            " [ 505  993  558 1463  993 1253  964  967 1725 1886  633    0]]\n"
          ],
          "name": "stdout"
        }
      ]
    },
    {
      "metadata": {
        "id": "3I6qMtP2bQEZ",
        "colab_type": "text"
      },
      "cell_type": "markdown",
      "source": [
        "# Concatenating, Flattening and Adding Dimensions\n",
        "\n",
        "**flatten**\n",
        "\n",
        "flatten is a ndarry method with an optional keyword parameter \"order\". order can have the values \"C\", \"F\" and \"A\". The default of order is \"C\". \"C\" means to flatten C style in row-major ordering, i.e. the rightmost index \"changes the fastest\" or in other words: In row-major order, the row index varies the slowest, and the column index the quickest, so that a[0,1] follows [0,0]. \n",
        "\"F\" stands for Fortran column-major ordering. \"A\" means preserve the the C/Fortran ordering."
      ]
    },
    {
      "metadata": {
        "id": "HBwhV9ZSbgg3",
        "colab_type": "code",
        "colab": {
          "autoexec": {
            "startup": false,
            "wait_interval": 0
          },
          "base_uri": "https://localhost:8080/",
          "height": 92
        },
        "outputId": "cfccbfc3-8058-42ad-bbda-db1bfe739c66",
        "executionInfo": {
          "status": "ok",
          "timestamp": 1532572359499,
          "user_tz": -330,
          "elapsed": 1601,
          "user": {
            "displayName": "Girish Attri",
            "photoUrl": "https://lh3.googleusercontent.com/a/default-user=s128",
            "userId": "115884315507249014173"
          }
        }
      },
      "cell_type": "code",
      "source": [
        "A = np.array([[[ 0,  1],\n",
        "               [ 2,  3],\n",
        "               [ 4,  5],\n",
        "               [ 6,  7]],\n",
        "              [[ 8,  9],\n",
        "               [10, 11],\n",
        "               [12, 13],\n",
        "               [14, 15]],\n",
        "              [[16, 17],\n",
        "               [18, 19],\n",
        "               [20, 21],\n",
        "               [22, 23]]])\n",
        "Flattened_X = A.flatten()\n",
        "print(Flattened_X)\n",
        "print(A.flatten(order=\"C\"))\n",
        "print(A.flatten(order=\"F\"))\n",
        "print(A.flatten(order=\"A\"))"
      ],
      "execution_count": 27,
      "outputs": [
        {
          "output_type": "stream",
          "text": [
            "[ 0  1  2  3  4  5  6  7  8  9 10 11 12 13 14 15 16 17 18 19 20 21 22 23]\n",
            "[ 0  1  2  3  4  5  6  7  8  9 10 11 12 13 14 15 16 17 18 19 20 21 22 23]\n",
            "[ 0  8 16  2 10 18  4 12 20  6 14 22  1  9 17  3 11 19  5 13 21  7 15 23]\n",
            "[ 0  1  2  3  4  5  6  7  8  9 10 11 12 13 14 15 16 17 18 19 20 21 22 23]\n"
          ],
          "name": "stdout"
        }
      ]
    }
  ]
}