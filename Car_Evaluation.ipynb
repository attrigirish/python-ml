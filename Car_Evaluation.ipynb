{
  "nbformat": 4,
  "nbformat_minor": 0,
  "metadata": {
    "colab": {
      "name": "Untitled4.ipynb",
      "version": "0.3.2",
      "provenance": []
    },
    "kernelspec": {
      "name": "python3",
      "display_name": "Python 3"
    }
  },
  "cells": [
    {
      "metadata": {
        "id": "u0OrSDACs7Bd",
        "colab_type": "code",
        "colab": {}
      },
      "cell_type": "code",
      "source": [
        "import numpy as np\n",
        "import pandas as pd\n",
        "import matplotlib.pyplot as plt\n",
        "from sklearn import cross_validation, neighbors\n"
      ],
      "execution_count": 0,
      "outputs": []
    },
    {
      "metadata": {
        "id": "t7w6SoI8wQEq",
        "colab_type": "code",
        "colab": {
          "base_uri": "https://localhost:8080/",
          "height": 119
        },
        "outputId": "49d199d5-e887-45bc-8ac9-bcbbb1c026fb"
      },
      "cell_type": "code",
      "source": [
        "cars = pd.read_csv(\"http://archive.ics.uci.edu/ml/machine-learning-databases/car/car.data\")\n",
        "print(cars.head())"
      ],
      "execution_count": 84,
      "outputs": [
        {
          "output_type": "stream",
          "text": [
            "   vhigh vhigh.1  2 2.1  small   low  unacc\n",
            "0  vhigh   vhigh  2   2  small   med  unacc\n",
            "1  vhigh   vhigh  2   2  small  high  unacc\n",
            "2  vhigh   vhigh  2   2    med   low  unacc\n",
            "3  vhigh   vhigh  2   2    med   med  unacc\n",
            "4  vhigh   vhigh  2   2    med  high  unacc\n"
          ],
          "name": "stdout"
        }
      ]
    },
    {
      "metadata": {
        "id": "B2vWG2_gw_tJ",
        "colab_type": "code",
        "colab": {
          "base_uri": "https://localhost:8080/",
          "height": 119
        },
        "outputId": "4fb72256-d5b2-4c7e-d590-1f3c954fa3c9"
      },
      "cell_type": "code",
      "source": [
        "columns=[\"Buying\",\"Maint\",\"Door\",\"Persons\",\"Boot_lug\",\"Safety\",\"Result\"]\n",
        "cars.columns=columns\n",
        "print(cars.head())"
      ],
      "execution_count": 85,
      "outputs": [
        {
          "output_type": "stream",
          "text": [
            "  Buying  Maint Door Persons Boot_lug Safety Result\n",
            "0  vhigh  vhigh    2       2    small    med  unacc\n",
            "1  vhigh  vhigh    2       2    small   high  unacc\n",
            "2  vhigh  vhigh    2       2      med    low  unacc\n",
            "3  vhigh  vhigh    2       2      med    med  unacc\n",
            "4  vhigh  vhigh    2       2      med   high  unacc\n"
          ],
          "name": "stdout"
        }
      ]
    },
    {
      "metadata": {
        "id": "5bOqoE0J1qDI",
        "colab_type": "code",
        "colab": {}
      },
      "cell_type": "code",
      "source": [
        "#To Handle Non Numeric Data before fitting in classifier, we define a function to change the non numeric data into integers\n",
        "def TextToNumber(df):\n",
        "  columns=df.columns.values\n",
        "  for column in columns:\n",
        "    parseddata={}\n",
        "    def ConvertToInt(value):\n",
        "      return parseddata[value]\n",
        "    if(df[column].dtype!=np.int64 and df[column].dtype!=np.float64):\n",
        "      column_contents=df[column].values.tolist()\n",
        "      unique_elements=set(column_contents)\n",
        "      x=0\n",
        "      for unique in unique_elements:\n",
        "        if unique not in parseddata:\n",
        "          parseddata[unique]=x\n",
        "          x=x+1\n",
        "      df[column]=list(map(ConvertToInt,df[column]))\n",
        "  return df  \n",
        "#Function Ends\n"
      ],
      "execution_count": 0,
      "outputs": []
    },
    {
      "metadata": {
        "id": "NdvgyNgO43CO",
        "colab_type": "code",
        "colab": {
          "base_uri": "https://localhost:8080/",
          "height": 119
        },
        "outputId": "94398249-8fb2-4129-cd8f-694ef5b34f10"
      },
      "cell_type": "code",
      "source": [
        "y=np.array(cars['Result'])\n",
        "X=np.array(TextToNumber(cars.drop(['Result'],1)))\n",
        "\n",
        "print(X[:5])\n",
        "print(y[:5])"
      ],
      "execution_count": 87,
      "outputs": [
        {
          "output_type": "stream",
          "text": [
            "[[0 0 0 0 2 0]\n",
            " [0 0 0 0 2 1]\n",
            " [0 0 0 0 1 2]\n",
            " [0 0 0 0 1 0]\n",
            " [0 0 0 0 1 1]]\n",
            "['unacc' 'unacc' 'unacc' 'unacc' 'unacc']\n"
          ],
          "name": "stdout"
        }
      ]
    },
    {
      "metadata": {
        "id": "TCQgQpnJxcg8",
        "colab_type": "code",
        "colab": {
          "base_uri": "https://localhost:8080/",
          "height": 68
        },
        "outputId": "5bd0b028-b3a6-4c67-e088-f143725e42e4"
      },
      "cell_type": "code",
      "source": [
        "X_train,X_test,Y_train,Y_test=cross_validation.train_test_split(X,y,test_size=0.2)\n",
        "clf=neighbors.KNeighborsClassifier()\n",
        "\n",
        "clf.fit(X_train,Y_train)"
      ],
      "execution_count": 88,
      "outputs": [
        {
          "output_type": "execute_result",
          "data": {
            "text/plain": [
              "KNeighborsClassifier(algorithm='auto', leaf_size=30, metric='minkowski',\n",
              "           metric_params=None, n_jobs=1, n_neighbors=5, p=2,\n",
              "           weights='uniform')"
            ]
          },
          "metadata": {
            "tags": []
          },
          "execution_count": 88
        }
      ]
    },
    {
      "metadata": {
        "id": "MbIagvaf9JPy",
        "colab_type": "code",
        "colab": {
          "base_uri": "https://localhost:8080/",
          "height": 85
        },
        "outputId": "cd3cde98-6307-41bc-a8cc-e475ad701277"
      },
      "cell_type": "code",
      "source": [
        "predictdata=pd.concat([pd.Series(['vhigh']),pd.Series(['low']),pd.Series([2]),pd.Series(['more']),pd.Series(['med']),pd.Series(['low'])], axis=1)\n",
        "print(predictdata)\n",
        "predictdata=np.array(TextToNumber(predictdata))\n",
        "print(predictdata)\n",
        "predictdata.shape=(1,-1)\n",
        "#print(predictdata)\n",
        "prediction=clf.predict(predictdata)\n",
        "print(prediction)"
      ],
      "execution_count": 89,
      "outputs": [
        {
          "output_type": "stream",
          "text": [
            "       0    1  2     3    4    5\n",
            "0  vhigh  low  2  more  med  low\n",
            "[[0 0 2 0 0 0]]\n",
            "['unacc']\n"
          ],
          "name": "stdout"
        }
      ]
    }
  ]
}