{
  "nbformat": 4,
  "nbformat_minor": 0,
  "metadata": {
    "colab": {
      "name": "TF - 01 Program Elements.ipynb",
      "version": "0.3.2",
      "provenance": [],
      "collapsed_sections": [],
      "include_colab_link": true
    },
    "kernelspec": {
      "name": "python3",
      "display_name": "Python 3"
    }
  },
  "cells": [
    {
      "cell_type": "markdown",
      "metadata": {
        "id": "view-in-github",
        "colab_type": "text"
      },
      "source": [
        "<a href=\"https://colab.research.google.com/github/attrigirish/python-ml/blob/master/TF_01_Program_Elements.ipynb\" target=\"_parent\"><img src=\"https://colab.research.google.com/assets/colab-badge.svg\" alt=\"Open In Colab\"/></a>"
      ]
    },
    {
      "metadata": {
        "id": "U1ooOrhJyVzb",
        "colab_type": "code",
        "colab": {}
      },
      "cell_type": "code",
      "source": [
        "import tensorflow as tf"
      ],
      "execution_count": 0,
      "outputs": []
    },
    {
      "metadata": {
        "id": "I4m6OTEkyciA",
        "colab_type": "text"
      },
      "cell_type": "markdown",
      "source": [
        "Tensorflow Program Elements \n",
        "\n",
        "1. Constant\n",
        "2. Variable\n",
        "3. Placeholder"
      ]
    },
    {
      "metadata": {
        "id": "_Q4O3MFqyzZ3",
        "colab_type": "code",
        "outputId": "bdebc404-0d0a-49c6-e78f-3894e56d67ee",
        "colab": {
          "base_uri": "https://localhost:8080/",
          "height": 102
        }
      },
      "cell_type": "code",
      "source": [
        "a=tf.constant(5.0)   #Simple Constant\n",
        "b=tf.constant(3.0, dtype=tf.float32)\n",
        "c=tf.constant(4, name='c')\n",
        "d=tf.constant([43,65,45])\n",
        "e=tf.constant([ [43,54], [54,23] ])\n",
        "\n",
        "print(a)\n",
        "print(b)\n",
        "print(c)\n",
        "print(d)\n",
        "print(e)"
      ],
      "execution_count": 0,
      "outputs": [
        {
          "output_type": "stream",
          "text": [
            "Tensor(\"Const_2:0\", shape=(), dtype=float32)\n",
            "Tensor(\"Const_3:0\", shape=(), dtype=float32)\n",
            "Tensor(\"c_1:0\", shape=(), dtype=int32)\n",
            "Tensor(\"Const_4:0\", shape=(3,), dtype=int32)\n",
            "Tensor(\"Const_5:0\", shape=(2, 2), dtype=int32)\n"
          ],
          "name": "stdout"
        }
      ]
    },
    {
      "metadata": {
        "id": "h5hTM0LMzd39",
        "colab_type": "code",
        "outputId": "c9ad1f52-451f-43be-a46d-2c24db495c59",
        "colab": {
          "base_uri": "https://localhost:8080/",
          "height": 34
        }
      },
      "cell_type": "code",
      "source": [
        "result=tf.add(a,b)\n",
        "print(result)"
      ],
      "execution_count": 0,
      "outputs": [
        {
          "output_type": "stream",
          "text": [
            "Tensor(\"Add:0\", shape=(), dtype=float32)\n"
          ],
          "name": "stdout"
        }
      ]
    },
    {
      "metadata": {
        "id": "qmuBIsH_zpEu",
        "colab_type": "code",
        "outputId": "d790d800-1dfc-457a-dd65-516b496cdfff",
        "colab": {
          "base_uri": "https://localhost:8080/",
          "height": 34
        }
      },
      "cell_type": "code",
      "source": [
        "sess = tf.Session()\n",
        "print(sess.run(result))\n",
        "sess.close()"
      ],
      "execution_count": 0,
      "outputs": [
        {
          "output_type": "stream",
          "text": [
            "8.0\n"
          ],
          "name": "stdout"
        }
      ]
    },
    {
      "metadata": {
        "id": "p0wteZMr0JNk",
        "colab_type": "code",
        "colab": {}
      },
      "cell_type": "code",
      "source": [
        "with tf.Session() as sess:\n",
        "  print(sess.run(result))\n",
        "\n",
        "#print(sess.run(result))\n",
        "  "
      ],
      "execution_count": 0,
      "outputs": []
    },
    {
      "metadata": {
        "id": "LCYuBDbi2VwJ",
        "colab_type": "code",
        "colab": {}
      },
      "cell_type": "code",
      "source": [
        "#Constant Variables\n",
        "\n",
        "v1=tf.constant(5.0)\n",
        "v2=tf.constant(10.0)\n",
        "\n",
        "r1 = tf.add(v1,v2)\n",
        "update = tf.assign(v1,r1)\n",
        "\n",
        "sess = tf.Session()\n",
        "\n",
        "print(sess.run(update))\n",
        "print(sess.run(v1))\n",
        "\n",
        "sess.close()"
      ],
      "execution_count": 0,
      "outputs": []
    },
    {
      "metadata": {
        "id": "Nn6mTyPd0kPj",
        "colab_type": "code",
        "outputId": "1e607c4e-7cf6-42a9-80cd-7db1a2a6861c",
        "colab": {
          "base_uri": "https://localhost:8080/",
          "height": 51
        }
      },
      "cell_type": "code",
      "source": [
        "#Session Variables\n",
        "\n",
        "v1=tf.Variable(5.0)\n",
        "v2=tf.Variable(10.0)\n",
        "\n",
        "init_var = tf.global_variables_initializer()\n",
        "r1 = tf.add(v1,v2)\n",
        "update = tf.assign(v1,r1)\n",
        "\n",
        "sess = tf.Session()\n",
        "\n",
        "sess.run(init_var)\n",
        "print(sess.run(update))\n",
        "print(sess.run(v1))\n",
        "\n",
        "sess.close()"
      ],
      "execution_count": 0,
      "outputs": [
        {
          "output_type": "stream",
          "text": [
            "15.0\n",
            "15.0\n"
          ],
          "name": "stdout"
        }
      ]
    },
    {
      "metadata": {
        "id": "_Vcfk9Pb2j-3",
        "colab_type": "code",
        "outputId": "b39d8ccd-e595-40ff-a4d4-ecda4c4c046e",
        "colab": {
          "base_uri": "https://localhost:8080/",
          "height": 34
        }
      },
      "cell_type": "code",
      "source": [
        "#Session Variables\n",
        "\n",
        "v1=tf.Variable([1,2,3,4,5])\n",
        "v2=tf.Variable([11,22,33,44,55])\n",
        "\n",
        "init_var = tf.global_variables_initializer()\n",
        "r1 = tf.add(v1,v2)\n",
        "update = tf.assign(v1,r1)\n",
        "\n",
        "sess = tf.Session()\n",
        "\n",
        "sess.run(init_var)\n",
        "sess.run(update)\n",
        "print(sess.run(v1))\n",
        "\n",
        "sess.close()"
      ],
      "execution_count": 0,
      "outputs": [
        {
          "output_type": "stream",
          "text": [
            "[12 24 36 48 60]\n"
          ],
          "name": "stdout"
        }
      ]
    },
    {
      "metadata": {
        "id": "JWH_x7-l2-gQ",
        "colab_type": "code",
        "colab": {}
      },
      "cell_type": "code",
      "source": [
        "import tensorflow as tf\n",
        "\n",
        "with tf.name_scope('hidden') as scope:\n",
        "  a = tf.constant(5, name='alpha')\n",
        "  W = tf.Variable(tf.random_uniform([1, 2], -1.0, 1.0), name='weights')\n",
        "  b = tf.Variable(tf.zeros([1]), name='biases')"
      ],
      "execution_count": 0,
      "outputs": []
    },
    {
      "metadata": {
        "id": "3AqEls-b4clU",
        "colab_type": "code",
        "outputId": "4cf8c2b4-d9cf-47a2-980c-c9708556ff6d",
        "colab": {
          "base_uri": "https://localhost:8080/",
          "height": 51
        }
      },
      "cell_type": "code",
      "source": [
        "r=tf.placeholder(dtype=tf.float32)\n",
        "pi=tf.constant(3.14)\n",
        "area=pi*r*r\n",
        "\n",
        "sess=tf.Session()\n",
        "value=float(input(\"Enter Radius : \"))\n",
        "print(sess.run(area,{r:value}))\n",
        "sess.close()"
      ],
      "execution_count": 0,
      "outputs": [
        {
          "output_type": "stream",
          "text": [
            "Enter Radius : 8\n",
            "200.96\n"
          ],
          "name": "stdout"
        }
      ]
    },
    {
      "metadata": {
        "id": "HeHfwX-R9L1X",
        "colab_type": "code",
        "outputId": "a983d809-a8db-4280-82b5-5975933ee70e",
        "colab": {
          "base_uri": "https://localhost:8080/",
          "height": 34
        }
      },
      "cell_type": "code",
      "source": [
        "import tensorflow as tf\n",
        "# To clear the defined variables and operations of the previous cell\n",
        "tf.reset_default_graph()   \n",
        "# create graph\n",
        "a = tf.constant(2)\n",
        "b = tf.constant(3)\n",
        "c = tf.add(a, b)\n",
        "# creating the writer out of the session\n",
        "# writer = tf.summary.FileWriter('./graphs', tf.get_default_graph())\n",
        "# launch the graph in a session\n",
        "with tf.Session() as sess:\n",
        "    # or creating the writer inside the session\n",
        "    writer = tf.summary.FileWriter('./graphs', sess.graph)\n",
        "    print(sess.run(c))"
      ],
      "execution_count": 0,
      "outputs": [
        {
          "output_type": "stream",
          "text": [
            "5\n"
          ],
          "name": "stdout"
        }
      ]
    }
  ]
}