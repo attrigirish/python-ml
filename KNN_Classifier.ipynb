{
  "nbformat": 4,
  "nbformat_minor": 0,
  "metadata": {
    "colab": {
      "name": "KNN Classifier.ipynb",
      "version": "0.3.2",
      "provenance": [],
      "include_colab_link": true
    },
    "kernelspec": {
      "name": "python3",
      "display_name": "Python 3"
    }
  },
  "cells": [
    {
      "cell_type": "markdown",
      "metadata": {
        "id": "view-in-github",
        "colab_type": "text"
      },
      "source": [
        "[View in Colaboratory](https://colab.research.google.com/github/attrigirish/python-ml/blob/master/KNN_Classifier.ipynb)"
      ]
    },
    {
      "metadata": {
        "id": "Ui5V9R8HxB3m",
        "colab_type": "text"
      },
      "cell_type": "markdown",
      "source": [
        "# Euclidean Distance theory\n",
        "\n",
        "\n",
        "Formulae to find the closest distances\n",
        "\n",
        "\n",
        "![alt text](https://pythonprogramming.net/static/images/machine-learning/euclidean-distance.png)"
      ]
    },
    {
      "metadata": {
        "id": "mPEClOZatw3N",
        "colab_type": "code",
        "colab": {
          "base_uri": "https://localhost:8080/",
          "height": 36
        },
        "outputId": "54ee2169-aae8-4926-f375-7c4983ba0188"
      },
      "cell_type": "code",
      "source": [
        "#Finding the distance between two points\n",
        "\n",
        "from math import sqrt\n",
        "\n",
        "x = [1,3]\n",
        "y = [2,5]\n",
        "euclidean_distance = sqrt( (x[0]-y[0])**2 + (x[1]-y[1])**2 )\n",
        "\n",
        "print(euclidean_distance)\n"
      ],
      "execution_count": 0,
      "outputs": [
        {
          "output_type": "stream",
          "text": [
            "2.23606797749979\n"
          ],
          "name": "stdout"
        }
      ]
    },
    {
      "metadata": {
        "id": "r52--uxJx94w",
        "colab_type": "code",
        "colab": {}
      },
      "cell_type": "code",
      "source": [
        "#Import Statements\n",
        "\n",
        "import numpy as np\n",
        "import matplotlib.pyplot as plt\n",
        "from math import sqrt\n",
        "from collections import Counter"
      ],
      "execution_count": 0,
      "outputs": []
    },
    {
      "metadata": {
        "id": "9FL2cLF9ysgj",
        "colab_type": "code",
        "colab": {}
      },
      "cell_type": "code",
      "source": [
        "dataset = {'b':[[1,2],[2,3],[3,1]], 'r':[[6,5],[7,7],[8,6]],'c':[[3,5],[4,7],[3,8]]}\n",
        "prediction = [6,1]"
      ],
      "execution_count": 0,
      "outputs": []
    },
    {
      "metadata": {
        "id": "8EEbnsmLy3_v",
        "colab_type": "code",
        "colab": {
          "base_uri": "https://localhost:8080/",
          "height": 365
        },
        "outputId": "682b1cbc-cd1a-4299-8767-998d89d38597"
      },
      "cell_type": "code",
      "source": [
        "#Plotting DataSet and New Features on the Graph\n",
        "\n",
        "for key in dataset:\n",
        "    for value in dataset[key]:\n",
        "        plt.scatter(value[0],value[1],color=key)\n",
        "        \n",
        "        \n",
        "plt.scatter(prediction[0],prediction[1],color='g')"
      ],
      "execution_count": 0,
      "outputs": [
        {
          "output_type": "execute_result",
          "data": {
            "text/plain": [
              "<matplotlib.collections.PathCollection at 0x7f35e95d39b0>"
            ]
          },
          "metadata": {
            "tags": []
          },
          "execution_count": 9
        },
        {
          "output_type": "display_data",
          "data": {
            "image/png": "[encoded data removed]",
            "text/plain": [
              "<matplotlib.figure.Figure at 0x7f35ebf284e0>"
            ]
          },
          "metadata": {
            "tags": []
          }
        }
      ]
    },
    {
      "metadata": {
        "id": "iMGRor9RzwPD",
        "colab_type": "code",
        "colab": {
          "base_uri": "https://localhost:8080/",
          "height": 128
        },
        "outputId": "9e874f51-84de-494f-e3df-b0e9e4398a89"
      },
      "cell_type": "code",
      "source": [
        "#Customer KNN Classifier\n",
        "\n",
        "def k_nearest_neighbors(data, predict, k=3):\n",
        "    if len(data) >= k:\n",
        "        print('K is set to a value less than total voting groups!')\n",
        "        \n",
        "        \n",
        "    distances = []\n",
        "    for group in data:\n",
        "        for features in data[group]:\n",
        "            euclidean_distance = sqrt( (features[0]-predict[0])**2 + (features[1]-predict[1])**2 )\n",
        "            distances.append([euclidean_distance,group])\n",
        "            \n",
        "    \n",
        "    distances=sorted(distances)\n",
        "    \n",
        "    print(distances)\n",
        "    \n",
        "    votes=[]\n",
        "    \n",
        "    for record in distances[:k]:\n",
        "      votes.append(record[1])\n",
        "\n",
        "    print(votes)  \n",
        "    \n",
        "    vote_result=Counter(votes).most_common(1)\n",
        "    \n",
        "    print(vote_result)\n",
        "      \n",
        "    return vote_result[0][0]\n",
        "  \n",
        "  \n",
        "\n",
        "k_nearest_neighbors(dataset,prediction)"
      ],
      "execution_count": 0,
      "outputs": [
        {
          "output_type": "stream",
          "text": [
            "K is set to a value less than total voting groups!\n",
            "[[3.0, 'b'], [4.0, 'r'], [4.47213595499958, 'b'], [5.0, 'c'], [5.0990195135927845, 'b'], [5.385164807134504, 'r'], [6.082762530298219, 'r'], [6.324555320336759, 'c'], [7.615773105863909, 'c']]\n",
            "['b', 'r', 'b']\n",
            "[('b', 2)]\n"
          ],
          "name": "stdout"
        },
        {
          "output_type": "execute_result",
          "data": {
            "text/plain": [
              "'b'"
            ]
          },
          "metadata": {
            "tags": []
          },
          "execution_count": 10
        }
      ]
    },
    {
      "metadata": {
        "id": "RaU2LEBq3CKi",
        "colab_type": "code",
        "colab": {
          "base_uri": "https://localhost:8080/",
          "height": 458
        },
        "outputId": "def84b5d-6c05-4786-ea92-17f2135190bc"
      },
      "cell_type": "code",
      "source": [
        "#Predicting the Output\n",
        "\n",
        "result=k_nearest_neighbors(dataset,prediction)\n",
        "\n",
        "for key in dataset:\n",
        "    for value in dataset[key]:\n",
        "        plt.scatter(value[0],value[1],color=key)\n",
        "        \n",
        "        \n",
        "plt.scatter(prediction[0],prediction[1],color=result)"
      ],
      "execution_count": 0,
      "outputs": [
        {
          "output_type": "stream",
          "text": [
            "K is set to a value less than total voting groups!\n",
            "[[3.0, 'b'], [4.0, 'r'], [4.47213595499958, 'b'], [5.0, 'c'], [5.0990195135927845, 'b'], [5.385164807134504, 'r'], [6.082762530298219, 'r'], [6.324555320336759, 'c'], [7.615773105863909, 'c']]\n",
            "['b', 'r', 'b']\n",
            "[('b', 2)]\n"
          ],
          "name": "stdout"
        },
        {
          "output_type": "execute_result",
          "data": {
            "text/plain": [
              "<matplotlib.collections.PathCollection at 0x7f35e94d9240>"
            ]
          },
          "metadata": {
            "tags": []
          },
          "execution_count": 11
        },
        {
          "output_type": "display_data",
          "data": {
            "image/png": "[encoded data removed]",
            "text/plain": [
              "<matplotlib.figure.Figure at 0x7f35e9586668>"
            ]
          },
          "metadata": {
            "tags": []
          }
        }
      ]
    }
  ]
}