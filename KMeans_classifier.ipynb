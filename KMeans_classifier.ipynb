{
  "nbformat": 4,
  "nbformat_minor": 0,
  "metadata": {
    "colab": {
      "name": "KMeans classifier.ipynb",
      "version": "0.3.2",
      "provenance": [],
      "collapsed_sections": [],
      "include_colab_link": true
    },
    "kernelspec": {
      "name": "python3",
      "display_name": "Python 3"
    }
  },
  "cells": [
    {
      "cell_type": "markdown",
      "metadata": {
        "id": "view-in-github",
        "colab_type": "text"
      },
      "source": [
        "[View in Colaboratory](https://colab.research.google.com/github/attrigirish/python-ml/blob/master/KMeans_classifier.ipynb)"
      ]
    },
    {
      "metadata": {
        "id": "vBbRVcDr4bxr",
        "colab_type": "code",
        "colab": {
          "base_uri": "https://localhost:8080/",
          "height": 347
        },
        "outputId": "b95dc86c-10fd-4990-bad9-9111e8b323bd"
      },
      "cell_type": "code",
      "source": [
        "import matplotlib.pyplot as plt\n",
        "import numpy as np\n",
        "\n",
        "X = np.array([[2.9, 2.2],\n",
        "              [2.6,2.4],\n",
        "              [2.3, 2.3],\n",
        "              [2.5, 2.6],\n",
        "              [2.1, 2.3 ],              \n",
        "              [2.4, 2],\n",
        "              [2.6,2],\n",
        "              [2.6,2.2],\n",
        "              [2,2.2],\n",
        "             [2.5,2.0],\n",
        "             [2.25,2.25]])\n",
        "\n",
        "plt.scatter(X[:,0], X[:,1])\n",
        "plt.show()"
      ],
      "execution_count": 40,
      "outputs": [
        {
          "output_type": "display_data",
          "data": {
            "image/png": "[encoded data removed]",
            "text/plain": [
              "<matplotlib.figure.Figure at 0x7fc5b33dd5f8>"
            ]
          },
          "metadata": {
            "tags": []
          }
        }
      ]
    },
    {
      "metadata": {
        "id": "XbWR7h0a4msd",
        "colab_type": "code",
        "colab": {
          "base_uri": "https://localhost:8080/",
          "height": 297
        },
        "outputId": "6315fa25-85cc-4675-aff0-0e7bc8eec6dc"
      },
      "cell_type": "code",
      "source": [
        "class K_Means:\n",
        "  \n",
        "    def __init__(self, k=2, tol=0.001, max_iter=300):\n",
        "        self.k = k\n",
        "        self.tol = tol\n",
        "        self.max_iter = max_iter\n",
        "        \n",
        "    def fit(self,data):\n",
        "        self.centroids = {}\n",
        "        for i in range(self.k):\n",
        "            self.centroids[i] = data[i]\n",
        "            \n",
        "        print(\"Centroids : \", self.centroids)\n",
        "            \n",
        "        for i in range(self.max_iter):\n",
        "            print(\"Iteration Number : \", (i+1))\n",
        "            \n",
        "            self.classifications = {}\n",
        "\n",
        "            for i in range(self.k):\n",
        "                self.classifications[i] = []\n",
        "                              \n",
        "            for featureset in data:\n",
        "                distances = [np.linalg.norm(featureset-self.centroids[centroid]) for centroid in self.centroids]\n",
        "                print(\"Feature : \", featureset,\"Distances : \", distances, end=\"\\t\")\n",
        "                classification = distances.index(min(distances))\n",
        "                print(\"Class : \", classification)\n",
        "                self.classifications[classification].append(featureset)\n",
        "                             \n",
        "            print(\"Iteration : \", i, \"\\t\", \"Classifications : \", self.classifications)\n",
        "                        \n",
        "\n",
        "            prev_centroids = dict(self.centroids)\n",
        "\n",
        "            for classification in self.classifications:\n",
        "                self.centroids[classification] = np.average(self.classifications[classification],axis=0)\n",
        "\n",
        "            \n",
        "            print(\"New Centroids : \", self.centroids)            \n",
        "            \n",
        "            optimized = True\n",
        "\n",
        "            for c in self.centroids:\n",
        "                original_centroid = prev_centroids[c]\n",
        "                current_centroid = self.centroids[c]\n",
        "                if np.sum((current_centroid-original_centroid)/original_centroid*100.0) > self.tol:\n",
        "                    #print(np.sum((current_centroid-original_centroid)/original_centroid*100.0))\n",
        "                    optimized = False\n",
        "\n",
        "            if optimized:\n",
        "                break\n",
        "                \n",
        "            #Fit function ends here\n",
        "            print(\"-\"*30)\n",
        "\n",
        "    def predict(self,data):\n",
        "        distances = [np.linalg.norm(data-self.centroids[centroid]) for centroid in self.centroids]\n",
        "        classification = distances.index(min(distances))\n",
        "        return classification\n",
        "      \n",
        "      \n",
        "clf = K_Means()\n",
        "clf.fit(X)\n"
      ],
      "execution_count": 41,
      "outputs": [
        {
          "output_type": "stream",
          "text": [
            "Centroids :  {0: array([2.9, 2.2]), 1: array([2.6, 2.4])}\n",
            "Iteration Number :  1\n",
            "Feature :  [2.9 2.2] Distances :  [0.0, 0.3605551275463986]\tClass :  0\n",
            "Feature :  [2.6 2.4] Distances :  [0.3605551275463986, 0.0]\tClass :  1\n",
            "Feature :  [2.3 2.3] Distances :  [0.608276253029822, 0.3162277660168382]\tClass :  1\n",
            "Feature :  [2.5 2.6] Distances :  [0.5656854249492379, 0.22360679774997916]\tClass :  1\n",
            "Feature :  [2.1 2.3] Distances :  [0.8062257748298547, 0.5099019513592785]\tClass :  1\n",
            "Feature :  [2.4 2. ] Distances :  [0.5385164807134505, 0.4472135954999579]\tClass :  1\n",
            "Feature :  [2.6 2. ] Distances :  [0.3605551275463989, 0.3999999999999999]\tClass :  0\n",
            "Feature :  [2.6 2.2] Distances :  [0.2999999999999998, 0.19999999999999973]\tClass :  1\n",
            "Feature :  [2.  2.2] Distances :  [0.8999999999999999, 0.6324555320336759]\tClass :  1\n",
            "Feature :  [2.5 2. ] Distances :  [0.4472135954999579, 0.41231056256176596]\tClass :  1\n",
            "Feature :  [2.25 2.25] Distances :  [0.6519202405202648, 0.3807886552931955]\tClass :  1\n",
            "Iteration :  1 \t Classifications :  {0: [array([2.9, 2.2]), array([2.6, 2. ])], 1: [array([2.6, 2.4]), array([2.3, 2.3]), array([2.5, 2.6]), array([2.1, 2.3]), array([2.4, 2. ]), array([2.6, 2.2]), array([2. , 2.2]), array([2.5, 2. ]), array([2.25, 2.25])]}\n",
            "New Centroids :  {0: array([2.75, 2.1 ]), 1: array([2.36111111, 2.25      ])}\n"
          ],
          "name": "stdout"
        }
      ]
    },
    {
      "metadata": {
        "id": "4Tn7l26s4rtP",
        "colab_type": "code",
        "colab": {
          "base_uri": "https://localhost:8080/",
          "height": 385
        },
        "outputId": "6302ed83-dfde-4015-fb4a-379527fec7e9"
      },
      "cell_type": "code",
      "source": [
        "clf = K_Means()\n",
        "clf.fit(X)\n",
        "\n",
        "colors = [\"g\",\"r\"]\n",
        "\n",
        "for centroid in clf.centroids:\n",
        "    plt.scatter(clf.centroids[centroid][0], clf.centroids[centroid][1],marker=\"o\", color=\"k\")\n",
        "\n",
        "for classification in clf.classifications:\n",
        "    color = colors[classification]\n",
        "    for featureset in clf.classifications[classification]:\n",
        "        plt.scatter(featureset[0], featureset[1], marker=\"x\", color=color)"
      ],
      "execution_count": 8,
      "outputs": [
        {
          "output_type": "stream",
          "text": [
            "453.3333333333334\n",
            "102.72108843537411\n"
          ],
          "name": "stdout"
        },
        {
          "output_type": "display_data",
          "data": {
            "image/png": "[encoded data removed]",
            "text/plain": [
              "<matplotlib.figure.Figure at 0x7f377c5cc198>"
            ]
          },
          "metadata": {
            "tags": []
          }
        }
      ]
    }
  ]
}